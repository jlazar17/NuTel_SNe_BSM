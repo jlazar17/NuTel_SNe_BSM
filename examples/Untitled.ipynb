{
 "cells": [
  {
   "cell_type": "code",
   "execution_count": 8,
   "id": "08f93d25-a827-4d94-988d-2f24511ea20b",
   "metadata": {},
   "outputs": [],
   "source": [
    "import numpy as np\n",
    "import h5py as h5\n",
    "\n",
    "import os\n",
    "\n",
    "from glob import glob\n",
    "from tqdm import tqdm\n",
    "\n",
    "import sys\n",
    "sys.path.append(\"../\")\n",
    "sys.path.append(\"../../ASTERIA/python/\")\n",
    "from sne_bsm import parameterized_flux_from_files, units\n",
    "from sne_bsm.flux.parametrize_flux import compute_moment, Params, parameterized_flux_from_h5, deserialize\n",
    "from sne_bsm.flux.sanitize_flux import sanitize_flux\n",
    "from sne_bsm.likelihood import find_significance_matrix\n",
    "\n",
    "from tqdm import tqdm\n",
    "\n",
    "import os\n",
    "os.environ[\"ASTERIA\"] = \"/Users/jlazar/research/ASTERIA\""
   ]
  },
  {
   "cell_type": "code",
   "execution_count": 3,
   "id": "648f9737-611e-4e36-ba2e-5b4ec4c64133",
   "metadata": {},
   "outputs": [],
   "source": [
    "TABULATED_SM_FILE = \"./data/sm_flux.h5\"\n",
    "SERIALIZED_SM_FILE = \"./data/serialized_sm_flux.h5\"\n",
    "\n",
    "TABULATED_MAJORAN_FILE = \"./data/majoran_fluxes.h5\"\n",
    "SERIALIZED_MAJORAN_FILE = \"./data/serialized_majoran_fluxes.h5\"\n",
    "\n",
    "TABULATED_HNL_FILE = \"./data/magnetic_moment_fluxes.h5\"\n",
    "SERIALIZED_HNL_FILE = \"./data/serialized_magnetic_moment_fluxes.h5\"\n",
    "\n",
    "RESULTS_FILE = \"./data/results.h5\""
   ]
  },
  {
   "cell_type": "code",
   "execution_count": 3,
   "id": "772a2a9a-b5f4-4961-b789-b1aaa3bd683a",
   "metadata": {},
   "outputs": [
    {
     "name": "stderr",
     "output_type": "stream",
     "text": [
      "100%|██████████| 63/63 [32:49<00:00, 31.26s/it]\n"
     ]
    }
   ],
   "source": [
    "infiles = glob(\"../data/majoron/from_yingying/*.csv\")\n",
    "for infile in tqdm(infiles):\n",
    "    outfile = f\"./data/{infile.split('/')[-1].replace('csv', 'npy')}\"\n",
    "    # if os.path.exists(outfile):\n",
    "    #     continue\n",
    "    a = np.genfromtxt(infile, delimiter=\",\")\n",
    "    # a[:, 2] = a[:, 2] / 6\n",
    "    a[:, 2] = np.where(a[:, 2]>=0, a[:, 2] / 6, 0)\n",
    "    np.save(outfile, a)"
   ]
  },
  {
   "cell_type": "code",
   "execution_count": 12,
   "id": "033ee0e5-d0a9-432f-b625-596f27f72df2",
   "metadata": {},
   "outputs": [
    {
     "name": "stderr",
     "output_type": "stream",
     "text": [
      "100%|██████████| 41/41 [00:20<00:00,  1.95it/s]\n"
     ]
    }
   ],
   "source": [
    "infiles = glob(\"../data/magnetic_moment//from_yingying/*.csv\")\n",
    "for infile in tqdm(infiles):\n",
    "    outfile = f\"./data/{infile.split('/')[-1].replace('csv', 'npy')}\"\n",
    "    if os.path.exists(outfile):\n",
    "        continue\n",
    "    a = np.genfromtxt(infile, delimiter=\",\")\n",
    "    # a[:, 2] = a[:, 2] / 6\n",
    "    a[:, 2] = np.where(a[:, 2]>=0, a[:, 2] / 6, 0)\n",
    "    np.save(outfile, a)"
   ]
  },
  {
   "cell_type": "code",
   "execution_count": 13,
   "id": "e4384d7f-e4ce-4cab-a2a0-a53b09164742",
   "metadata": {},
   "outputs": [
    {
     "name": "stderr",
     "output_type": "stream",
     "text": [
      "100%|██████████| 63/63 [02:35<00:00,  2.46s/it]\n"
     ]
    }
   ],
   "source": [
    "if not os.path.exists(TABULATED_MAJORAN_FILE):\n",
    "    with h5.File(TABULATED_MAJORAN_FILE, \"w\") as _:\n",
    "        pass\n",
    "\n",
    "for infile in tqdm(infiles):\n",
    "    key = infile.split(\"/\")[-1].replace(\".csv\", \"\")\n",
    "    infile = f\"./data/{infile.split('/')[-1].replace('csv', 'npy')}\"\n",
    "    arr = np.load(infile)\n",
    "    times = np.sort(np.unique(arr[:, 0])) * units[\"second\"]\n",
    "    energies = np.sort(np.unique(arr[:, 1])) * units[\"MeV\"]\n",
    "    fluxes = np.empty(times.shape + energies.shape + (3,),)\n",
    "\n",
    "    for idx in range(len(times)):\n",
    "        flux = arr[idx*len(energies):(idx+1)*len(energies), 2] / units[\"MeV\"] / units[\"second\"]\n",
    "        flux = np.where(flux >= 0, flux, 0) # Sometimes numerical issues can sneak in to give negative fluxes\n",
    "        fluxes[idx, :, 0] = flux # nue\n",
    "        fluxes[idx, :, 1] = flux # nuebar\n",
    "        fluxes[idx, :, 2] = flux # nux per flavor\n",
    "\n",
    "    with h5.File(TABULATED_MAJORAN_FILE, \"r+\") as h5f:\n",
    "\n",
    "        if key in h5f.keys():\n",
    "            # del h5f[key]\n",
    "            continue\n",
    "\n",
    "        h5f.create_group(key)\n",
    "        h5f[key].create_dataset(\"energies\", data=energies)\n",
    "        h5f[key].create_dataset(\"times\", data=times)\n",
    "        h5f[key].create_dataset(\"fluxes\", data=fluxes)"
   ]
  },
  {
   "cell_type": "code",
   "execution_count": 13,
   "id": "2b06aeb3-c293-43da-95ea-4df853e2f2e7",
   "metadata": {},
   "outputs": [
    {
     "name": "stderr",
     "output_type": "stream",
     "text": [
      "100%|██████████| 41/41 [00:20<00:00,  1.98it/s]\n"
     ]
    }
   ],
   "source": [
    "if not os.path.exists(TABULATED_HNL_FILE):\n",
    "    with h5.File(TABULATED_HNL_FILE, \"w\") as _:\n",
    "        pass\n",
    "\n",
    "for infile in tqdm(infiles):\n",
    "    key = infile.split(\"/\")[-1].replace(\".csv\", \"\")\n",
    "    infile = f\"./data/{infile.split('/')[-1].replace('csv', 'npy')}\"\n",
    "    arr = np.load(infile)\n",
    "    times = np.sort(np.unique(arr[:, 0])) * units[\"second\"]\n",
    "    energies = np.sort(np.unique(arr[:, 1])) * units[\"MeV\"]\n",
    "    fluxes = np.empty(times.shape + energies.shape + (3,),)\n",
    "\n",
    "    for idx in range(len(times)):\n",
    "        flux = arr[idx*len(energies):(idx+1)*len(energies), 2] / units[\"MeV\"] / units[\"second\"]\n",
    "        flux = np.where(flux >= 0, flux, 0) # Sometimes numerical issues can sneak in to give negative fluxes\n",
    "        fluxes[idx, :, 0] = flux # nue\n",
    "        fluxes[idx, :, 1] = flux # nuebar\n",
    "        fluxes[idx, :, 2] = flux # nux per flavor\n",
    "\n",
    "    with h5.File(TABULATED_HNL_FILE, \"r+\") as h5f:\n",
    "\n",
    "        if key in h5f.keys():\n",
    "            del h5f[key]\n",
    "            # continue\n",
    "\n",
    "        h5f.create_group(key)\n",
    "        h5f[key].create_dataset(\"energies\", data=energies)\n",
    "        h5f[key].create_dataset(\"times\", data=times)\n",
    "        h5f[key].create_dataset(\"fluxes\", data=fluxes)"
   ]
  },
  {
   "cell_type": "code",
   "execution_count": 38,
   "id": "5d13cd97-8a57-4cbb-9ba3-24f08d8d6255",
   "metadata": {},
   "outputs": [
    {
     "name": "stderr",
     "output_type": "stream",
     "text": [
      "100%|██████████| 63/63 [00:00<00:00, 2387.26it/s]\n"
     ]
    }
   ],
   "source": [
    "thin = 10\n",
    "\n",
    "done_keys = []\n",
    "if os.path.exists(SERIALIZED_MAJORAN_FILE):\n",
    "    with h5.File(SERIALIZED_MAJORAN_FILE) as h5f:\n",
    "        done_keys = list(h5f.keys())\n",
    "\n",
    "with h5.File(TABULATED_MAJORAN_FILE, \"r\") as h5f:\n",
    "    for key, group in tqdm(h5f.items()):\n",
    "        if f\"{key}_0\" in done_keys:\n",
    "            continue\n",
    "        pflux = parameterized_flux_from_h5(group, 10*units.kpc, thin=thin, track=False)\n",
    "        pflux.serialize(SERIALIZED_MAJORAN_FILE, key)"
   ]
  },
  {
   "cell_type": "code",
   "execution_count": 60,
   "id": "b8a9682a-2b87-4f9f-94b7-3931a3dae2bb",
   "metadata": {},
   "outputs": [],
   "source": [
    "key = \"sm_flux\"\n",
    "nue_arr = np.genfromtxt(\"../data//fluxactivenuE.csv\", delimiter=\",\")\n",
    "nuebar_arr = np.genfromtxt(\"../data//fluxactivenuEBar.csv\", delimiter=\",\")\n",
    "nux_arr = np.genfromtxt(\"../data//fluxactivenuX.csv\", delimiter=\",\")\n",
    "\n",
    "nue_arr[:, 2] = np.where(nue_arr[:, 2] < 0, 0, nue_arr[:, 2])\n",
    "nuebar_arr[:, 2] = np.where(nuebar_arr[:, 2] < 0, 0, nuebar_arr[:, 2])\n",
    "nux_arr[:, 2] = np.where(nux_arr[:, 2] < 0, 0, nux_arr[:, 2])\n",
    "\n",
    "times = np.sort(np.unique(nue_arr[:, 0])) * units.second\n",
    "energies = np.sort(np.unique(nue_arr[:, 1])) * units.MeV\n",
    "\n",
    "# if not np.all(times / units.second==np.sort(np.unique(nuebar_arr[:, 0]))):\n",
    "#     raise ValueError()\n",
    "# if not np.all(times / units.second==np.sort(np.unique(nux_arr[:, 0]))):\n",
    "#     raise ValueError()\n",
    "# if not np.all(energies / units.MeV==np.sort(np.unique(nuebar_arr[:, 1]))):\n",
    "#     raise ValueError()\n",
    "# if not np.all(energies / units.MeV==np.sort(np.unique(nux_arr[:, 1]))):\n",
    "#     raise ValueError()\n",
    "    \n",
    "fluxes = np.empty(times.shape + energies.shape + (3,),)\n",
    "\n",
    "for idx in range(len(times)):\n",
    "    nue_flux = nue_arr[idx*len(energies):(idx+1)*len(energies), 2] / units[\"MeV\"] / units[\"second\"]\n",
    "    nuebar_flux = nuebar_arr[idx*len(energies):(idx+1)*len(energies), 2] / units[\"MeV\"] / units[\"second\"]\n",
    "    nux_flux = nux_arr[idx*len(energies):(idx+1)*len(energies), 2] / units[\"MeV\"] / units[\"second\"] / 4 # Divide by 4 for per flavor\n",
    "    # Sometimes numerical issues can sneak in to give negative fluxes\n",
    "    nue_flux = np.where(nue_flux >= 0, nue_flux, 0)\n",
    "    nuebar_flux = np.where(nuebar_flux >= 0, nuebar_flux, 0)\n",
    "    nux_flux = np.where(nux_flux >= 0, nux_flux, 0)\n",
    "    fluxes[idx, :, 0] = nue_flux # nue\n",
    "    fluxes[idx, :, 1] = nuebar_flux # nuebar\n",
    "    fluxes[idx, :, 2] = nux_flux # nux per flavor\n",
    "    \n",
    "    \n",
    "if not os.path.exists(TABULATED_SM_FILE):\n",
    "    with h5.File(\"./data/sm_flux.h5\", \"w\") as _:\n",
    "        pass\n",
    "    \n",
    "with h5.File(TABULATED_SM_FILE, \"r+\") as h5f:\n",
    "        if key in h5f.keys():\n",
    "            del h5f[key]\n",
    "            \n",
    "        h5f.create_group(key)\n",
    "        h5f[key].create_dataset(\"energies\", data=energies)\n",
    "        h5f[key].create_dataset(\"times\", data=times)\n",
    "        h5f[key].create_dataset(\"fluxes\", data=fluxes)"
   ]
  },
  {
   "cell_type": "code",
   "execution_count": 62,
   "id": "47703725-0904-4d41-a93f-54034aa8fe48",
   "metadata": {},
   "outputs": [],
   "source": [
    "dt = 0.01 * units.second\n",
    "\n",
    "with h5.File(SERIALIZED_SM_FILE, \"r\") as h5f:\n",
    "    sm_flux = deserialize(h5f[\"sm_flux_0\"])\n",
    "    \n",
    "# sm_t, sm_hits = sm_flux.get_hits(\n",
    "#     tmax=100 * units[\"second\"],\n",
    "#     model_file=\"test.txt\",\n",
    "#     dt=dt,\n",
    "# )"
   ]
  },
  {
   "cell_type": "code",
   "execution_count": 39,
   "id": "2ecd80da-0dc2-42df-81ff-c0fa4ef22305",
   "metadata": {},
   "outputs": [],
   "source": [
    "import h5py as h5\n",
    "import numpy as np\n",
    "\n",
    "from glob import glob\n",
    "from tqdm import tqdm\n",
    "\n",
    "from scipy.interpolate import CubicSpline\n",
    "\n",
    "import matplotlib.pyplot as plt\n",
    "plt.style.use(\"paper.mplstyle\")\n",
    "from matplotlib.colors import ListedColormap, to_rgba, to_rgb\n",
    "from matplotlib.gridspec import GridSpec\n",
    "from matplotlib.lines import Line2D\n",
    "\n",
    "import sys\n",
    "import os\n",
    "\n",
    "sys.path.append(os.path.abspath(\"../../ASTERIA/python/\"))\n",
    "os.environ[\"ASTERIA\"] = os.path.abspath(\"../../ASTERIA\")\n",
    "\n",
    "sys.path.append(\"../\")\n",
    "from sne_bsm import parameterized_flux_from_files, units\n",
    "from sne_bsm.likelihood import find_significance_matrix \n",
    "from sne_bsm.flux.parametrize_flux import deserialize"
   ]
  },
  {
   "cell_type": "code",
   "execution_count": 105,
   "id": "1d4b3f29-1abe-4446-aedf-0397bf5d7e1c",
   "metadata": {},
   "outputs": [],
   "source": [
    "SM_SERIALIZE_FILE = \"./data/serialized_sm_flux.h5\"\n",
    "BSM_SERIALIZE_FILE = \"./data/serialized_majoran_fluxes_new.h5\"\n",
    "# BSM_SERIALIZE_FILE = \"./data/serialized_majoran_fluxes.h5\"\n",
    "\n",
    "MODEL1 = \"dphi-dEdt-1MeV-gn10dot2-100s-nf\"\n",
    "MODEL2 = \"dphi-dEdt-10MeV-gn10dot8-100s-nf\"\n",
    "MODEL3 = \"dphi-dEdt-100MeV-gn11dot7-100s-nf\"\n",
    "\n",
    "MODELS = [\n",
    "    MODEL1,\n",
    "    # MODEL2,\n",
    "    MODEL3,\n",
    "]\n",
    "\n",
    "COLORS = [\n",
    "    \"mediumturquoise\", # MODEL1\n",
    "    \"dodgerblue\", # MODEL2\n",
    "    \"hotpink\",\n",
    "    # \"red\", # SM\n",
    "]\n",
    "\n",
    "LABELS = [\n",
    "    r\"$m_{\\phi}=1~\\mathrm{MeV}$\",\n",
    "    r\"$m_{\\phi}=100~\\mathrm{MeV}$\",\n",
    "]"
   ]
  },
  {
   "cell_type": "code",
   "execution_count": 41,
   "id": "27fd29d0-ccd4-4055-b07b-9006c0f84191",
   "metadata": {},
   "outputs": [],
   "source": [
    "with h5.File(SM_SERIALIZE_FILE, \"r\") as h5f:\n",
    "    sm_flux = deserialize(h5f[\"sm_flux_0\"])\n",
    "\n",
    "# bsm_fluxes = []\n",
    "\n",
    "# for model in tqdm(MODELS):\n",
    "# # for model in tqdm([MODEL1, MODEL2, MODEL3]):\n",
    "#     with h5.File(BSM_SERIALIZE_FILE, \"r\") as h5f:\n",
    "#         flux = deserialize(h5f[f\"{model}_0\"])\n",
    "#     bsm_fluxes.append(flux)"
   ]
  },
  {
   "cell_type": "code",
   "execution_count": 104,
   "id": "18ef8364-7874-4211-8207-227bc918f4fa",
   "metadata": {},
   "outputs": [
    {
     "name": "stdout",
     "output_type": "stream",
     "text": [
      "49\n",
      "99\n",
      "499\n"
     ]
    },
    {
     "data": {
      "image/png": "[encoded data removed]",
      "text/plain": [
       "<Figure size 432x288 with 1 Axes>"
      ]
     },
     "metadata": {
      "needs_background": "light"
     },
     "output_type": "display_data"
    }
   ],
   "source": [
    "es = np.linspace(0, 200, 400) * units.MeV\n",
    "ts = np.array([0.05, 0.1, 0.5]) * units[\"second\"]\n",
    "# ts = np.array([0.05, 0.1, 0.5, 1, 5]) * units[\"second\"]\n",
    "\n",
    "a = np.genfromtxt(\"../data/fluxactivenuE.csv\", delimiter=\",\")\n",
    "times = np.sort(np.unique(a[:, 0])) * units.second\n",
    "energies = np.sort(np.unique(a[:, 1])) * units.MeV\n",
    "\n",
    "alphamin = 0.3\n",
    "alphamax = 1.0\n",
    "\n",
    "handles = [\n",
    "    Line2D([], [], color=COLORS[-1], label=r\"Standard Model\"),\n",
    "    Line2D([], [], color=COLORS[0], label=r\"$m_{\\phi}=1~\\mathrm{MeV}$\"),\n",
    "    # Line2D([], [], color=COLORS[1], label=r\"$m_{\\phi}=10~\\mathrm{MeV}$\"),\n",
    "    Line2D([], [], color=COLORS[1], label=r\"$m_{\\phi}=100~\\mathrm{MeV}$\"),\n",
    "    Line2D([], [], alpha=0.0),\n",
    "    Line2D([], [], alpha=0.0),\n",
    "    Line2D([], [], color=\"k\", alpha=0/4*(alphamax - alphamin) + alphamin, label=r\"$\\mathrm{0.05}~\\mathrm{s}$\"),\n",
    "    Line2D([], [], color=\"k\", alpha=1/4*(alphamax - alphamin) + alphamin, label=r\"$\\mathrm{0.1}~\\mathrm{s}$\"),\n",
    "    Line2D([], [], color=\"k\", alpha=2/4*(alphamax - alphamin) + alphamin, label=r\"$\\mathrm{0.5}~\\mathrm{s}$\"),\n",
    "    Line2D([], [], color=\"k\", alpha=3/4*(alphamax - alphamin) + alphamin, label=r\"$\\mathrm{1}~\\mathrm{s}$\"),\n",
    "    Line2D([], [], color=\"k\", alpha=4/4*(alphamax - alphamin) + alphamin, label=r\"$\\mathrm{5}~\\mathrm{s}$\"),\n",
    "]\n",
    "\n",
    "\n",
    "for idx, t in enumerate(ts):\n",
    "    alpha = idx / (len(ts)-1) * (alphamax - alphamin) + alphamin\n",
    "    # for color, flux in zip(COLORS, bsm_fluxes):\n",
    "    #     plt.plot(\n",
    "    #         es / units.MeV,\n",
    "    #         flux.get_flux(t, es, 0) * units.second * units.MeV,\n",
    "    #         color=to_rgb(color) + (alpha,)\n",
    "    #     )\n",
    "    \n",
    "    # Only plot the SM flux for the first 8 seconds\n",
    "    if t > 8 * units.second:\n",
    "        continue\n",
    "    plt.plot(\n",
    "        es / units.MeV,\n",
    "        sm_flux.get_flux(t, es, 0) * units.second * units.MeV,\n",
    "        color=to_rgb(COLORS[-1]) + (alpha,)   \n",
    "    )\n",
    "    \n",
    "    idx = np.argmin(np.abs(times - t))\n",
    "    print(idx)\n",
    "    plt.plot(\n",
    "        a[len(energies) * idx:len(energies) * (idx+1), 1],\n",
    "        a[len(energies) * idx:len(energies) * (idx+1), 2],\n",
    "        color=to_rgb(COLORS[-1]) + (alpha,),\n",
    "        ls=\"--\"\n",
    "    )\n",
    "\n",
    "       \n",
    "plt.ylabel(\n",
    "    r\"$\\frac{\\mathrm{d}N}{\\mathrm{d}t\\mathrm{d}E}~\\left[\\mathrm{sec}^{-1}\\,\\mathrm{MeV}^{-1}\\right]$\",\n",
    "    fontsize=20\n",
    ")\n",
    "plt.xlabel(\n",
    "    r\"$E_{\\nu}~\\left[\\mathrm{GeV}\\right]$\"\n",
    ")\n",
    "plt.ylim(1e6, 1e10)\n",
    "plt.xlim(0, 50)\n",
    "plt.semilogy()\n",
    "plt.legend(\n",
    "    handles=handles,\n",
    "    ncol=2,\n",
    "    fontsize=14,\n",
    "    framealpha=0.0,\n",
    "    loc=1,\n",
    "    # bbox_to_anchor=(1, 1.075)\n",
    ")\n",
    "plt.show()"
   ]
  },
  {
   "cell_type": "code",
   "execution_count": 98,
   "id": "141a88c6-c752-4d48-89ca-d2ab3d898f8d",
   "metadata": {},
   "outputs": [
    {
     "data": {
      "text/plain": [
       "[<matplotlib.lines.Line2D at 0x7f9db509d3c0>]"
      ]
     },
     "execution_count": 98,
     "metadata": {},
     "output_type": "execute_result"
    },
    {
     "data": {
      "image/png": "[encoded data removed]",
      "text/plain": [
       "<Figure size 432x288 with 1 Axes>"
      ]
     },
     "metadata": {
      "needs_background": "light"
     },
     "output_type": "display_data"
    }
   ],
   "source": [
    "idx = 49\n",
    "plt.plot(\n",
    "        a[len(energies) * idx: (len(energies)+1) * idx, 1],\n",
    "        a[len(energies) * idx: (len(energies)+1) * idx, 2],\n",
    "        color=to_rgb(COLORS[-1]) + (alpha,),\n",
    "        ls=\"--\"\n",
    ")"
   ]
  },
  {
   "cell_type": "code",
   "execution_count": 100,
   "id": "5d5c58ae-4bc2-4028-9bfe-86953002f371",
   "metadata": {},
   "outputs": [
    {
     "data": {
      "text/plain": [
       "17"
      ]
     },
     "execution_count": 100,
     "metadata": {},
     "output_type": "execute_result"
    }
   ],
   "source": [
    "len(energies)"
   ]
  },
  {
   "cell_type": "code",
   "execution_count": 101,
   "id": "c24f3b08-9725-4862-bb65-2dbb742d10e5",
   "metadata": {},
   "outputs": [
    {
     "data": {
      "text/plain": [
       "array([ 0.,  3.,  6.,  9., 12., 15., 18., 21., 24., 27., 30., 33., 36.,\n",
       "       39., 42., 45., 48.])"
      ]
     },
     "execution_count": 101,
     "metadata": {},
     "output_type": "execute_result"
    }
   ],
   "source": [
    "a[len(energies) * idx:len(energies) * (idx+1), 1]"
   ]
  },
  {
   "cell_type": "code",
   "execution_count": 70,
   "id": "d195a2ad-c253-4338-afcd-4d0213763be7",
   "metadata": {},
   "outputs": [],
   "source": []
  },
  {
   "cell_type": "code",
   "execution_count": 77,
   "id": "fb22a089-1298-4ec6-afe7-477affbdb3b4",
   "metadata": {},
   "outputs": [],
   "source": []
  },
  {
   "cell_type": "code",
   "execution_count": 81,
   "id": "383e956a-1686-45cc-aa9c-a544361e5854",
   "metadata": {},
   "outputs": [
    {
     "data": {
      "text/plain": [
       "array([0.00000000e+00, 4.16300589e+08, 6.93504542e+08, ...,\n",
       "       3.84085468e+04, 1.40763167e+04, 0.00000000e+00])"
      ]
     },
     "execution_count": 81,
     "metadata": {},
     "output_type": "execute_result"
    }
   ],
   "source": [
    "a[len(energies) * idx: (len(energies)+1) * idx, 2]"
   ]
  },
  {
   "cell_type": "code",
   "execution_count": null,
   "id": "819e11f4-6165-4b7c-a135-3d410005a9e7",
   "metadata": {},
   "outputs": [],
   "source": []
  }
 ],
 "metadata": {
  "kernelspec": {
   "display_name": "ic_sn_hnl",
   "language": "python",
   "name": "ic_sn_hnl"
  },
  "language_info": {
   "codemirror_mode": {
    "name": "ipython",
    "version": 3
   },
   "file_extension": ".py",
   "mimetype": "text/x-python",
   "name": "python",
   "nbconvert_exporter": "python",
   "pygments_lexer": "ipython3",
   "version": "3.10.11"
  }
 },
 "nbformat": 4,
 "nbformat_minor": 5
}
