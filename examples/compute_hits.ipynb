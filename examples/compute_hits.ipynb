{
 "cells": [
  {
   "cell_type": "code",
   "execution_count": 1,
   "id": "857e4bbb-f263-4519-a265-a8c67dc1f15d",
   "metadata": {},
   "outputs": [],
   "source": [
    "%load_ext autoreload\n",
    "%autoreload 2"
   ]
  },
  {
   "cell_type": "code",
   "execution_count": 2,
   "id": "cdf204ee-aa98-4213-8384-3aa0bde65ef7",
   "metadata": {
    "tags": []
   },
   "outputs": [],
   "source": [
    "import numpy as np\n",
    "import h5py as h5\n",
    "import os\n",
    "\n",
    "import matplotlib.pyplot as plt\n",
    "plt.style.use(\"../paper.mplstyle\")"
   ]
  },
  {
   "cell_type": "code",
   "execution_count": null,
   "id": "98eed453-fee5-4188-a435-ef8cdc339d3d",
   "metadata": {},
   "outputs": [],
   "source": [
    "from "
   ]
  },
  {
   "cell_type": "code",
   "execution_count": 18,
   "id": "14bed5d4-f991-455e-ba35-4bca3ca6d03d",
   "metadata": {},
   "outputs": [],
   "source": [
    "import sys\n",
    "sys.path.append(\"../\")\n",
    "sys.path.append(\"/Users/jlazar/research//ASTERIA/python/\")\n",
    "from ic_sn_hnl import parameterized_flux_from_files, units\n",
    "from ic_sn_hnl.flux.parametrize_flux import compute_moment, Params, parameterized_flux_from_h5\n",
    "from ic_sn_hnl.flux.sanitize_flux import sanitize_flux\n",
    "\n",
    "from tqdm import tqdm\n",
    "\n",
    "import os\n",
    "os.environ[\"ASTERIA\"] = \"/Users/jlazar/research/ASTERIA\""
   ]
  },
  {
   "cell_type": "code",
   "execution_count": 31,
   "id": "49a2b71d-4db2-4a19-aa78-c3e6048d44d7",
   "metadata": {},
   "outputs": [
    {
     "name": "stderr",
     "output_type": "stream",
     "text": [
      "100%|██████████| 1001/1001 [09:43<00:00,  1.71it/s]\n"
     ]
    }
   ],
   "source": [
    "key = \"./dphi-dEdt-100MeV-gn11dot8-100s-nf\"\n",
    "with h5.File(\"fluxes.h5\", \"r\") as h5f:\n",
    "    group = h5f[key]\n",
    "    new_pflux = parameterized_flux_from_h5(group, 10*units.kpc, thin=100)"
   ]
  },
  {
   "cell_type": "code",
   "execution_count": 28,
   "id": "6bdbfe0d-d2a8-4e03-b7a3-777188d5c270",
   "metadata": {},
   "outputs": [],
   "source": [
    "times, hits = new_pflux.get_hits()"
   ]
  },
  {
   "cell_type": "code",
   "execution_count": 33,
   "id": "9bfcf54a-74bf-4732-a857-ecc2484605f4",
   "metadata": {},
   "outputs": [
    {
     "data": {
      "image/png": "[encoded data removed]",
      "text/plain": [
       "<Figure size 432x288 with 1 Axes>"
      ]
     },
     "metadata": {
      "needs_background": "light"
     },
     "output_type": "display_data"
    }
   ],
   "source": [
    "plt.plot(times / units.second, hits)\n",
    "plt.xlim(-1, 20)\n",
    "plt.show()"
   ]
  },
  {
   "cell_type": "code",
   "execution_count": null,
   "id": "63cec20f-b696-4314-adcc-c1d89a6ab80c",
   "metadata": {},
   "outputs": [],
   "source": []
  }
 ],
 "metadata": {
  "kernelspec": {
   "display_name": "ic_sn_hnl",
   "language": "python",
   "name": "ic_sn_hnl"
  },
  "language_info": {
   "codemirror_mode": {
    "name": "ipython",
    "version": 3
   },
   "file_extension": ".py",
   "mimetype": "text/x-python",
   "name": "python",
   "nbconvert_exporter": "python",
   "pygments_lexer": "ipython3",
   "version": "3.10.11"
  }
 },
 "nbformat": 4,
 "nbformat_minor": 5
}
