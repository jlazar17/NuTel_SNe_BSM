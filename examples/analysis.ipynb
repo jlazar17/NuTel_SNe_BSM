{
 "cells": [
  {
   "cell_type": "code",
   "execution_count": 136,
   "id": "f24f2eaf-5414-4cfd-a165-f804b34b0714",
   "metadata": {},
   "outputs": [
    {
     "name": "stdout",
     "output_type": "stream",
     "text": [
      "The autoreload extension is already loaded. To reload it, use:\n",
      "  %reload_ext autoreload\n"
     ]
    }
   ],
   "source": [
    "%load_ext autoreload\n",
    "%autoreload 2"
   ]
  },
  {
   "cell_type": "code",
   "execution_count": 114,
   "id": "5e0c6388-1bb0-4946-b385-2f3b6f925eb6",
   "metadata": {},
   "outputs": [],
   "source": [
    "import h5py as h5\n",
    "import numpy as np\n",
    "import os\n",
    "\n",
    "from glob import glob\n",
    "from tqdm import tqdm\n",
    "\n",
    "import matplotlib.pyplot as plt\n",
    "plt.style.use(\"./paper.mplstyle\")\n",
    "\n",
    "from scipy.interpolate import interp1d\n",
    "from scipy.optimize import ridder\n",
    "\n",
    "# Set up ASTERIA\n",
    "import sys\n",
    "ASTERIA_PATH = \"/Users/jlazar/research/ASTERIA\"\n",
    "os.environ[\"ASTERIA\"] = \"/Users/jlazar/research/ASTERIA\"\n",
    "sys.path.append(f\"{ASTERIA_PATH}/python/\")\n",
    "\n",
    "sys.path.append(\"../\")\n",
    "\n",
    "from sne_bsm import units, parameterized_flux_from_h5, deserialize"
   ]
  },
  {
   "cell_type": "code",
   "execution_count": 3,
   "id": "8160e3ea-9bdd-4710-80be-7aaa0dc5a84e",
   "metadata": {},
   "outputs": [],
   "source": [
    "# Where tabulated SM fluxes are stored. See `prepare_h5_file.ipynb` for the expected format\n",
    "TABULATED_SM_FILE = \"data/sm_flux.h5\"\n",
    "# Where to store the parameterized SM flux for later use\n",
    "SERIALIZED_SM_FILE = \"./data/serialized_sm_flux.h5\"\n",
    "# Where tabulated BSM fluxes are stored. See `prepare_h5_file.ipynb` for the expected format\n",
    "TABULATED_BSM_FILE = \"data/majoran_fluxes.h5\"\n",
    "# TABULATED_BSM_FILE = \"data/magnetic_moment_fluxes.h5\"\n",
    "# Where to store the parameterized models for later use\n",
    "SERIALIZED_BSM_FILE = \"./data/serialized_majoran_fluxes.h5\"\n",
    "# SERIALIZED_BSM_FILE = \"./data/serialized_magnetic_moment_fluxes.h5\"\n",
    "# Where to save the computed sensitivities\n",
    "RESULTS_FILE = \"./data/new_results.h5\"\n",
    "# What to call the results in the ``RESULTS\n",
    "RESULTS_NAME = \"majoron_sensitivities\""
   ]
  },
  {
   "cell_type": "markdown",
   "id": "9eeb8543-bb95-441b-802e-34bd08e12c37",
   "metadata": {
    "tags": []
   },
   "source": [
    "# First, we will parameterize the SM flux"
   ]
  },
  {
   "cell_type": "code",
   "execution_count": 4,
   "id": "8eeb8080-8669-4c38-9d97-cb5f0326a317",
   "metadata": {},
   "outputs": [
    {
     "name": "stderr",
     "output_type": "stream",
     "text": [
      "100%|██████████| 1/1 [00:00<00:00, 1037.68it/s]\n"
     ]
    }
   ],
   "source": [
    "if os.path.exists(SERIALIZED_SM_FILE):\n",
    "    with h5.File(SERIALIZED_SM_FILE, \"r\") as h5f:\n",
    "        done_keys = list(h5f.keys())\n",
    "\n",
    "with h5.File(TABULATED_SM_FILE, \"r\") as h5f:\n",
    "    for key, group in tqdm(h5f.items()):\n",
    "        if f\"{key}_0\" in done_keys:\n",
    "            continue\n",
    "        pflux = parameterized_flux_from_h5(group, 10*units.kpc, thin=1, track=False)\n",
    "        pflux.serialize(SERIALIZED_SM_FILE, key)"
   ]
  },
  {
   "cell_type": "markdown",
   "id": "265b515b-7f2c-48b2-9674-d6209441ded2",
   "metadata": {},
   "source": [
    "# Next, we will do the same for the BSM fluxes.\n",
    "\n",
    "Depending on how many fluxes you are considering, this could take awhile...\n",
    "The `thin` parameter can be increased to make this go faster, but will only use one out of every `thin` time point."
   ]
  },
  {
   "cell_type": "code",
   "execution_count": 5,
   "id": "27e888a7-e1bf-40df-832b-6d362564aae4",
   "metadata": {},
   "outputs": [
    {
     "name": "stderr",
     "output_type": "stream",
     "text": [
      "100%|██████████| 63/63 [00:00<00:00, 4005.84it/s]\n"
     ]
    }
   ],
   "source": [
    "thin = 10\n",
    "\n",
    "done_keys = []\n",
    "if os.path.exists(SERIALIZED_BSM_FILE):\n",
    "    with h5.File(SERIALIZED_BSM_FILE) as h5f:\n",
    "        done_keys = list(h5f.keys())\n",
    "\n",
    "with h5.File(TABULATED_BSM_FILE, \"r\") as h5f:\n",
    "    for key, group in tqdm(h5f.items()):\n",
    "        if f\"{key}_0\" in done_keys:\n",
    "            continue\n",
    "        pflux = parameterized_flux_from_h5(group, 10*units.kpc, thin=thin, track=False)\n",
    "        pflux.serialize(SERIALIZED_BSM_FILE, key)"
   ]
  },
  {
   "cell_type": "markdown",
   "id": "8b4333cb-2e3c-45c4-8828-6010b358471e",
   "metadata": {},
   "source": [
    "# Define the likelihood and such"
   ]
  },
  {
   "cell_type": "code",
   "execution_count": 134,
   "id": "181ea8b7-91f0-444d-81a5-345319ce51e4",
   "metadata": {},
   "outputs": [],
   "source": [
    "TMAX = 100 * units[\"second\"]\n",
    "TMIN = 1e-2 * units[\"second\"]\n",
    "TMINS = np.logspace(np.log10(TMIN), np.log10(TMAX), 201)\n",
    "DTS = np.linspace(0.001, 30, 1001) * units[\"second\"]\n",
    "\n",
    "def find_significance_matrix(\n",
    "    sig_hits,\n",
    "    sm_hits,\n",
    "    bg_hits,\n",
    "    times,\n",
    "    tmins=TMINS,\n",
    "    dts=DTS,\n",
    "    bg_mismodel=1.0,\n",
    "    sm_mismodel=1.0\n",
    "):\n",
    "    significance = np.full(tmins.shape + dts.shape, np.nan)\n",
    "    \n",
    "    n_obs_bits = bg_mismodel * bg_hits + sm_mismodel * sm_hits # the amount you actually see\n",
    "    n_exp_bits = sig_hits + bg_hits + sm_hits # The amount you expected to see\n",
    "    \n",
    "    t_idx_starts = [bisect.bisect_left(times, tmin) for tmin in tmins]\n",
    "    t_idx_ends = [[bisect.bisect_right(times, tmin + dt) for dt in dts] for tmin in tmins]\n",
    "    \n",
    "    for idx, (start, t_idx_end) in enumerate(zip(tmins, t_idx_starts, t_idx_ends)):\n",
    "        for jdx, end in enumerate(t_idx_end):\n",
    "            n_obs = np.sum(n_obs_bits[start:end+1])\n",
    "            n_exp = np.sum(n_exp_bits[start:end+1])\n",
    "            llh = 2 * (n_exp - n_obs)\n",
    "            if n_obs > 0:\n",
    "                llh += 2 * n_obs * np.log(n_obs / n_exp)\n",
    "            \n",
    "            significance[idx, jdx] = llh\n",
    "    \n",
    "#     for idx, tmin in enumerate(tmins):\n",
    "#         for jdx, dt in enumerate(dts):\n",
    "#             m = np.logical_and(tmin < times, times < tmin+dt)\n",
    "#             if not m.sum():\n",
    "#                 continue\n",
    "#             significance[idx, jdx] = likelihood(\n",
    "#                 sig_hits[m],\n",
    "#                 sm_hits[m],\n",
    "#                 bg_hits[m],\n",
    "#                 bg_mismodel=bg_mismodel,\n",
    "#                 sm_mismodel=sm_mismodel\n",
    "                \n",
    "#             )\n",
    "    return significance, tmins, dts\n",
    "\n",
    "def likelihood(\n",
    "    sig_hits,\n",
    "    sm_hits,\n",
    "    bg_hits,\n",
    "    bg_mismodel=1.0,\n",
    "    sm_mismodel=1.0\n",
    "):\n",
    "    n_obs = (bg_mismodel * bg_hits + sm_mismodel * sm_hits).sum() # the amount you actually see\n",
    "    n_exp = (sig_hits + bg_hits + sm_hits).sum() # The amount you expected to see\n",
    "    llh = 2 * (n_exp - n_obs)\n",
    "    if n_obs > 0:\n",
    "        llh += 2 * n_obs * np.log(n_obs / n_exp)\n",
    "    return llh"
   ]
  },
  {
   "cell_type": "markdown",
   "id": "0d497ef9-c8b7-435e-964c-050c8e9480f6",
   "metadata": {},
   "source": [
    "# Now we can compute the significance"
   ]
  },
  {
   "cell_type": "code",
   "execution_count": 126,
   "id": "2476ff06-23bf-403a-b93c-4b98d723b2d5",
   "metadata": {},
   "outputs": [
    {
     "ename": "KeyboardInterrupt",
     "evalue": "",
     "output_type": "error",
     "traceback": [
      "\u001b[0;31m---------------------------------------------------------------------------\u001b[0m",
      "\u001b[0;31mKeyboardInterrupt\u001b[0m                         Traceback (most recent call last)",
      "Input \u001b[0;32mIn [126]\u001b[0m, in \u001b[0;36m<cell line: 1>\u001b[0;34m()\u001b[0m\n\u001b[1;32m      1\u001b[0m \u001b[38;5;28;01mwith\u001b[39;00m h5\u001b[38;5;241m.\u001b[39mFile(\u001b[38;5;124m\"\u001b[39m\u001b[38;5;124mdata/serialized_sm_flux.h5\u001b[39m\u001b[38;5;124m\"\u001b[39m, \u001b[38;5;124m\"\u001b[39m\u001b[38;5;124mr\u001b[39m\u001b[38;5;124m\"\u001b[39m) \u001b[38;5;28;01mas\u001b[39;00m h5f:\n\u001b[0;32m----> 2\u001b[0m     sm_flux \u001b[38;5;241m=\u001b[39m \u001b[43mdeserialize\u001b[49m\u001b[43m(\u001b[49m\u001b[43mh5f\u001b[49m\u001b[43m[\u001b[49m\u001b[38;5;124;43m\"\u001b[39;49m\u001b[38;5;124;43msm_flux_0\u001b[39;49m\u001b[38;5;124;43m\"\u001b[39;49m\u001b[43m]\u001b[49m\u001b[43m)\u001b[49m\n\u001b[1;32m      4\u001b[0m sm_t, sm_hits \u001b[38;5;241m=\u001b[39m sm_flux\u001b[38;5;241m.\u001b[39mget_hits(\n\u001b[1;32m      5\u001b[0m     tmax\u001b[38;5;241m=\u001b[39m\u001b[38;5;241m100\u001b[39m \u001b[38;5;241m*\u001b[39m units[\u001b[38;5;124m\"\u001b[39m\u001b[38;5;124msecond\u001b[39m\u001b[38;5;124m\"\u001b[39m],\n\u001b[1;32m      6\u001b[0m     model_file\u001b[38;5;241m=\u001b[39m\u001b[38;5;124m\"\u001b[39m\u001b[38;5;124mmagnetic_moment.txt\u001b[39m\u001b[38;5;124m\"\u001b[39m\n\u001b[1;32m      7\u001b[0m )\n\u001b[1;32m      9\u001b[0m out \u001b[38;5;241m=\u001b[39m {}\n",
      "File \u001b[0;32m~/research/NuTel_SNe_BSM/examples/../sne_bsm/flux/parametrize_flux.py:525\u001b[0m, in \u001b[0;36mdeserialize\u001b[0;34m(g)\u001b[0m\n\u001b[1;32m    514\u001b[0m \u001b[38;5;28;01mfor\u001b[39;00m idx, t \u001b[38;5;129;01min\u001b[39;00m \u001b[38;5;28menumerate\u001b[39m(times):\n\u001b[1;32m    515\u001b[0m     pnue \u001b[38;5;241m=\u001b[39m Params(\n\u001b[1;32m    516\u001b[0m         g[\u001b[38;5;124m\"\u001b[39m\u001b[38;5;124mparams\u001b[39m\u001b[38;5;124m\"\u001b[39m][\u001b[38;5;241m0\u001b[39m, \u001b[38;5;241m0\u001b[39m, idx],\n\u001b[1;32m    517\u001b[0m         g[\u001b[38;5;124m\"\u001b[39m\u001b[38;5;124mparams\u001b[39m\u001b[38;5;124m\"\u001b[39m][\u001b[38;5;241m0\u001b[39m, \u001b[38;5;241m1\u001b[39m, idx],\n\u001b[1;32m    518\u001b[0m         g[\u001b[38;5;124m\"\u001b[39m\u001b[38;5;124mparams\u001b[39m\u001b[38;5;124m\"\u001b[39m][\u001b[38;5;241m0\u001b[39m, \u001b[38;5;241m2\u001b[39m, idx],\n\u001b[1;32m    519\u001b[0m         g[\u001b[38;5;124m\"\u001b[39m\u001b[38;5;124mparams\u001b[39m\u001b[38;5;124m\"\u001b[39m][\u001b[38;5;241m0\u001b[39m, \u001b[38;5;241m3\u001b[39m, idx]\n\u001b[1;32m    520\u001b[0m     )\n\u001b[1;32m    521\u001b[0m     pnuebar \u001b[38;5;241m=\u001b[39m Params(\n\u001b[1;32m    522\u001b[0m         g[\u001b[38;5;124m\"\u001b[39m\u001b[38;5;124mparams\u001b[39m\u001b[38;5;124m\"\u001b[39m][\u001b[38;5;241m1\u001b[39m, \u001b[38;5;241m0\u001b[39m, idx],\n\u001b[1;32m    523\u001b[0m         g[\u001b[38;5;124m\"\u001b[39m\u001b[38;5;124mparams\u001b[39m\u001b[38;5;124m\"\u001b[39m][\u001b[38;5;241m1\u001b[39m, \u001b[38;5;241m1\u001b[39m, idx],\n\u001b[1;32m    524\u001b[0m         g[\u001b[38;5;124m\"\u001b[39m\u001b[38;5;124mparams\u001b[39m\u001b[38;5;124m\"\u001b[39m][\u001b[38;5;241m1\u001b[39m, \u001b[38;5;241m2\u001b[39m, idx],\n\u001b[0;32m--> 525\u001b[0m         \u001b[43mg\u001b[49m\u001b[43m[\u001b[49m\u001b[38;5;124;43m\"\u001b[39;49m\u001b[38;5;124;43mparams\u001b[39;49m\u001b[38;5;124;43m\"\u001b[39;49m\u001b[43m]\u001b[49m\u001b[43m[\u001b[49m\u001b[38;5;241;43m1\u001b[39;49m\u001b[43m,\u001b[49m\u001b[43m \u001b[49m\u001b[38;5;241;43m3\u001b[39;49m\u001b[43m,\u001b[49m\u001b[43m \u001b[49m\u001b[43midx\u001b[49m\u001b[43m]\u001b[49m\n\u001b[1;32m    526\u001b[0m     )\n\u001b[1;32m    527\u001b[0m     pnux \u001b[38;5;241m=\u001b[39m Params(\n\u001b[1;32m    528\u001b[0m         g[\u001b[38;5;124m\"\u001b[39m\u001b[38;5;124mparams\u001b[39m\u001b[38;5;124m\"\u001b[39m][\u001b[38;5;241m2\u001b[39m, \u001b[38;5;241m0\u001b[39m, idx],\n\u001b[1;32m    529\u001b[0m         g[\u001b[38;5;124m\"\u001b[39m\u001b[38;5;124mparams\u001b[39m\u001b[38;5;124m\"\u001b[39m][\u001b[38;5;241m2\u001b[39m, \u001b[38;5;241m1\u001b[39m, idx],\n\u001b[1;32m    530\u001b[0m         g[\u001b[38;5;124m\"\u001b[39m\u001b[38;5;124mparams\u001b[39m\u001b[38;5;124m\"\u001b[39m][\u001b[38;5;241m2\u001b[39m, \u001b[38;5;241m2\u001b[39m, idx],\n\u001b[1;32m    531\u001b[0m         g[\u001b[38;5;124m\"\u001b[39m\u001b[38;5;124mparams\u001b[39m\u001b[38;5;124m\"\u001b[39m][\u001b[38;5;241m2\u001b[39m, \u001b[38;5;241m3\u001b[39m, idx]\n\u001b[1;32m    532\u001b[0m     )\n\u001b[1;32m    533\u001b[0m     params\u001b[38;5;241m.\u001b[39mappend((t, pnue, pnuebar, pnux))\n",
      "File \u001b[0;32mh5py/_objects.pyx:54\u001b[0m, in \u001b[0;36mh5py._objects.with_phil.wrapper\u001b[0;34m()\u001b[0m\n",
      "File \u001b[0;32mh5py/_objects.pyx:55\u001b[0m, in \u001b[0;36mh5py._objects.with_phil.wrapper\u001b[0;34m()\u001b[0m\n",
      "File \u001b[0;32m~/miniconda3/envs/ic_sn_hnl/lib/python3.10/site-packages/h5py/_hl/dataset.py:768\u001b[0m, in \u001b[0;36mDataset.__getitem__\u001b[0;34m(self, args, new_dtype)\u001b[0m\n\u001b[1;32m    766\u001b[0m \u001b[38;5;28;01mif\u001b[39;00m \u001b[38;5;28mself\u001b[39m\u001b[38;5;241m.\u001b[39m_fast_read_ok \u001b[38;5;129;01mand\u001b[39;00m (new_dtype \u001b[38;5;129;01mis\u001b[39;00m \u001b[38;5;28;01mNone\u001b[39;00m):\n\u001b[1;32m    767\u001b[0m     \u001b[38;5;28;01mtry\u001b[39;00m:\n\u001b[0;32m--> 768\u001b[0m         \u001b[38;5;28;01mreturn\u001b[39;00m \u001b[38;5;28;43mself\u001b[39;49m\u001b[38;5;241;43m.\u001b[39;49m\u001b[43m_fast_reader\u001b[49m\u001b[38;5;241m.\u001b[39mread(args)\n\u001b[1;32m    769\u001b[0m     \u001b[38;5;28;01mexcept\u001b[39;00m \u001b[38;5;167;01mTypeError\u001b[39;00m:\n\u001b[1;32m    770\u001b[0m         \u001b[38;5;28;01mpass\u001b[39;00m  \u001b[38;5;66;03m# Fall back to Python read pathway below\u001b[39;00m\n",
      "File \u001b[0;32m~/miniconda3/envs/ic_sn_hnl/lib/python3.10/site-packages/h5py/_hl/dataset.py:533\u001b[0m, in \u001b[0;36mDataset._fast_reader\u001b[0;34m(self)\u001b[0m\n\u001b[1;32m    530\u001b[0m \u001b[38;5;28;01mif\u001b[39;00m \u001b[38;5;124m'\u001b[39m\u001b[38;5;124m_fast_reader\u001b[39m\u001b[38;5;124m'\u001b[39m \u001b[38;5;129;01min\u001b[39;00m \u001b[38;5;28mself\u001b[39m\u001b[38;5;241m.\u001b[39m_cache_props:\n\u001b[1;32m    531\u001b[0m     \u001b[38;5;28;01mreturn\u001b[39;00m \u001b[38;5;28mself\u001b[39m\u001b[38;5;241m.\u001b[39m_cache_props[\u001b[38;5;124m'\u001b[39m\u001b[38;5;124m_fast_reader\u001b[39m\u001b[38;5;124m'\u001b[39m]\n\u001b[0;32m--> 533\u001b[0m rdr \u001b[38;5;241m=\u001b[39m \u001b[43m_selector\u001b[49m\u001b[38;5;241;43m.\u001b[39;49m\u001b[43mReader\u001b[49m\u001b[43m(\u001b[49m\u001b[38;5;28;43mself\u001b[39;49m\u001b[38;5;241;43m.\u001b[39;49m\u001b[43mid\u001b[49m\u001b[43m)\u001b[49m\n\u001b[1;32m    535\u001b[0m \u001b[38;5;66;03m# If the file is read-only, cache the reader to speed up future uses.\u001b[39;00m\n\u001b[1;32m    536\u001b[0m \u001b[38;5;66;03m# This cache is invalidated by .refresh() when using SWMR.\u001b[39;00m\n\u001b[1;32m    537\u001b[0m \u001b[38;5;28;01mif\u001b[39;00m \u001b[38;5;28mself\u001b[39m\u001b[38;5;241m.\u001b[39m_readonly:\n",
      "\u001b[0;31mKeyboardInterrupt\u001b[0m: "
     ]
    }
   ],
   "source": [
    "with h5.File(\"data/serialized_sm_flux.h5\", \"r\") as h5f:\n",
    "    sm_flux = deserialize(h5f[\"sm_flux_0\"])\n",
    "    \n",
    "sm_t, sm_hits = sm_flux.get_hits(\n",
    "    tmax=100 * units[\"second\"],\n",
    "    model_file=\"magnetic_moment.txt\"\n",
    ")\n",
    "\n",
    "out = {}\n",
    "\n",
    "with h5.File(SERIALIZED_BSM_FILE, \"r\") as h5f:\n",
    "    for key in tqdm(h5f.keys()):\n",
    "        key_split = key.split(\"_\")[0].split(\"-\")\n",
    "        mass = float(key_split[2].replace(\"MeV\", \"\").replace(\"d\", \".\"))\n",
    "        \n",
    "        # if mass!=100:\n",
    "        #     continue\n",
    "        if mass not in out:\n",
    "            out[mass] = []\n",
    "        coupling = float(f\"-{key_split[3][2:].replace('dot', '.')}\".replace(\"d\", \".\"))\n",
    "        flux = deserialize(h5f[key])\n",
    "        \n",
    "        bsm_t, bsm_hits = flux.get_hits(\n",
    "            model_file=\"magnetic_moment.txt\",\n",
    "            tmax=100 * units[\"second\"]\n",
    "        )\n",
    "        \n",
    "        bg_hits = flux.get_background(\n",
    "            shape=bsm_hits.shape,\n",
    "            model_file=\"magnetic_moment.txt\",\n",
    "            tmax=100 * units[\"second\"]\n",
    "        )\n",
    "        \n",
    "        if np.any(sm_t!=bsm_t):\n",
    "            raise ValueError(\"Hit times are different !\")\n",
    "            \n",
    "        significance, _, _ = find_significance_matrix(bsm_hits, sm_hits, bg_hits, bsm_t)\n",
    "        m = ~np.isnan(significance)\n",
    "        out[mass].append((coupling, significance[m].max()))"
   ]
  },
  {
   "cell_type": "markdown",
   "id": "69a37888-5884-4592-8467-11da02e615ee",
   "metadata": {},
   "source": [
    "# Compute the sensitivity by interpolating in log-space on the points in parameter space from the last step."
   ]
  },
  {
   "cell_type": "code",
   "execution_count": null,
   "id": "e2217c94-9c6b-4b12-a5fa-af251eb07160",
   "metadata": {},
   "outputs": [],
   "source": [
    "sensitivities = []\n",
    "\n",
    "for k, v in out.items():\n",
    "    v = sorted(v)\n",
    "    \n",
    "    couplings = np.power(10, [x[0] for x in v])\n",
    "    significnces = [x[1] for x in v]\n",
    "    \n",
    "    try:\n",
    "        interp = interp1d(np.log(couplings), np.log(significnces))\n",
    "        f = lambda lc: np.exp(interp(lc)) - 3.841\n",
    "        res = ridder(f, np.log(couplings[0]), np.log(couplings[-1]))\n",
    "        sens = np.exp(res)\n",
    "        sensitivities.append((k, sens))\n",
    "    except ValueError:\n",
    "        pass\n",
    "    \n",
    "sensitivities = sorted(sensitivities)"
   ]
  },
  {
   "cell_type": "code",
   "execution_count": null,
   "id": "ea11597d-6d7b-4cbc-98c5-ed375352c052",
   "metadata": {},
   "outputs": [],
   "source": [
    "masses = np.array([x[0] for x in sensitivities])\n",
    "couplings = np.array([x[1] for x in sensitivities])\n",
    "\n",
    "if not os.path.exists(RESULTS_FILE):\n",
    "    with h5.File(RESULTS_FILE, \"w\") as _:\n",
    "        pass\n",
    "\n",
    "with h5.File(RESULTS_FILE, \"r+\") as h5f:\n",
    "    if RESULTS_NAME in h5f.keys():\n",
    "        del h5f[RESULTS_NAME]\n",
    "    h5f.create_group(RESULTS_NAME)\n",
    "    h5f[RESULTS_NAME].create_dataset(\"masses\", data=masses)\n",
    "    h5f[RESULTS_NAME].create_dataset(\"couplings\", data=couplings)"
   ]
  },
  {
   "cell_type": "markdown",
   "id": "dec9fccd-160b-43b3-b3dd-b2b2eba1d432",
   "metadata": {},
   "source": [
    "# Now let's do it all again for Gen2\n",
    "\n",
    "We will estimate this by scaling the number of hits seen in the Gen1 case by the \"effective photoncathode area.\"\n",
    "We define this to be:\n",
    "$$\n",
    "\\sum_{i\\in\\mathrm{modules}} \\varepsilon_{i} \\times A_{i},\n",
    "$$\n",
    "where $\\varepsilon_{i}$ and $A_{i}$ are the quantum efficiency (QE) and photocathode area for a given OM.\n",
    "IceCube has 5,160 optical modules.\n",
    "4,680 of these use Hamamatsu R7081-02 with a 10-inch photo cathode diameter and a QE of 0.25, while the remaining 480 of these use Hamamatsu R7081-02MOD with a 10-inch photocathode diameter and a QE of 0.34.\n",
    "See [the IceCube instrumentation on online systems paper](https://arxiv.org/abs/1612.05093) for further details.\n",
    "IceCube Gen2 will contain 9,600 new optical modules, each with 24 3-inch PMTs with quantum efficiency equal to the high-QE Gen1 OMs.\n",
    "See [this paper](https://arxiv.org/abs/2008.04323) for details"
   ]
  },
  {
   "cell_type": "code",
   "execution_count": 11,
   "id": "56b9ab24-589b-4c54-87e8-bf7fcb775c3c",
   "metadata": {},
   "outputs": [],
   "source": [
    "ep1 = 0.25\n",
    "ep2 = 0.34\n",
    "\n",
    "gen1_area = np.pi * (10 / 2)**2\n",
    "gen2_area = 24 * np.pi * (3 / 2)**2\n",
    "\n",
    "gen1_eff_pc_area = 4680 * gen1_area * ep1 + 480 * gen1_area * ep2\n",
    "gen2_eff_pc_area = gen1_eff_pc_area + 9600 * gen2_area * ep2\n",
    "\n",
    "r = gen2_eff_pc_area / gen1_eff_pc_area"
   ]
  },
  {
   "cell_type": "code",
   "execution_count": 12,
   "id": "2b530a30-c2e8-4564-a4eb-3ec730700951",
   "metadata": {},
   "outputs": [
    {
     "name": "stderr",
     "output_type": "stream",
     "text": [
      "100%|██████████| 63/63 [1:29:24<00:00, 85.15s/it]\n"
     ]
    }
   ],
   "source": [
    "with h5.File(SERIALIZED_SM_FILE, \"r\") as h5f:\n",
    "    sm_flux = deserialize(h5f[\"sm_flux_0\"])\n",
    "    \n",
    "sm_t, sm_hits = sm_flux.get_hits(\n",
    "    tmax=100 * units[\"second\"],\n",
    "    model_file=\"magnetic_moment.txt\"\n",
    ")\n",
    "\n",
    "sm_hits *= r\n",
    "\n",
    "out = {}\n",
    "\n",
    "with h5.File(SERIALIZED_BSM_FILE, \"r\") as h5f:\n",
    "    for key in tqdm(h5f.keys()):\n",
    "        key_split = key.split(\"_\")[0].split(\"-\")\n",
    "        mass = float(key_split[2].replace(\"MeV\", \"\").replace(\"d\", \".\"))\n",
    "\n",
    "        if mass not in out:\n",
    "            out[mass] = []\n",
    "        coupling = float(f\"-{key_split[3][2:].replace('dot', '.')}\".replace(\"d\", \".\"))\n",
    "        flux = deserialize(h5f[key])\n",
    "        \n",
    "        bsm_t, bsm_hits = flux.get_hits(\n",
    "            model_file=\"magnetic_moment.txt\",\n",
    "            tmax=100 * units[\"second\"]\n",
    "        )\n",
    "        \n",
    "        bsm_hits *= r\n",
    "        \n",
    "        bg_hits = flux.get_background(\n",
    "            shape=bsm_hits.shape,\n",
    "            model_file=\"magnetic_moment.txt\",\n",
    "            tmax=100 * units[\"second\"]\n",
    "        )\n",
    "        \n",
    "        bg_hits *= r\n",
    "        \n",
    "        if np.any(sm_t!=bsm_t):\n",
    "            raise ValueError(\"Hit times are different !\")\n",
    "            \n",
    "        significance, _, _ = find_significance_matrix(bsm_hits, sm_hits, bg_hits, bsm_t)\n",
    "        m = ~np.isnan(significance)\n",
    "        out[mass].append((coupling, significance[m].max()))"
   ]
  },
  {
   "cell_type": "code",
   "execution_count": 13,
   "id": "900fe525-28b5-4bc2-a4a2-bb1a9d06d058",
   "metadata": {},
   "outputs": [],
   "source": [
    "sensitivities = []\n",
    "\n",
    "for k, v in out.items():\n",
    "    v = sorted(v)\n",
    "    \n",
    "    couplings = np.power(10, [x[0] for x in v])\n",
    "    significnces = [x[1] for x in v]\n",
    "    \n",
    "    try:\n",
    "        interp = interp1d(np.log(couplings), np.log(significnces))\n",
    "        f = lambda lc: np.exp(interp(lc)) - 3.841\n",
    "        res = ridder(f, np.log(couplings[0]), np.log(couplings[-1]))\n",
    "        sens = np.exp(res)\n",
    "        sensitivities.append((k, sens))\n",
    "    except ValueError:\n",
    "        pass"
   ]
  },
  {
   "cell_type": "code",
   "execution_count": 14,
   "id": "10204305-a982-4789-833c-e1cc7464a778",
   "metadata": {},
   "outputs": [],
   "source": [
    "sensitivities  = sorted(sensitivities)\n",
    "masses = np.array([x[0] for x in sensitivities])\n",
    "couplings = np.array([x[1] for x in sensitivities])\n",
    "\n",
    "if not os.path.exists(RESULTS_FILE):\n",
    "    with h5.File(RESULTS_FILE, \"w\") as _:\n",
    "        pass\n",
    "\n",
    "with h5.File(RESULTS_FILE, \"r+\") as h5f:\n",
    "    if f\"{RESULTS_NAME}_gen2\" in h5f.keys():\n",
    "        del h5f[f\"{RESULTS_NAME}_gen2\"]\n",
    "    h5f.create_group(f\"{RESULTS_NAME}_gen2\")\n",
    "    h5f[f\"{RESULTS_NAME}_gen2\"].create_dataset(\"masses\", data=masses)\n",
    "    h5f[f\"{RESULTS_NAME}_gen2\"].create_dataset(\"couplings\", data=couplings)"
   ]
  },
  {
   "cell_type": "code",
   "execution_count": 15,
   "id": "37a65381-4757-452d-b3fa-18c86a751293",
   "metadata": {},
   "outputs": [
    {
     "data": {
      "image/png": "[encoded data removed]",
      "text/plain": [
       "<Figure size 432x288 with 1 Axes>"
      ]
     },
     "metadata": {
      "needs_background": "light"
     },
     "output_type": "display_data"
    }
   ],
   "source": [
    "fig, ax = plt.subplots()\n",
    "\n",
    "for suffix, label in zip([\"\", \"_gen2\"], [\"Gen1\", \"Gen2\"]):\n",
    "    with h5.File(RESULTS_FILE) as h5f:\n",
    "        gp = h5f[f\"{RESULTS_NAME}{suffix}\"]\n",
    "        ax.plot(gp[\"masses\"][:], gp[\"couplings\"][:], label=label)\n",
    "\n",
    "ax.loglog()\n",
    "ax.legend()\n",
    "ax.set_xlabel(r\"$m_{\\chi}~\\left[\\mathrm{MeV}\\right]$\")\n",
    "ax.set_ylabel(r\"$d~\\left[\\mathrm{MeV}^{-1}\\right]$\")\n",
    "# Uncomment if doing majoran case\n",
    "# ax.set_ylabel(r\"$g_{\\phi}$\")\n",
    "plt.show()"
   ]
  },
  {
   "cell_type": "markdown",
   "id": "2d9f7049-d073-4632-930f-a50122bed999",
   "metadata": {},
   "source": [
    "## Let's check out the systematics from modeling uncertainties"
   ]
  },
  {
   "cell_type": "code",
   "execution_count": 120,
   "id": "dc08b86f-1b09-48e9-8fa1-337c2809ee36",
   "metadata": {},
   "outputs": [],
   "source": [
    "SCALINGS = [0.2, 0.8, 0.9, 1.0, 1.1, 1.2, 5]"
   ]
  },
  {
   "cell_type": "code",
   "execution_count": 137,
   "id": "514c846c-18aa-4835-98f8-5a7f112d6545",
   "metadata": {
    "collapsed": true,
    "jupyter": {
     "outputs_hidden": true
    },
    "tags": []
   },
   "outputs": [
    {
     "name": "stderr",
     "output_type": "stream",
     "text": [
      "  0%|          | 0/63 [00:00<?, ?it/s]"
     ]
    },
    {
     "name": "stdout",
     "output_type": "stream",
     "text": [
      "8949.60969781698\n",
      "4821.947193032407\n",
      "4288.109521217164\n",
      "3841.0640830394186\n",
      "3441.8653753719555\n",
      "3067.7309776417533\n"
     ]
    },
    {
     "name": "stderr",
     "output_type": "stream",
     "text": [
      "  2%|▏         | 1/63 [07:00<7:14:58, 420.94s/it]"
     ]
    },
    {
     "name": "stdout",
     "output_type": "stream",
     "text": [
      "80930.44906405848\n",
      "[8949.60969781698, 4821.947193032407, 4288.109521217164, 3841.0640830394186, 3441.8653753719555, 3067.7309776417533, 80930.44906405848]\n",
      "4035.8707337946107\n",
      "298.96332700848143\n",
      "112.48785139932261\n",
      "42.52499957320833\n",
      "46.41436363308094\n",
      "200.99361195017264\n"
     ]
    },
    {
     "name": "stderr",
     "output_type": "stream",
     "text": [
      "  3%|▎         | 2/63 [13:39<6:54:28, 407.68s/it]"
     ]
    },
    {
     "name": "stdout",
     "output_type": "stream",
     "text": [
      "87948.34211497987\n",
      "[4035.8707337946107, 298.96332700848143, 112.48785139932261, 42.52499957320833, 46.41436363308094, 200.99361195017264, 87948.34211497987]\n",
      "3822.081644421385\n",
      "241.12348283702158\n",
      "61.64290000012625\n",
      "0.4249467038828243\n",
      "56.00965949199599\n",
      "228.4886707132464\n"
     ]
    },
    {
     "name": "stderr",
     "output_type": "stream",
     "text": [
      "  5%|▍         | 3/63 [20:39<6:53:19, 413.32s/it]"
     ]
    },
    {
     "name": "stdout",
     "output_type": "stream",
     "text": [
      "88900.14609457343\n",
      "[3822.081644421385, 241.12348283702158, 61.64290000012625, 0.4249467038828243, 56.00965949199599, 228.4886707132464, 88900.14609457343]\n",
      "3803.590921995259\n",
      "236.09014016611764\n",
      "59.08100253733937\n",
      "0.004251961076050748\n",
      "58.34244340041914\n",
      "233.60588229977293\n"
     ]
    },
    {
     "name": "stderr",
     "output_type": "stream",
     "text": [
      "  6%|▋         | 4/63 [27:44<6:51:00, 417.97s/it]"
     ]
    },
    {
     "name": "stdout",
     "output_type": "stream",
     "text": [
      "89035.81726059271\n",
      "[3803.590921995259, 236.09014016611764, 59.08100253733937, 0.004251961076050748, 58.34244340041914, 233.60588229977293, 89035.81726059271]\n",
      "3799.005957035639\n",
      "235.42595883881586\n",
      "58.7867262481559\n",
      "4.342721796479765e-05\n",
      "58.56071165240064\n",
      "233.96808174404578\n"
     ]
    },
    {
     "name": "stderr",
     "output_type": "stream",
     "text": [
      "  8%|▊         | 5/63 [34:45<6:45:07, 419.09s/it]"
     ]
    },
    {
     "name": "stdout",
     "output_type": "stream",
     "text": [
      "89030.06842030957\n",
      "[3799.005957035639, 235.42595883881586, 58.7867262481559, 4.342721796479765e-05, 58.56071165240064, 233.96808174404578, 89030.06842030957]\n",
      "3803.9365409441525\n",
      "236.10602768454555\n",
      "59.08178406720981\n",
      "0.0032235386467860394\n",
      "58.356271809039754\n",
      "233.64698052714812\n"
     ]
    },
    {
     "name": "stderr",
     "output_type": "stream",
     "text": [
      " 10%|▉         | 6/63 [41:46<6:38:39, 419.65s/it]"
     ]
    },
    {
     "name": "stdout",
     "output_type": "stream",
     "text": [
      "89053.58815073641\n",
      "[3803.9365409441525, 236.10602768454555, 59.08178406720981, 0.0032235386467860394, 58.356271809039754, 233.64698052714812, 89053.58815073641]\n",
      "3801.6713360950816\n",
      "235.5646866054667\n",
      "58.80872960489069\n",
      "4.2973574809757054e-08\n",
      "58.63620617766719\n",
      "234.21931631182088\n"
     ]
    },
    {
     "name": "stderr",
     "output_type": "stream",
     "text": [
      " 11%|█         | 7/63 [48:51<6:33:16, 421.36s/it]"
     ]
    },
    {
     "name": "stdout",
     "output_type": "stream",
     "text": [
      "89086.14896169747\n",
      "[3801.6713360950816, 235.5646866054667, 58.80872960489069, 4.2973574809757054e-08, 58.63620617766719, 234.21931631182088, 89086.14896169747]\n",
      "3799.069021257339\n",
      "235.40212820270972\n",
      "58.76730528903863\n",
      "5.6100132317382645e-09\n",
      "58.59859786495872\n",
      "234.06573579057294\n"
     ]
    },
    {
     "name": "stderr",
     "output_type": "stream",
     "text": [
      " 13%|█▎        | 8/63 [55:27<6:18:53, 413.34s/it]"
     ]
    },
    {
     "name": "stdout",
     "output_type": "stream",
     "text": [
      "89017.4345901697\n",
      "[3799.069021257339, 235.40212820270972, 58.76730528903863, 5.6100132317382645e-09, 58.59859786495872, 234.06573579057294, 89017.4345901697]\n",
      "3802.6486970655387\n",
      "235.61389207807224\n",
      "58.819700102896604\n",
      "5.085723786546481e-09\n",
      "58.652268298257695\n",
      "234.27824447093008\n"
     ]
    },
    {
     "name": "stderr",
     "output_type": "stream",
     "text": [
      " 14%|█▍        | 9/63 [1:02:05<6:07:39, 408.50s/it]"
     ]
    },
    {
     "name": "stdout",
     "output_type": "stream",
     "text": [
      "89092.3164182906\n",
      "[3802.6486970655387, 235.61389207807224, 58.819700102896604, 5.085723786546481e-09, 58.652268298257695, 234.27824447093008, 89092.3164182906]\n",
      "3803.5951302758767\n",
      "235.6638813315003\n",
      "58.83143197489699\n",
      "5.005531093782434e-09\n",
      "58.66323508947244\n",
      "234.31911393579503\n"
     ]
    },
    {
     "name": "stderr",
     "output_type": "stream",
     "text": [
      " 16%|█▌        | 10/63 [1:08:29<5:54:11, 400.97s/it]"
     ]
    },
    {
     "name": "stdout",
     "output_type": "stream",
     "text": [
      "89091.25147446478\n",
      "[3803.5951302758767, 235.6638813315003, 58.83143197489699, 5.005531093782434e-09, 58.66323508947244, 234.31911393579503, 89091.25147446478]\n",
      "4035.615984386677\n",
      "298.6905688871557\n",
      "112.02800442162334\n",
      "42.128297165120784\n",
      "46.52912461168307\n",
      "201.26482872408815\n"
     ]
    },
    {
     "name": "stderr",
     "output_type": "stream",
     "text": [
      " 17%|█▋        | 11/63 [1:14:51<5:42:26, 395.12s/it]"
     ]
    },
    {
     "name": "stdout",
     "output_type": "stream",
     "text": [
      "87971.65213831537\n",
      "[4035.615984386677, 298.6905688871557, 112.02800442162334, 42.128297165120784, 46.52912461168307, 201.26482872408815, 87971.65213831537]\n",
      "3825.75222842957\n",
      "241.52690701591928\n",
      "61.813858880632324\n",
      "0.43968855350510694\n",
      "55.95175768896661\n",
      "228.4475375056645\n"
     ]
    },
    {
     "name": "stderr",
     "output_type": "stream",
     "text": [
      " 19%|█▉        | 12/63 [1:21:13<5:32:28, 391.16s/it]"
     ]
    },
    {
     "name": "stdout",
     "output_type": "stream",
     "text": [
      "88956.82008499582\n",
      "[3825.75222842957, 241.52690701591928, 61.813858880632324, 0.43968855350510694, 55.95175768896661, 228.4475375056645, 88956.82008499582]\n",
      "45370.96538799658\n",
      "29316.66990920907\n",
      "27019.04623837932\n",
      "24832.147354533314\n",
      "22742.876965722768\n",
      "20759.69726092607\n"
     ]
    },
    {
     "name": "stderr",
     "output_type": "stream",
     "text": [
      " 21%|██        | 13/63 [1:27:40<5:25:00, 390.02s/it]"
     ]
    },
    {
     "name": "stdout",
     "output_type": "stream",
     "text": [
      "27529.61560317874\n",
      "[45370.96538799658, 29316.66990920907, 27019.04623837932, 24832.147354533314, 22742.876965722768, 20759.69726092607, 27529.61560317874]\n",
      "24371.037286254927\n",
      "12507.414770540723\n",
      "10948.58533888706\n",
      "9502.940724205604\n",
      "8166.756460343284\n",
      "6941.2991043193615\n"
     ]
    },
    {
     "name": "stderr",
     "output_type": "stream",
     "text": [
      " 22%|██▏       | 14/63 [1:34:10<5:18:31, 390.04s/it]"
     ]
    },
    {
     "name": "stdout",
     "output_type": "stream",
     "text": [
      "43231.16199726844\n",
      "[24371.037286254927, 12507.414770540723, 10948.58533888706, 9502.940724205604, 8166.756460343284, 6941.2991043193615, 43231.16199726844]\n",
      "13981.187151273887\n",
      "5234.377682802064\n",
      "4194.969663677679\n",
      "3273.9423793878814\n",
      "2470.62836697686\n",
      "1789.3637929359538\n"
     ]
    },
    {
     "name": "stderr",
     "output_type": "stream",
     "text": [
      " 24%|██▍       | 15/63 [1:40:36<5:10:59, 388.74s/it]"
     ]
    },
    {
     "name": "stdout",
     "output_type": "stream",
     "text": [
      "58236.6954542232\n",
      "[13981.187151273887, 5234.377682802064, 4194.969663677679, 3273.9423793878814, 2470.62836697686, 1789.3637929359538, 58236.6954542232]\n",
      "6198.367791256285\n",
      "1067.5052203085215\n",
      "630.1257189806493\n",
      "311.5544627801428\n",
      "116.89716029073315\n",
      "27.27567454952259\n"
     ]
    },
    {
     "name": "stderr",
     "output_type": "stream",
     "text": [
      " 25%|██▌       | 16/63 [1:46:59<5:03:15, 387.14s/it]"
     ]
    },
    {
     "name": "stdout",
     "output_type": "stream",
     "text": [
      "79055.85325436853\n",
      "[6198.367791256285, 1067.5052203085215, 630.1257189806493, 311.5544627801428, 116.89716029073315, 27.27567454952259, 79055.85325436853]\n",
      "4288.946981559857\n",
      "373.97254597360734\n",
      "139.98914033803158\n",
      "24.329816507972282\n",
      "21.50106648725523\n",
      "139.79514201128768\n"
     ]
    },
    {
     "name": "stderr",
     "output_type": "stream",
     "text": [
      " 27%|██▋       | 17/63 [1:53:24<4:56:07, 386.25s/it]"
     ]
    },
    {
     "name": "stdout",
     "output_type": "stream",
     "text": [
      "86781.80848848657\n",
      "[4288.946981559857, 373.97254597360734, 139.98914033803158, 24.329816507972282, 21.50106648725523, 139.79514201128768, 86781.80848848657]\n",
      "3981.8639648634125\n",
      "284.5747880095587\n",
      "85.50674745046126\n",
      "5.388885373031371\n",
      "39.668453038051666\n",
      "192.56293421439477\n"
     ]
    },
    {
     "name": "stderr",
     "output_type": "stream",
     "text": [
      " 29%|██▊       | 18/63 [1:59:47<4:49:07, 385.49s/it]"
     ]
    },
    {
     "name": "stdout",
     "output_type": "stream",
     "text": [
      "88070.46430635336\n",
      "[3981.8639648634125, 284.5747880095587, 85.50674745046126, 5.388885373031371, 39.668453038051666, 192.56293421439477, 88070.46430635336]\n",
      "3883.8829036877432\n",
      "257.7547330624511\n",
      "70.44350562711043\n",
      "1.6736538260865927\n",
      "48.789559035911225\n",
      "213.44664637315873\n"
     ]
    },
    {
     "name": "stderr",
     "output_type": "stream",
     "text": [
      " 30%|███       | 19/63 [2:06:12<4:42:31, 385.26s/it]"
     ]
    },
    {
     "name": "stdout",
     "output_type": "stream",
     "text": [
      "88568.71409377619\n",
      "[3883.8829036877432, 257.7547330624511, 70.44350562711043, 1.6736538260865927, 48.789559035911225, 213.44664637315873, 88568.71409377619]\n",
      "168829.00820733258\n",
      "151437.11374315945\n",
      "148655.8813743578\n",
      "145915.3420413657\n",
      "143211.8441428339\n",
      "140540.35685190535\n"
     ]
    },
    {
     "name": "stderr",
     "output_type": "stream",
     "text": [
      " 32%|███▏      | 20/63 [2:12:31<4:34:51, 383.52s/it]"
     ]
    },
    {
     "name": "stdout",
     "output_type": "stream",
     "text": [
      "72209.81586811238\n",
      "[168829.00820733258, 151437.11374315945, 148655.8813743578, 145915.3420413657, 143211.8441428339, 140540.35685190535, 72209.81586811238]\n",
      "6654.908607686753\n",
      "1693.7722894492545\n",
      "1298.265313218908\n",
      "1005.6730642391121\n",
      "768.833141170875\n",
      "600.0753960365182\n"
     ]
    },
    {
     "name": "stderr",
     "output_type": "stream",
     "text": [
      " 33%|███▎      | 21/63 [2:18:52<4:27:49, 382.60s/it]"
     ]
    },
    {
     "name": "stdout",
     "output_type": "stream",
     "text": [
      "79136.96523639723\n",
      "[6654.908607686753, 1693.7722894492545, 1298.265313218908, 1005.6730642391121, 768.833141170875, 600.0753960365182, 79136.96523639723]\n",
      "4810.477335845149\n",
      "549.619500400353\n",
      "266.8900810436244\n",
      "91.61513989451487\n",
      "15.792999754234188\n",
      "80.66618730781192\n"
     ]
    },
    {
     "name": "stderr",
     "output_type": "stream",
     "text": [
      " 35%|███▍      | 22/63 [2:25:12<4:20:52, 381.77s/it]"
     ]
    },
    {
     "name": "stdout",
     "output_type": "stream",
     "text": [
      "84721.43131250585\n",
      "[4810.477335845149, 549.619500400353, 266.8900810436244, 91.61513989451487, 15.792999754234188, 80.66618730781192, 84721.43131250585]\n",
      "4283.929067776015\n",
      "370.0912286772873\n",
      "135.24303273162514\n",
      "19.74269722435929\n",
      "17.802221990768885\n",
      "137.12625507362827\n"
     ]
    },
    {
     "name": "stderr",
     "output_type": "stream",
     "text": [
      " 37%|███▋      | 23/63 [2:31:32<4:14:15, 381.39s/it]"
     ]
    },
    {
     "name": "stdout",
     "output_type": "stream",
     "text": [
      "86842.85366317863\n",
      "[4283.929067776015, 370.0912286772873, 135.24303273162514, 19.74269722435929, 17.802221990768885, 137.12625507362827, 86842.85366317863]\n",
      "4023.1172332748247\n",
      "293.5849937321909\n",
      "89.63512748677022\n",
      "3.632701058136263\n",
      "35.19282404073965\n",
      "183.80538194881228\n"
     ]
    },
    {
     "name": "stderr",
     "output_type": "stream",
     "text": [
      " 38%|███▊      | 24/63 [2:38:01<4:09:16, 383.49s/it]"
     ]
    },
    {
     "name": "stdout",
     "output_type": "stream",
     "text": [
      "88021.86031138594\n",
      "[4023.1172332748247, 293.5849937321909, 89.63512748677022, 3.632701058136263, 35.19282404073965, 183.80538194881228, 88021.86031138594]\n",
      "3889.2250613951473\n",
      "256.82715482882486\n",
      "69.58982978500717\n",
      "0.4497566710197134\n",
      "48.89663704147097\n",
      "214.42591931427887\n"
     ]
    },
    {
     "name": "stderr",
     "output_type": "stream",
     "text": [
      " 40%|███▉      | 25/63 [2:44:25<4:03:03, 383.77s/it]"
     ]
    },
    {
     "name": "stdout",
     "output_type": "stream",
     "text": [
      "88759.41374677909\n",
      "[3889.2250613951473, 256.82715482882486, 69.58982978500717, 0.4497566710197134, 48.89663704147097, 214.42591931427887, 88759.41374677909]\n",
      "3829.781884725613\n",
      "241.72578490255546\n",
      "61.83456215163096\n",
      "0.042440004965328626\n",
      "55.827224875778484\n",
      "228.70808983704046\n"
     ]
    },
    {
     "name": "stderr",
     "output_type": "stream",
     "text": [
      " 41%|████▏     | 26/63 [2:50:51<3:57:00, 384.33s/it]"
     ]
    },
    {
     "name": "stdout",
     "output_type": "stream",
     "text": [
      "89035.72946925298\n",
      "[3829.781884725613, 241.72578490255546, 61.83456215163096, 0.042440004965328626, 55.827224875778484, 228.70808983704046, 89035.72946925298]\n",
      "104029.75709936989\n",
      "79916.18867443677\n",
      "76274.29557140253\n",
      "72730.71007048397\n",
      "69278.51476663211\n",
      "65939.41887759895\n"
     ]
    },
    {
     "name": "stderr",
     "output_type": "stream",
     "text": [
      " 43%|████▎     | 27/63 [2:57:16<3:50:45, 384.59s/it]"
     ]
    },
    {
     "name": "stdout",
     "output_type": "stream",
     "text": [
      "14370.92680328677\n",
      "[104029.75709936989, 79916.18867443677, 76274.29557140253, 72730.71007048397, 69278.51476663211, 65939.41887759895, 14370.92680328677]\n",
      "25548.002887894283\n",
      "13147.56694980769\n",
      "11500.896267645701\n",
      "9973.981163700926\n",
      "8562.288039828243\n",
      "7267.797459125373\n"
     ]
    },
    {
     "name": "stderr",
     "output_type": "stream",
     "text": [
      " 44%|████▍     | 28/63 [3:03:43<3:44:41, 385.20s/it]"
     ]
    },
    {
     "name": "stdout",
     "output_type": "stream",
     "text": [
      "40857.82193433656\n",
      "[25548.002887894283, 13147.56694980769, 11500.896267645701, 9973.981163700926, 8562.288039828243, 7267.797459125373, 40857.82193433656]\n",
      "8421.400704170694\n",
      "2099.7020992441976\n",
      "1463.2248707496328\n",
      "945.7630492608005\n",
      "553.407811143552\n",
      "284.0101422249427\n"
     ]
    },
    {
     "name": "stderr",
     "output_type": "stream",
     "text": [
      " 46%|████▌     | 29/63 [3:10:11<3:38:47, 386.11s/it]"
     ]
    },
    {
     "name": "stdout",
     "output_type": "stream",
     "text": [
      "71592.29957690788\n",
      "[8421.400704170694, 2099.7020992441976, 1463.2248707496328, 945.7630492608005, 553.407811143552, 284.0101422249427, 71592.29957690788]\n",
      "4702.565180503094\n",
      "513.8945819075307\n",
      "235.015390697954\n",
      "73.41090417485248\n",
      "16.649821363382216\n",
      "91.0552739939958\n"
     ]
    },
    {
     "name": "stderr",
     "output_type": "stream",
     "text": [
      " 48%|████▊     | 30/63 [3:16:37<3:32:24, 386.19s/it]"
     ]
    },
    {
     "name": "stdout",
     "output_type": "stream",
     "text": [
      "84965.1554140437\n",
      "[4702.565180503094, 513.8945819075307, 235.015390697954, 73.41090417485248, 16.649821363382216, 91.0552739939958, 84965.1554140437]\n",
      "3950.503181414824\n",
      "276.7519182921533\n",
      "81.18050051674072\n",
      "5.0389314955427835\n",
      "41.97988918092233\n",
      "197.9853002305972\n"
     ]
    },
    {
     "name": "stderr",
     "output_type": "stream",
     "text": [
      " 49%|████▉     | 31/63 [3:23:01<3:25:33, 385.42s/it]"
     ]
    },
    {
     "name": "stdout",
     "output_type": "stream",
     "text": [
      "88111.49254438258\n",
      "[3950.503181414824, 276.7519182921533, 81.18050051674072, 5.0389314955427835, 41.97988918092233, 197.9853002305972, 88111.49254438258]\n",
      "3826.854936953576\n",
      "242.13445341499755\n",
      "62.162926679171505\n",
      "0.323042646941758\n",
      "55.44973222052795\n",
      "227.7025218365161\n"
     ]
    },
    {
     "name": "stderr",
     "output_type": "stream",
     "text": [
      " 51%|█████     | 32/63 [3:29:23<3:18:35, 384.36s/it]"
     ]
    },
    {
     "name": "stdout",
     "output_type": "stream",
     "text": [
      "88917.36859437218\n",
      "[3826.854936953576, 242.13445341499755, 62.162926679171505, 0.323042646941758, 55.44973222052795, 227.7025218365161, 88917.36859437218]\n",
      "4032.308945525583\n",
      "296.74339443838835\n",
      "99.17539034499714\n",
      "31.225400792864093\n",
      "44.60530155266679\n",
      "198.52850716782996\n"
     ]
    },
    {
     "name": "stderr",
     "output_type": "stream",
     "text": [
      " 52%|█████▏    | 33/63 [3:35:42<3:11:27, 382.91s/it]"
     ]
    },
    {
     "name": "stdout",
     "output_type": "stream",
     "text": [
      "88120.24942867341\n",
      "[4032.308945525583, 296.74339443838835, 99.17539034499714, 31.225400792864093, 44.60530155266679, 198.52850716782996, 88120.24942867341]\n",
      "3878.8590052847285\n",
      "254.2083177452878\n",
      "68.35253944485157\n",
      "2.4106483675602703\n",
      "51.670277649740456\n",
      "218.45594239595812\n"
     ]
    },
    {
     "name": "stderr",
     "output_type": "stream",
     "text": [
      " 54%|█████▍    | 34/63 [3:42:00<3:04:20, 381.41s/it]"
     ]
    },
    {
     "name": "stdout",
     "output_type": "stream",
     "text": [
      "88854.1865402672\n",
      "[3878.8590052847285, 254.2083177452878, 68.35253944485157, 2.4106483675602703, 51.670277649740456, 218.45594239595812, 88854.1865402672]\n",
      "3823.24631244567\n",
      "241.34845769928506\n",
      "61.76942197272001\n",
      "0.1258486908151326\n",
      "55.76629690131449\n",
      "228.3137789216853\n"
     ]
    },
    {
     "name": "stderr",
     "output_type": "stream",
     "text": [
      " 56%|█████▌    | 35/63 [3:48:17<2:57:22, 380.08s/it]"
     ]
    },
    {
     "name": "stdout",
     "output_type": "stream",
     "text": [
      "88936.1224434094\n",
      "[3823.24631244567, 241.34845769928506, 61.76942197272001, 0.1258486908151326, 55.76629690131449, 228.3137789216853, 88936.1224434094]\n",
      "3811.893113389233\n",
      "237.98144471863634\n",
      "60.01733951744973\n",
      "0.010301293001788281\n",
      "57.47291501238942\n",
      "231.9091378587691\n"
     ]
    },
    {
     "name": "stderr",
     "output_type": "stream",
     "text": [
      " 57%|█████▋    | 36/63 [3:54:36<2:50:53, 379.77s/it]"
     ]
    },
    {
     "name": "stdout",
     "output_type": "stream",
     "text": [
      "89065.53459193371\n",
      "[3811.893113389233, 237.98144471863634, 60.01733951744973, 0.010301293001788281, 57.47291501238942, 231.9091378587691, 89065.53459193371]\n",
      "226415.25613244006\n",
      "206623.75798556925\n",
      "203454.52326471923\n",
      "200320.9869221066\n",
      "197219.52302447672\n",
      "194149.87469566148\n"
     ]
    },
    {
     "name": "stderr",
     "output_type": "stream",
     "text": [
      " 59%|█████▊    | 37/63 [4:00:53<2:44:12, 378.94s/it]"
     ]
    },
    {
     "name": "stdout",
     "output_type": "stream",
     "text": [
      "112877.70899919307\n",
      "[226415.25613244006, 206623.75798556925, 203454.52326471923, 200320.9869221066, 197219.52302447672, 194149.87469566148, 112877.70899919307]\n",
      "72826.4467189823\n",
      "52213.01239485043\n",
      "49160.147296067036\n",
      "46210.72791539453\n",
      "43358.220965697255\n",
      "40610.89992528816\n"
     ]
    },
    {
     "name": "stderr",
     "output_type": "stream",
     "text": [
      " 60%|██████    | 38/63 [4:07:16<2:38:21, 380.07s/it]"
     ]
    },
    {
     "name": "stdout",
     "output_type": "stream",
     "text": [
      "17083.026687766658\n",
      "[72826.4467189823, 52213.01239485043, 49160.147296067036, 46210.72791539453, 43358.220965697255, 40610.89992528816, 17083.026687766658]\n",
      "34255.44696135417\n",
      "19860.9260839966\n",
      "17874.049555203528\n",
      "16004.344854557712\n",
      "14241.349394081568\n",
      "12590.9313791272\n"
     ]
    },
    {
     "name": "stderr",
     "output_type": "stream",
     "text": [
      " 62%|██████▏   | 39/63 [4:13:41<2:32:35, 381.47s/it]"
     ]
    },
    {
     "name": "stdout",
     "output_type": "stream",
     "text": [
      "33323.668817098835\n",
      "[34255.44696135417, 19860.9260839966, 17874.049555203528, 16004.344854557712, 14241.349394081568, 12590.9313791272, 33323.668817098835]\n",
      "9926.027084686386\n",
      "2878.847738399665\n",
      "2121.692643731134\n",
      "1482.8146821788978\n",
      "966.0955904270959\n",
      "583.0228499726509\n"
     ]
    },
    {
     "name": "stderr",
     "output_type": "stream",
     "text": [
      " 63%|██████▎   | 40/63 [4:20:06<2:26:39, 382.59s/it]"
     ]
    },
    {
     "name": "stdout",
     "output_type": "stream",
     "text": [
      "67175.0733771635\n",
      "[9926.027084686386, 2878.847738399665, 2121.692643731134, 1482.8146821788978, 966.0955904270959, 583.0228499726509, 67175.0733771635]\n",
      "4977.937882307626\n",
      "611.8384430859005\n",
      "304.0990891704714\n",
      "113.33332831212465\n",
      "30.953377319507126\n",
      "69.47763498302993\n"
     ]
    },
    {
     "name": "stderr",
     "output_type": "stream",
     "text": [
      " 65%|██████▌   | 41/63 [4:26:29<2:20:19, 382.70s/it]"
     ]
    },
    {
     "name": "stdout",
     "output_type": "stream",
     "text": [
      "83830.6976606655\n",
      "[4977.937882307626, 611.8384430859005, 304.0990891704714, 113.33332831212465, 30.953377319507126, 69.47763498302993, 83830.6976606655]\n",
      "4010.37683553886\n",
      "290.48828826801764\n",
      "88.84365199011518\n",
      "7.714697900948522\n",
      "38.066966515238164\n",
      "189.27267565661896\n"
     ]
    },
    {
     "name": "stderr",
     "output_type": "stream",
     "text": [
      " 67%|██████▋   | 42/63 [4:32:51<2:13:53, 382.53s/it]"
     ]
    },
    {
     "name": "stdout",
     "output_type": "stream",
     "text": [
      "88179.4456713607\n",
      "[4010.37683553886, 290.48828826801764, 88.84365199011518, 7.714697900948522, 38.066966515238164, 189.27267565661896, 88179.4456713607]\n",
      "3839.990044542821\n",
      "244.3446008262399\n",
      "63.22369020759288\n",
      "0.49360610457915755\n",
      "54.630084767839435\n",
      "226.18267546968855\n"
     ]
    },
    {
     "name": "stderr",
     "output_type": "stream",
     "text": [
      " 68%|██████▊   | 43/63 [4:39:12<2:07:24, 382.24s/it]"
     ]
    },
    {
     "name": "stdout",
     "output_type": "stream",
     "text": [
      "88961.66199694248\n",
      "[3839.990044542821, 244.3446008262399, 63.22369020759288, 0.49360610457915755, 54.630084767839435, 226.18267546968855, 88961.66199694248]\n",
      "3805.360569921846\n",
      "236.83177948964294\n",
      "59.47302041801959\n",
      "0.02402113550579088\n",
      "57.92607373289866\n",
      "232.74239037765074\n"
     ]
    },
    {
     "name": "stderr",
     "output_type": "stream",
     "text": [
      " 70%|██████▉   | 44/63 [4:45:36<2:01:10, 382.65s/it]"
     ]
    },
    {
     "name": "stdout",
     "output_type": "stream",
     "text": [
      "89004.70614458527\n",
      "[3805.360569921846, 236.83177948964294, 59.47302041801959, 0.02402113550579088, 57.92607373289866, 232.74239037765074, 89004.70614458527]\n",
      "9829764.750402011\n",
      "9730459.937639775\n",
      "9714076.612381253\n",
      "9697740.071583997\n",
      "9681449.930335205\n",
      "9665205.810004095\n"
     ]
    },
    {
     "name": "stderr",
     "output_type": "stream",
     "text": [
      " 71%|███████▏  | 45/63 [4:51:54<1:54:22, 381.23s/it]"
     ]
    },
    {
     "name": "stdout",
     "output_type": "stream",
     "text": [
      "9103493.59126543\n",
      "[9829764.750402011, 9730459.937639775, 9714076.612381253, 9697740.071583997, 9681449.930335205, 9665205.810004095, 9103493.59126543]\n",
      "1885841.5396009893\n",
      "1833110.297386095\n",
      "1824466.4881681593\n",
      "1815863.106682295\n",
      "1807299.8193407068\n",
      "1798776.2980157766\n"
     ]
    },
    {
     "name": "stderr",
     "output_type": "stream",
     "text": [
      " 73%|███████▎  | 46/63 [4:58:12<1:47:43, 380.24s/it]"
     ]
    },
    {
     "name": "stdout",
     "output_type": "stream",
     "text": [
      "1501565.6896880555\n",
      "[1885841.5396009893, 1833110.297386095, 1824466.4881681593, 1815863.106682295, 1807299.8193407068, 1798776.2980157766, 1501565.6896880555]\n",
      "131948.77880787128\n",
      "106378.98298131826\n",
      "102420.69489014079\n",
      "98588.18879853096\n",
      "94837.01018538093\n",
      "91166.60654916381\n"
     ]
    },
    {
     "name": "stderr",
     "output_type": "stream",
     "text": [
      " 75%|███████▍  | 47/63 [5:04:30<1:41:14, 379.67s/it]"
     ]
    },
    {
     "name": "stdout",
     "output_type": "stream",
     "text": [
      "25693.390396951\n",
      "[131948.77880787128, 106378.98298131826, 102420.69489014079, 98588.18879853096, 94837.01018538093, 91166.60654916381, 25693.390396951]\n",
      "6101.028769227909\n",
      "1036.255408284691\n",
      "608.9957307459408\n",
      "299.510779065371\n",
      "112.55252772502718\n",
      "26.823570297408878\n"
     ]
    },
    {
     "name": "stderr",
     "output_type": "stream",
     "text": [
      " 76%|███████▌  | 48/63 [5:10:52<1:35:06, 380.45s/it]"
     ]
    },
    {
     "name": "stdout",
     "output_type": "stream",
     "text": [
      "79254.48459245078\n",
      "[6101.028769227909, 1036.255408284691, 608.9957307459408, 299.510779065371, 112.55252772502718, 26.823570297408878, 79254.48459245078]\n",
      "3831.6522734835744\n",
      "243.04874075464613\n",
      "62.591860734559305\n",
      "0.337886902723767\n",
      "55.08128672173552\n",
      "227.0107421118082\n"
     ]
    },
    {
     "name": "stderr",
     "output_type": "stream",
     "text": [
      " 78%|███████▊  | 49/63 [5:17:16<1:28:58, 381.33s/it]"
     ]
    },
    {
     "name": "stdout",
     "output_type": "stream",
     "text": [
      "88948.38532916666\n",
      "[3831.6522734835744, 243.04874075464613, 62.591860734559305, 0.337886902723767, 55.08128672173552, 227.0107421118082, 88948.38532916666]\n",
      "9088516.89776512\n",
      "9000857.051124614\n",
      "8986392.272824237\n",
      "8971968.054356689\n",
      "8957584.061831724\n",
      "8943239.966811473\n"
     ]
    },
    {
     "name": "stderr",
     "output_type": "stream",
     "text": [
      " 79%|███████▉  | 50/63 [5:23:35<1:22:28, 380.65s/it]"
     ]
    },
    {
     "name": "stdout",
     "output_type": "stream",
     "text": [
      "8424941.452890445\n",
      "[9088516.89776512, 9000857.051124614, 8986392.272824237, 8971968.054356689, 8957584.061831724, 8943239.966811473, 8424941.452890445]\n",
      "1148631.6525198682\n",
      "1104720.018982947\n",
      "1097546.6926554516\n",
      "1090413.9437051765\n",
      "1083321.4360804087\n",
      "1076268.8392499727\n"
     ]
    },
    {
     "name": "stderr",
     "output_type": "stream",
     "text": [
      " 81%|████████  | 51/63 [5:29:53<1:15:58, 379.90s/it]"
     ]
    },
    {
     "name": "stdout",
     "output_type": "stream",
     "text": [
      "854412.3260868285\n",
      "[1148631.6525198682, 1104720.018982947, 1097546.6926554516, 1090413.9437051765, 1083321.4360804087, 1076268.8392499727, 854412.3260868285]\n",
      "66036.0690376652\n",
      "48074.17602438264\n",
      "45405.06299119402\n",
      "42817.93243473198\n",
      "40312.49713658058\n",
      "37888.853947182244\n"
     ]
    },
    {
     "name": "stderr",
     "output_type": "stream",
     "text": [
      " 83%|████████▎ | 52/63 [5:36:11<1:09:32, 379.29s/it]"
     ]
    },
    {
     "name": "stdout",
     "output_type": "stream",
     "text": [
      "32227.639683444635\n",
      "[66036.0690376652, 48074.17602438264, 45405.06299119402, 42817.93243473198, 40312.49713658058, 37888.853947182244, 32227.639683444635]\n",
      "5151.616833214677\n",
      "657.4831634617294\n",
      "326.4417199719319\n",
      "113.36276214491227\n",
      "18.328147912045097\n",
      "49.51343986783286\n"
     ]
    },
    {
     "name": "stderr",
     "output_type": "stream",
     "text": [
      " 84%|████████▍ | 53/63 [5:42:34<1:03:24, 380.47s/it]"
     ]
    },
    {
     "name": "stdout",
     "output_type": "stream",
     "text": [
      "83150.34130830341\n",
      "[5151.616833214677, 657.4831634617294, 326.4417199719319, 113.36276214491227, 18.328147912045097, 49.51343986783286, 83150.34130830341]\n",
      "3821.64769734774\n",
      "240.13660308805993\n",
      "61.07557535660817\n",
      "0.12551550834905356\n",
      "56.49288692304617\n",
      "229.9710823018031\n"
     ]
    },
    {
     "name": "stderr",
     "output_type": "stream",
     "text": [
      " 86%|████████▌ | 54/63 [5:48:55<57:05, 380.62s/it]  "
     ]
    },
    {
     "name": "stdout",
     "output_type": "stream",
     "text": [
      "89007.70024504024\n",
      "[3821.64769734774, 240.13660308805993, 61.07557535660817, 0.12551550834905356, 56.49288692304617, 229.9710823018031, 89007.70024504024]\n",
      "3803.948572109366\n",
      "235.70396006802184\n",
      "58.852099862142495\n",
      "3.3747990030974506e-05\n",
      "58.63825926126083\n",
      "234.2646772613516\n"
     ]
    },
    {
     "name": "stderr",
     "output_type": "stream",
     "text": [
      " 87%|████████▋ | 55/63 [5:55:18<50:51, 381.38s/it]"
     ]
    },
    {
     "name": "stdout",
     "output_type": "stream",
     "text": [
      "89100.8769238391\n",
      "[3803.948572109366, 235.70396006802184, 58.852099862142495, 3.3747990030974506e-05, 58.63825926126083, 234.2646772613516, 89100.8769238391]\n",
      "6758236.558989159\n",
      "6677552.628992899\n",
      "6664251.919999825\n",
      "6650992.157571788\n",
      "6637773.001447628\n",
      "6624594.116974708\n"
     ]
    },
    {
     "name": "stderr",
     "output_type": "stream",
     "text": [
      " 89%|████████▉ | 56/63 [6:01:36<44:22, 380.41s/it]"
     ]
    },
    {
     "name": "stdout",
     "output_type": "stream",
     "text": [
      "6150801.807719586\n",
      "[6758236.558989159, 6677552.628992899, 6664251.919999825, 6650992.157571788, 6637773.001447628, 6624594.116974708, 6150801.807719586]\n",
      "11043730.48845317\n",
      "10940939.757066341\n",
      "10923976.377994634\n",
      "10907060.038033763\n",
      "10890190.348086704\n",
      "10873366.925440747\n"
     ]
    },
    {
     "name": "stderr",
     "output_type": "stream",
     "text": [
      " 90%|█████████ | 57/63 [6:07:54<37:57, 379.58s/it]"
     ]
    },
    {
     "name": "stdout",
     "output_type": "stream",
     "text": [
      "10265115.592169024\n",
      "[11043730.48845317, 10940939.757066341, 10923976.377994634, 10907060.038033763, 10890190.348086704, 10873366.925440747, 10265115.592169024]\n",
      "5127881.393593099\n",
      "5053804.117125515\n",
      "5041603.723591438\n",
      "5029444.060017734\n",
      "5017324.789718889\n",
      "5005245.581530085\n"
     ]
    },
    {
     "name": "stderr",
     "output_type": "stream",
     "text": [
      " 92%|█████████▏| 58/63 [6:14:11<31:34, 378.91s/it]"
     ]
    },
    {
     "name": "stdout",
     "output_type": "stream",
     "text": [
      "4573113.210956058\n",
      "[5127881.393593099, 5053804.117125515, 5041603.723591438, 5029444.060017734, 5017324.789718889, 5005245.581530085, 4573113.210956058]\n",
      "125607.39681513014\n",
      "110443.41120530304\n",
      "108033.11283875443\n",
      "105655.51890108286\n",
      "103318.88664877543\n",
      "101017.41548471787\n"
     ]
    },
    {
     "name": "stderr",
     "output_type": "stream",
     "text": [
      " 94%|█████████▎| 59/63 [6:20:27<25:11, 377.99s/it]"
     ]
    },
    {
     "name": "stdout",
     "output_type": "stream",
     "text": [
      "65693.06732055894\n",
      "[125607.39681513014, 110443.41120530304, 108033.11283875443, 105655.51890108286, 103318.88664877543, 101017.41548471787, 65693.06732055894]\n",
      "3804.0584699558094\n",
      "236.31024336995324\n",
      "59.197103326307115\n",
      "0.004382307818445952\n",
      "58.22439761352871\n",
      "233.36765999777708\n"
     ]
    },
    {
     "name": "stderr",
     "output_type": "stream",
     "text": [
      " 95%|█████████▌| 60/63 [6:26:50<18:58, 379.48s/it]"
     ]
    },
    {
     "name": "stdout",
     "output_type": "stream",
     "text": [
      "89043.39832047978\n",
      "[3804.0584699558094, 236.31024336995324, 59.197103326307115, 0.004382307818445952, 58.22439761352871, 233.36765999777708, 89043.39832047978]\n",
      "3799.7117108182283\n",
      "235.44573083117575\n",
      "58.77968614500787\n",
      "1.1068483871667922e-06\n",
      "58.60478010861698\n",
      "234.09638917633856\n"
     ]
    },
    {
     "name": "stderr",
     "output_type": "stream",
     "text": [
      " 97%|█████████▋| 61/63 [6:33:15<12:41, 380.96s/it]"
     ]
    },
    {
     "name": "stdout",
     "output_type": "stream",
     "text": [
      "89016.38694841112\n",
      "[3799.7117108182283, 235.44573083117575, 58.77968614500787, 1.1068483871667922e-06, 58.60478010861698, 234.09638917633856, 89016.38694841112]\n",
      "4158.6267502474075\n",
      "337.9022766787748\n",
      "187.76786657304\n",
      "95.74737477001145\n",
      "51.6153917605252\n",
      "191.6694314135093\n"
     ]
    },
    {
     "name": "stderr",
     "output_type": "stream",
     "text": [
      " 98%|█████████▊| 62/63 [6:39:33<06:20, 380.05s/it]"
     ]
    },
    {
     "name": "stdout",
     "output_type": "stream",
     "text": [
      "87353.59202245343\n",
      "[4158.6267502474075, 337.9022766787748, 187.76786657304, 95.74737477001145, 51.6153917605252, 191.6694314135093, 87353.59202245343]\n",
      "8240722.150588429\n",
      "8155342.175056731\n",
      "8141258.152314684\n",
      "8127214.901568787\n",
      "8113212.085441073\n",
      "8099249.3720912505\n"
     ]
    },
    {
     "name": "stderr",
     "output_type": "stream",
     "text": [
      "100%|██████████| 63/63 [6:45:49<00:00, 386.50s/it]"
     ]
    },
    {
     "name": "stdout",
     "output_type": "stream",
     "text": [
      "7595568.610237095\n",
      "[8240722.150588429, 8155342.175056731, 8141258.152314684, 8127214.901568787, 8113212.085441073, 8099249.3720912505, 7595568.610237095]\n"
     ]
    },
    {
     "name": "stderr",
     "output_type": "stream",
     "text": [
      "\n"
     ]
    }
   ],
   "source": [
    "with h5.File(\"data/serialized_sm_flux.h5\", \"r\") as h5f:\n",
    "    sm_flux = deserialize(h5f[\"sm_flux_0\"])\n",
    "    \n",
    "sm_t, sm_hits = sm_flux.get_hits(\n",
    "    tmax=100 * units[\"second\"],\n",
    "    model_file=\"magnetic_moment.txt\"\n",
    ")\n",
    "\n",
    "bg_hits = flux.get_background(\n",
    "    shape=sm_hits.shape,\n",
    "    model_file=\"magnetic_moment.txt\",\n",
    "    tmax=100 * units[\"second\"]\n",
    ")\n",
    "\n",
    "out = {}\n",
    "\n",
    "with h5.File(SERIALIZED_BSM_FILE, \"r\") as h5f:\n",
    "    for key in tqdm(h5f.keys()):\n",
    "        key_split = key.split(\"_\")[0].split(\"-\")\n",
    "        mass = float(key_split[2].replace(\"MeV\", \"\").replace(\"d\", \".\"))\n",
    "        \n",
    "        if mass not in out:\n",
    "            out[mass] = []\n",
    "        coupling = float(f\"-{key_split[3][2:].replace('dot', '.')}\".replace(\"d\", \".\"))\n",
    "        flux = deserialize(h5f[key])\n",
    "        \n",
    "        bsm_t, bsm_hits = flux.get_hits(\n",
    "            model_file=\"magnetic_moment.txt\",\n",
    "            tmax=100 * units[\"second\"]\n",
    "        )\n",
    "    \n",
    "        if np.any(sm_t!=bsm_t):\n",
    "            raise ValueError(\"Hit times are different !\")\n",
    "            \n",
    "        significances = []\n",
    "        for scaling in SCALINGS:\n",
    "            significance, _, _ = find_significance_matrix(\n",
    "                bsm_hits,\n",
    "                sm_hits,\n",
    "                bg_hits,\n",
    "                bsm_t,\n",
    "                bg_mismodel=1.0,\n",
    "                sm_mismodel=scaling\n",
    "            )\n",
    "            \n",
    "            m = ~np.isnan(significance)\n",
    "            significances.append(significance[m].max())\n",
    "            print(significance[m].max())\n",
    "        print(significances)\n",
    "        out[mass].append((coupling, significances))"
   ]
  },
  {
   "cell_type": "code",
   "execution_count": 159,
   "id": "3484cb65-9af6-4cb2-9af3-b889b3c3bc3b",
   "metadata": {},
   "outputs": [
    {
     "data": {
      "text/plain": [
       "[(-7.5,\n",
       "  [8949.60969781698,\n",
       "   4821.947193032407,\n",
       "   4288.109521217164,\n",
       "   3841.0640830394186,\n",
       "   3441.8653753719555,\n",
       "   3067.7309776417533,\n",
       "   80930.44906405848]),\n",
       " (-8.0,\n",
       "  [4035.8707337946107,\n",
       "   298.96332700848143,\n",
       "   112.48785139932261,\n",
       "   42.52499957320833,\n",
       "   46.41436363308094,\n",
       "   200.99361195017264,\n",
       "   87948.34211497987]),\n",
       " (-8.5,\n",
       "  [3822.081644421385,\n",
       "   241.12348283702158,\n",
       "   61.64290000012625,\n",
       "   0.4249467038828243,\n",
       "   56.00965949199599,\n",
       "   228.4886707132464,\n",
       "   88900.14609457343]),\n",
       " (-9.0,\n",
       "  [3803.590921995259,\n",
       "   236.09014016611764,\n",
       "   59.08100253733937,\n",
       "   0.004251961076050748,\n",
       "   58.34244340041914,\n",
       "   233.60588229977293,\n",
       "   89035.81726059271]),\n",
       " (-9.5,\n",
       "  [3799.005957035639,\n",
       "   235.42595883881586,\n",
       "   58.7867262481559,\n",
       "   4.342721796479765e-05,\n",
       "   58.56071165240064,\n",
       "   233.96808174404578,\n",
       "   89030.06842030957])]"
      ]
     },
     "execution_count": 159,
     "metadata": {},
     "output_type": "execute_result"
    }
   ],
   "source": [
    "out[0.01]"
   ]
  },
  {
   "cell_type": "code",
   "execution_count": 157,
   "id": "264e0818-c215-4675-acad-026c61fbb260",
   "metadata": {},
   "outputs": [
    {
     "name": "stdout",
     "output_type": "stream",
     "text": [
      "3795.164957035641\n",
      "8945.768697816973\n",
      "3799.754130275876\n",
      "4031.774984386677\n",
      "3880.0419036877456\n",
      "45367.124387996584\n",
      "3825.9408847256122\n",
      "168825.16720733268\n",
      "3823.0139369535764\n",
      "104025.9160993699\n",
      "3808.0521133892316\n",
      "226411.41513244016\n",
      "3801.5195699218443\n",
      "72822.6057189823\n",
      "3827.811273483577\n",
      "9829760.909401996\n",
      "3800.1075721093653\n",
      "6758232.717989162\n",
      "3795.870710818226\n",
      "4154.785750247405\n"
     ]
    },
    {
     "ename": "IndexError",
     "evalue": "index 0 is out of bounds for axis 0 with size 0",
     "output_type": "error",
     "traceback": [
      "\u001b[0;31m---------------------------------------------------------------------------\u001b[0m",
      "\u001b[0;31mIndexError\u001b[0m                                Traceback (most recent call last)",
      "Input \u001b[0;32mIn [157]\u001b[0m, in \u001b[0;36m<cell line: 3>\u001b[0;34m()\u001b[0m\n\u001b[1;32m     26\u001b[0m         \u001b[38;5;28;01mpass\u001b[39;00m\n\u001b[1;32m     28\u001b[0m a \u001b[38;5;241m=\u001b[39m np\u001b[38;5;241m.\u001b[39marray(a)\n\u001b[0;32m---> 29\u001b[0m sensitivities[idx, :] \u001b[38;5;241m=\u001b[39m \u001b[43ma\u001b[49m\u001b[43m[\u001b[49m\u001b[43msorter\u001b[49m\u001b[43m]\u001b[49m\n",
      "\u001b[0;31mIndexError\u001b[0m: index 0 is out of bounds for axis 0 with size 0"
     ]
    }
   ],
   "source": [
    "sensitivities = np.empty((len(SCALINGS), len(out)))\n",
    "\n",
    "for idx in range(7):\n",
    "\n",
    "    # idx = 3\n",
    "    a = []\n",
    "    \n",
    "    sorter = np.argsort(list(out.keys()))\n",
    "    \n",
    "    for k, v in out.items():\n",
    "        v = sorted(v)\n",
    "\n",
    "        couplings = np.power(10, [x[0] for x in v])\n",
    "        significances = [x[1][idx] for x in v]\n",
    "        \n",
    "        try:\n",
    "            interp = interp1d(np.log(couplings), np.log(significances))\n",
    "            f = lambda lc: np.exp(interp(lc)) - 3.841\n",
    "            res = ridder(f, np.log(couplings[0]), np.log(couplings[-1]))\n",
    "            sens = np.exp(res)\n",
    "            a.append(sens) \n",
    "            \n",
    "        except ValueError as e:\n",
    "            print(f(np.log(couplings[0])))\n",
    "            print(f(np.log(couplings[-1])))\n",
    "            pass\n",
    "\n",
    "    a = np.array(a)\n",
    "    sensitivities[idx, :] = a[sorter]"
   ]
  },
  {
   "cell_type": "code",
   "execution_count": 149,
   "id": "8989f7a2-5be7-42ba-82d1-7821bbdcac24",
   "metadata": {},
   "outputs": [
    {
     "data": {
      "image/png": "[encoded data removed]",
      "text/plain": [
       "<Figure size 432x288 with 1 Axes>"
      ]
     },
     "metadata": {
      "needs_background": "light"
     },
     "output_type": "display_data"
    }
   ],
   "source": [
    "masses = sorted(list(out.keys()))\n",
    "\n",
    "plt.plot(masses, sensitivities[0, :] / sensitivities[2, :])\n",
    "plt.plot(masses, sensitivities[1, :] / sensitivities[2, :])\n",
    "plt.plot(masses, sensitivities[3, :] / sensitivities[2, :])\n",
    "plt.plot(masses, sensitivities[4, :] / sensitivities[2, :])\n",
    "\n",
    "plt.semilogx()\n",
    "\n",
    "plt.show()"
   ]
  },
  {
   "cell_type": "code",
   "execution_count": null,
   "id": "029d4209-db0f-4126-acf8-58586fe1a1b3",
   "metadata": {},
   "outputs": [],
   "source": []
  },
  {
   "cell_type": "code",
   "execution_count": null,
   "id": "1431417a-4a95-4f83-a9ad-72fbcedbd6b9",
   "metadata": {},
   "outputs": [],
   "source": []
  },
  {
   "cell_type": "code",
   "execution_count": null,
   "id": "329a2063-ac1f-4c23-ae99-7031761a0cdc",
   "metadata": {},
   "outputs": [],
   "source": []
  },
  {
   "cell_type": "code",
   "execution_count": null,
   "id": "3168c891-7a56-432f-8e65-9c78dc07d203",
   "metadata": {},
   "outputs": [],
   "source": []
  },
  {
   "cell_type": "code",
   "execution_count": null,
   "id": "724ffe60-41c8-42d0-81be-1a5415cd43ce",
   "metadata": {},
   "outputs": [],
   "source": []
  },
  {
   "cell_type": "code",
   "execution_count": 111,
   "id": "2d90b71d-a193-48f3-a594-c91cbf684805",
   "metadata": {},
   "outputs": [
    {
     "name": "stderr",
     "output_type": "stream",
     "text": [
      "/Users/jlazar/miniconda3/envs/ic_sn_hnl/lib/python3.10/site-packages/snewpy/models/base.py:305: RuntimeWarning: divide by zero encountered in log\n",
      "  np.exp(np.log(L) - (2+a)*np.log(Ea) + (1+a)*np.log(1+a)\n",
      "/Users/jlazar/miniconda3/envs/ic_sn_hnl/lib/python3.10/site-packages/snewpy/models/base.py:305: RuntimeWarning: invalid value encountered in subtract\n",
      "  np.exp(np.log(L) - (2+a)*np.log(Ea) + (1+a)*np.log(1+a)\n",
      "/Users/jlazar/miniconda3/envs/ic_sn_hnl/lib/python3.10/site-packages/snewpy/models/base.py:306: RuntimeWarning: divide by zero encountered in divide\n",
      "  - loggamma(1+a) + a*np.log(E) - (1+a)*(E/Ea)) / (u.erg * u.s)\n",
      "  0%|          | 0/63 [00:00<?, ?it/s]"
     ]
    },
    {
     "name": "stdout",
     "output_type": "stream",
     "text": [
      "[0.01047129 0.01096478]\n",
      "[0.125975 0.125975]\n",
      "\n",
      "[0.01047129 0.01096478]\n",
      "[0.125975 0.125975]\n",
      "\n",
      "[0.01047129 0.01096478]\n",
      "[0.125975 0.125975]\n",
      "\n",
      "[0.01047129 0.01096478]\n",
      "[0.125975 0.125975]\n",
      "\n",
      "[0.01047129 0.01096478]\n",
      "[0.125975 0.125975]\n",
      "\n",
      "[0.01047129 0.01096478]\n",
      "[0.125975 0.125975]\n",
      "\n"
     ]
    },
    {
     "name": "stderr",
     "output_type": "stream",
     "text": [
      "  2%|▏         | 1/63 [03:15<3:22:11, 195.67s/it]"
     ]
    },
    {
     "name": "stdout",
     "output_type": "stream",
     "text": [
      "[0.01096478]\n",
      "[0.1134775]\n",
      "\n",
      "[0.01047129 0.01096478]\n",
      "[0.125975 0.125975]\n",
      "\n",
      "[0.01047129 0.01096478]\n",
      "[0.125975 0.125975]\n",
      "\n",
      "[0.01047129 0.01096478]\n",
      "[0.125975 0.125975]\n",
      "\n",
      "[0.01047129 0.01096478]\n",
      "[0.125975 0.125975]\n",
      "\n",
      "[0.01047129 0.01096478]\n",
      "[0.125975 0.125975]\n",
      "\n",
      "[0.01047129 0.01096478]\n",
      "[0.125975 0.125975]\n",
      "\n"
     ]
    },
    {
     "name": "stderr",
     "output_type": "stream",
     "text": [
      "  3%|▎         | 2/63 [06:29<3:17:37, 194.39s/it]"
     ]
    },
    {
     "name": "stdout",
     "output_type": "stream",
     "text": [
      "[0.01096478]\n",
      "[0.1134775]\n",
      "\n",
      "[0.01047129 0.01096478]\n",
      "[0.125975 0.125975]\n",
      "\n",
      "[0.01047129 0.01096478]\n",
      "[0.125975 0.125975]\n",
      "\n",
      "[0.01]\n",
      "[0.125975]\n",
      "\n",
      "[0.01]\n",
      "[0.125975]\n",
      "\n",
      "[0.01]\n",
      "[0.125975]\n",
      "\n",
      "[0.01]\n",
      "[0.125975]\n",
      "\n"
     ]
    },
    {
     "name": "stderr",
     "output_type": "stream",
     "text": [
      "  5%|▍         | 3/63 [09:12<3:00:01, 180.03s/it]"
     ]
    },
    {
     "name": "stdout",
     "output_type": "stream",
     "text": [
      "[0.01096478]\n",
      "[0.1134775]\n",
      "\n",
      "[0.01]\n",
      "[0.125975]\n",
      "\n",
      "[0.01]\n",
      "[0.125975]\n",
      "\n",
      "[0.01]\n",
      "[0.125975]\n",
      "\n",
      "[0.01]\n",
      "[0.125975]\n",
      "\n",
      "[0.01]\n",
      "[0.125975]\n",
      "\n",
      "[0.01]\n",
      "[0.125975]\n",
      "\n"
     ]
    },
    {
     "name": "stderr",
     "output_type": "stream",
     "text": [
      "  6%|▋         | 4/63 [12:04<2:53:56, 176.89s/it]"
     ]
    },
    {
     "name": "stdout",
     "output_type": "stream",
     "text": [
      "[0.01       0.01047129]\n",
      "[0.1134775 0.1134775]\n",
      "\n",
      "[0.01]\n",
      "[0.125975]\n",
      "\n",
      "[0.01]\n",
      "[0.125975]\n",
      "\n",
      "[0.01]\n",
      "[0.125975]\n",
      "\n",
      "[0.01]\n",
      "[0.125975]\n",
      "\n",
      "[0.01]\n",
      "[0.125975]\n",
      "\n",
      "[0.01]\n",
      "[0.125975]\n",
      "\n"
     ]
    },
    {
     "name": "stderr",
     "output_type": "stream",
     "text": [
      "  8%|▊         | 5/63 [15:08<2:53:45, 179.74s/it]"
     ]
    },
    {
     "name": "stdout",
     "output_type": "stream",
     "text": [
      "[0.01096478]\n",
      "[0.1134775]\n",
      "\n",
      "[0.01096478]\n",
      "[0.1384725]\n",
      "\n",
      "[0.01096478]\n",
      "[0.1384725]\n",
      "\n",
      "[0.01096478]\n",
      "[0.1384725]\n",
      "\n",
      "[0.01096478]\n",
      "[0.1384725]\n",
      "\n",
      "[0.01096478]\n",
      "[0.1384725]\n",
      "\n",
      "[0.01096478]\n",
      "[0.1384725]\n",
      "\n"
     ]
    },
    {
     "name": "stderr",
     "output_type": "stream",
     "text": [
      " 10%|▉         | 6/63 [17:47<2:44:00, 172.64s/it]"
     ]
    },
    {
     "name": "stdout",
     "output_type": "stream",
     "text": [
      "[0.01]\n",
      "[0.125975]\n",
      "\n",
      "[0.0144544]\n",
      "[0.9383125]\n",
      "\n",
      "[0.01659587]\n",
      "[0.9633075]\n",
      "\n",
      "[0.02187762]\n",
      "[0.95081]\n",
      "\n",
      "[0.01258925]\n",
      "[0.95081]\n",
      "\n",
      "[0.01737801]\n",
      "[0.9633075]\n",
      "\n",
      "[0.01659587]\n",
      "[0.95081]\n",
      "\n"
     ]
    },
    {
     "name": "stderr",
     "output_type": "stream",
     "text": [
      " 11%|█         | 7/63 [20:30<2:38:00, 169.29s/it]"
     ]
    },
    {
     "name": "stdout",
     "output_type": "stream",
     "text": [
      "[0.0144544]\n",
      "[1.0132975]\n",
      "\n",
      "[0.04168694]\n",
      "[1.8631275]\n",
      "\n",
      "[0.02089296]\n",
      "[1.9631075]\n",
      "\n",
      "[0.02511886]\n",
      "[2.025595]\n",
      "\n",
      "[0.03630781]\n",
      "[1.9131175]\n",
      "\n",
      "[0.02630268]\n",
      "[1.9881025]\n",
      "\n",
      "[0.03162278]\n",
      "[2.0006]\n",
      "\n"
     ]
    },
    {
     "name": "stderr",
     "output_type": "stream",
     "text": [
      " 13%|█▎        | 8/63 [23:19<2:35:18, 169.42s/it]"
     ]
    },
    {
     "name": "stdout",
     "output_type": "stream",
     "text": [
      "[0.01995262]\n",
      "[2.2130575]\n",
      "\n",
      "[0.05011872]\n",
      "[5.]\n",
      "\n",
      "[0.03801894]\n",
      "[4.9625075]\n",
      "\n",
      "[0.01258925]\n",
      "[4.9625075]\n",
      "\n",
      "[0.03630781]\n",
      "[4.9375125]\n",
      "\n",
      "[0.03981072]\n",
      "[4.8625275]\n",
      "\n",
      "[0.05248075]\n",
      "[4.975005]\n",
      "\n"
     ]
    },
    {
     "name": "stderr",
     "output_type": "stream",
     "text": [
      " 14%|█▍        | 9/63 [26:11<2:33:06, 170.12s/it]"
     ]
    },
    {
     "name": "stdout",
     "output_type": "stream",
     "text": [
      "[0.08317638]\n",
      "[4.9375125]\n",
      "\n"
     ]
    },
    {
     "name": "stderr",
     "output_type": "stream",
     "text": [
      " 14%|█▍        | 9/63 [26:52<2:41:14, 179.16s/it]\n"
     ]
    },
    {
     "ename": "KeyboardInterrupt",
     "evalue": "",
     "output_type": "error",
     "traceback": [
      "\u001b[0;31m---------------------------------------------------------------------------\u001b[0m",
      "\u001b[0;31mKeyboardInterrupt\u001b[0m                         Traceback (most recent call last)",
      "Input \u001b[0;32mIn [111]\u001b[0m, in \u001b[0;36m<cell line: 11>\u001b[0;34m()\u001b[0m\n\u001b[1;32m     20\u001b[0m coupling \u001b[38;5;241m=\u001b[39m \u001b[38;5;28mfloat\u001b[39m(\u001b[38;5;124mf\u001b[39m\u001b[38;5;124m\"\u001b[39m\u001b[38;5;124m-\u001b[39m\u001b[38;5;132;01m{\u001b[39;00mkey_split[\u001b[38;5;241m3\u001b[39m][\u001b[38;5;241m2\u001b[39m:]\u001b[38;5;241m.\u001b[39mreplace(\u001b[38;5;124m'\u001b[39m\u001b[38;5;124mdot\u001b[39m\u001b[38;5;124m'\u001b[39m, \u001b[38;5;124m'\u001b[39m\u001b[38;5;124m.\u001b[39m\u001b[38;5;124m'\u001b[39m)\u001b[38;5;132;01m}\u001b[39;00m\u001b[38;5;124m\"\u001b[39m\u001b[38;5;241m.\u001b[39mreplace(\u001b[38;5;124m\"\u001b[39m\u001b[38;5;124md\u001b[39m\u001b[38;5;124m\"\u001b[39m, \u001b[38;5;124m\"\u001b[39m\u001b[38;5;124m.\u001b[39m\u001b[38;5;124m\"\u001b[39m))\n\u001b[1;32m     21\u001b[0m flux \u001b[38;5;241m=\u001b[39m deserialize(h5f[key])\n\u001b[0;32m---> 23\u001b[0m bsm_t, bsm_hits \u001b[38;5;241m=\u001b[39m \u001b[43mflux\u001b[49m\u001b[38;5;241;43m.\u001b[39;49m\u001b[43mget_hits\u001b[49m\u001b[43m(\u001b[49m\n\u001b[1;32m     24\u001b[0m \u001b[43m    \u001b[49m\u001b[43mmodel_file\u001b[49m\u001b[38;5;241;43m=\u001b[39;49m\u001b[38;5;124;43m\"\u001b[39;49m\u001b[38;5;124;43mmagnetic_moment.txt\u001b[39;49m\u001b[38;5;124;43m\"\u001b[39;49m\u001b[43m,\u001b[49m\n\u001b[1;32m     25\u001b[0m \u001b[43m    \u001b[49m\u001b[43mtmax\u001b[49m\u001b[38;5;241;43m=\u001b[39;49m\u001b[38;5;241;43m100\u001b[39;49m\u001b[43m \u001b[49m\u001b[38;5;241;43m*\u001b[39;49m\u001b[43m \u001b[49m\u001b[43munits\u001b[49m\u001b[43m[\u001b[49m\u001b[38;5;124;43m\"\u001b[39;49m\u001b[38;5;124;43msecond\u001b[39;49m\u001b[38;5;124;43m\"\u001b[39;49m\u001b[43m]\u001b[49m\n\u001b[1;32m     26\u001b[0m \u001b[43m\u001b[49m\u001b[43m)\u001b[49m\n\u001b[1;32m     28\u001b[0m bg_hits \u001b[38;5;241m=\u001b[39m flux\u001b[38;5;241m.\u001b[39mget_background(\n\u001b[1;32m     29\u001b[0m     shape\u001b[38;5;241m=\u001b[39mbsm_hits\u001b[38;5;241m.\u001b[39mshape,\n\u001b[1;32m     30\u001b[0m     model_file\u001b[38;5;241m=\u001b[39m\u001b[38;5;124m\"\u001b[39m\u001b[38;5;124mmagnetic_moment.txt\u001b[39m\u001b[38;5;124m\"\u001b[39m,\n\u001b[1;32m     31\u001b[0m     tmax\u001b[38;5;241m=\u001b[39m\u001b[38;5;241m100\u001b[39m \u001b[38;5;241m*\u001b[39m units[\u001b[38;5;124m\"\u001b[39m\u001b[38;5;124msecond\u001b[39m\u001b[38;5;124m\"\u001b[39m]\n\u001b[1;32m     32\u001b[0m )\n\u001b[1;32m     34\u001b[0m \u001b[38;5;28;01mif\u001b[39;00m np\u001b[38;5;241m.\u001b[39many(sm_t\u001b[38;5;241m!=\u001b[39mbsm_t):\n",
      "File \u001b[0;32m~/research/NuTel_SNe_BSM/examples/../sne_bsm/flux/parametrize_flux.py:287\u001b[0m, in \u001b[0;36mParameterizedFlux.get_hits\u001b[0;34m(self, tmin, tmax, dt, emin, emax, de, mixing_scheme, mass_ordering, model_file, force_write, keep_model_file, dist0)\u001b[0m\n\u001b[1;32m    260\u001b[0m \u001b[38;5;124;03m\"\"\"\u001b[39;00m\n\u001b[1;32m    261\u001b[0m \u001b[38;5;124;03mGet the number of hits in the detector as a function of time\u001b[39;00m\n\u001b[1;32m    262\u001b[0m \n\u001b[0;32m   (...)\u001b[0m\n\u001b[1;32m    284\u001b[0m \n\u001b[1;32m    285\u001b[0m \u001b[38;5;124;03m\"\"\"\u001b[39;00m\n\u001b[1;32m    286\u001b[0m \u001b[38;5;28;01mfrom\u001b[39;00m \u001b[38;5;21;01mastropy\u001b[39;00m \u001b[38;5;28;01mimport\u001b[39;00m units \u001b[38;5;28;01mas\u001b[39;00m u\n\u001b[0;32m--> 287\u001b[0m sim \u001b[38;5;241m=\u001b[39m \u001b[38;5;28;43mself\u001b[39;49m\u001b[38;5;241;43m.\u001b[39;49m\u001b[43mget_asteria_sim\u001b[49m\u001b[43m(\u001b[49m\n\u001b[1;32m    288\u001b[0m \u001b[43m    \u001b[49m\u001b[43mtmin\u001b[49m\u001b[38;5;241;43m=\u001b[39;49m\u001b[43mtmin\u001b[49m\u001b[43m,\u001b[49m\n\u001b[1;32m    289\u001b[0m \u001b[43m    \u001b[49m\u001b[43mtmax\u001b[49m\u001b[38;5;241;43m=\u001b[39;49m\u001b[43mtmax\u001b[49m\u001b[43m,\u001b[49m\n\u001b[1;32m    290\u001b[0m \u001b[43m    \u001b[49m\u001b[43mdt\u001b[49m\u001b[38;5;241;43m=\u001b[39;49m\u001b[43mdt\u001b[49m\u001b[43m,\u001b[49m\n\u001b[1;32m    291\u001b[0m \u001b[43m    \u001b[49m\u001b[43memin\u001b[49m\u001b[38;5;241;43m=\u001b[39;49m\u001b[43memin\u001b[49m\u001b[43m,\u001b[49m\n\u001b[1;32m    292\u001b[0m \u001b[43m    \u001b[49m\u001b[43memax\u001b[49m\u001b[38;5;241;43m=\u001b[39;49m\u001b[43memax\u001b[49m\u001b[43m,\u001b[49m\n\u001b[1;32m    293\u001b[0m \u001b[43m    \u001b[49m\u001b[43mde\u001b[49m\u001b[38;5;241;43m=\u001b[39;49m\u001b[43mde\u001b[49m\u001b[43m,\u001b[49m\n\u001b[1;32m    294\u001b[0m \u001b[43m    \u001b[49m\u001b[43mmixing_scheme\u001b[49m\u001b[38;5;241;43m=\u001b[39;49m\u001b[43mmixing_scheme\u001b[49m\u001b[43m,\u001b[49m\n\u001b[1;32m    295\u001b[0m \u001b[43m    \u001b[49m\u001b[43mmass_ordering\u001b[49m\u001b[38;5;241;43m=\u001b[39;49m\u001b[43mmass_ordering\u001b[49m\u001b[43m,\u001b[49m\n\u001b[1;32m    296\u001b[0m \u001b[43m    \u001b[49m\u001b[43mmodel_file\u001b[49m\u001b[38;5;241;43m=\u001b[39;49m\u001b[43mmodel_file\u001b[49m\u001b[43m,\u001b[49m\n\u001b[1;32m    297\u001b[0m \u001b[43m    \u001b[49m\u001b[43mforce_write\u001b[49m\u001b[38;5;241;43m=\u001b[39;49m\u001b[43mforce_write\u001b[49m\u001b[43m,\u001b[49m\n\u001b[1;32m    298\u001b[0m \u001b[43m    \u001b[49m\u001b[43mkeep_model_file\u001b[49m\u001b[38;5;241;43m=\u001b[39;49m\u001b[43mkeep_model_file\u001b[49m\u001b[43m,\u001b[49m\n\u001b[1;32m    299\u001b[0m \u001b[43m    \u001b[49m\u001b[43mdist0\u001b[49m\u001b[38;5;241;43m=\u001b[39;49m\u001b[43mdist0\u001b[49m\n\u001b[1;32m    300\u001b[0m \u001b[43m\u001b[49m\u001b[43m)\u001b[49m\n\u001b[1;32m    301\u001b[0m \u001b[38;5;28;01mif\u001b[39;00m dt\u001b[38;5;241m!=\u001b[39m\u001b[38;5;241m1e-3\u001b[39m\u001b[38;5;241m*\u001b[39munits\u001b[38;5;241m.\u001b[39msecond:\n\u001b[1;32m    302\u001b[0m     sim\u001b[38;5;241m.\u001b[39mrebin_result(dt \u001b[38;5;241m/\u001b[39m units[\u001b[38;5;124m\"\u001b[39m\u001b[38;5;124msecond\u001b[39m\u001b[38;5;124m\"\u001b[39m] \u001b[38;5;241m*\u001b[39m u\u001b[38;5;241m.\u001b[39ms)\n",
      "File \u001b[0;32m~/research/NuTel_SNe_BSM/examples/../sne_bsm/flux/parametrize_flux.py:239\u001b[0m, in \u001b[0;36mParameterizedFlux.get_asteria_sim\u001b[0;34m(self, tmin, tmax, dt, emin, emax, de, mixing_scheme, mass_ordering, model_file, force_write, keep_model_file, dist0)\u001b[0m\n\u001b[1;32m    225\u001b[0m sim_kwargs \u001b[38;5;241m=\u001b[39m {\n\u001b[1;32m    226\u001b[0m     \u001b[38;5;124m\"\u001b[39m\u001b[38;5;124mdistance\u001b[39m\u001b[38;5;124m\"\u001b[39m: dist0 \u001b[38;5;241m/\u001b[39m units[\u001b[38;5;124m\"\u001b[39m\u001b[38;5;124mm\u001b[39m\u001b[38;5;124m\"\u001b[39m] \u001b[38;5;241m*\u001b[39m u\u001b[38;5;241m.\u001b[39mm,\n\u001b[1;32m    227\u001b[0m     \u001b[38;5;124m\"\u001b[39m\u001b[38;5;124mmodel\u001b[39m\u001b[38;5;124m\"\u001b[39m: model,\n\u001b[0;32m   (...)\u001b[0m\n\u001b[1;32m    236\u001b[0m     \u001b[38;5;124m\"\u001b[39m\u001b[38;5;124mhierarchy\u001b[39m\u001b[38;5;124m\"\u001b[39m: mass_ordering,\n\u001b[1;32m    237\u001b[0m }\n\u001b[1;32m    238\u001b[0m sim \u001b[38;5;241m=\u001b[39m Simulation(\u001b[38;5;241m*\u001b[39m\u001b[38;5;241m*\u001b[39msim_kwargs)\n\u001b[0;32m--> 239\u001b[0m \u001b[43msim\u001b[49m\u001b[38;5;241;43m.\u001b[39;49m\u001b[43mrun\u001b[49m\u001b[43m(\u001b[49m\u001b[43m)\u001b[49m\n\u001b[1;32m    240\u001b[0m \u001b[38;5;28;01mif\u001b[39;00m \u001b[38;5;129;01mnot\u001b[39;00m keep_model_file:\n\u001b[1;32m    241\u001b[0m     \u001b[38;5;28;01mfrom\u001b[39;00m \u001b[38;5;21;01mos\u001b[39;00m \u001b[38;5;28;01mimport\u001b[39;00m remove\n",
      "File \u001b[0;32m~/research/ASTERIA/python/asteria/simulation.py:223\u001b[0m, in \u001b[0;36mSimulation.run\u001b[0;34m(self, load_simulation)\u001b[0m\n\u001b[1;32m    220\u001b[0m     \u001b[38;5;28;01mraise\u001b[39;00m \u001b[38;5;167;01mNotImplementedError\u001b[39;00m(\u001b[38;5;124m'\u001b[39m\u001b[38;5;124mSimulation loading is not currently implemented\u001b[39m\u001b[38;5;124m'\u001b[39m)\n\u001b[1;32m    222\u001b[0m \u001b[38;5;28mself\u001b[39m\u001b[38;5;241m.\u001b[39mcompute_photon_spectra()\n\u001b[0;32m--> 223\u001b[0m \u001b[38;5;28;43mself\u001b[39;49m\u001b[38;5;241;43m.\u001b[39;49m\u001b[43mcompute_energy_per_vol\u001b[49m\u001b[43m(\u001b[49m\u001b[43m)\u001b[49m\n\u001b[1;32m    224\u001b[0m \u001b[38;5;28;01mreturn\u001b[39;00m\n",
      "File \u001b[0;32m~/research/ASTERIA/python/asteria/simulation.py:308\u001b[0m, in \u001b[0;36mSimulation.compute_energy_per_vol\u001b[0;34m(self, part_size)\u001b[0m\n\u001b[1;32m    306\u001b[0m \u001b[38;5;28;01mif\u001b[39;00m part_size \u001b[38;5;241m<\u001b[39m \u001b[38;5;28mself\u001b[39m\u001b[38;5;241m.\u001b[39mtime\u001b[38;5;241m.\u001b[39msize:\n\u001b[1;32m    307\u001b[0m     \u001b[38;5;28;01mfor\u001b[39;00m idx \u001b[38;5;129;01min\u001b[39;00m np\u001b[38;5;241m.\u001b[39marange(\u001b[38;5;241m0\u001b[39m, \u001b[38;5;28mself\u001b[39m\u001b[38;5;241m.\u001b[39mtime\u001b[38;5;241m.\u001b[39msize, part_size):\n\u001b[0;32m--> 308\u001b[0m         spectrum \u001b[38;5;241m=\u001b[39m \u001b[38;5;28;43mself\u001b[39;49m\u001b[38;5;241;43m.\u001b[39;49m\u001b[43mget_combined_spectrum\u001b[49m\u001b[43m(\u001b[49m\u001b[38;5;28;43mself\u001b[39;49m\u001b[38;5;241;43m.\u001b[39;49m\u001b[43mtime\u001b[49m\u001b[43m[\u001b[49m\u001b[43midx\u001b[49m\u001b[43m:\u001b[49m\u001b[43midx\u001b[49m\u001b[43m \u001b[49m\u001b[38;5;241;43m+\u001b[39;49m\u001b[43m \u001b[49m\u001b[43mpart_size\u001b[49m\u001b[43m]\u001b[49m\u001b[43m,\u001b[49m\u001b[43m \u001b[49m\u001b[38;5;28;43mself\u001b[39;49m\u001b[38;5;241;43m.\u001b[39;49m\u001b[43menergy\u001b[49m\u001b[43m,\u001b[49m\u001b[43m \u001b[49m\u001b[43mflavor\u001b[49m\u001b[43m,\u001b[49m\n\u001b[1;32m    309\u001b[0m \u001b[43m                                              \u001b[49m\u001b[38;5;28;43mself\u001b[39;49m\u001b[38;5;241;43m.\u001b[39;49m\u001b[43m_mixing\u001b[49m\u001b[43m)\u001b[49m\n\u001b[1;32m    310\u001b[0m         result[idx:idx \u001b[38;5;241m+\u001b[39m part_size] \u001b[38;5;241m=\u001b[39m np\u001b[38;5;241m.\u001b[39mtrapz(spectrum, \u001b[38;5;28mself\u001b[39m\u001b[38;5;241m.\u001b[39menergy\u001b[38;5;241m.\u001b[39mvalue, axis\u001b[38;5;241m=\u001b[39m\u001b[38;5;241m1\u001b[39m)\n\u001b[1;32m    312\u001b[0m result \u001b[38;5;241m*\u001b[39m\u001b[38;5;241m=\u001b[39m (\n\u001b[1;32m    313\u001b[0m     H2O_in_ice \u001b[38;5;241m*\u001b[39m  \u001b[38;5;66;03m# Target Molecule (H2O) density\u001b[39;00m\n\u001b[1;32m    314\u001b[0m     np\u001b[38;5;241m.\u001b[39mediff1d(\u001b[38;5;28mself\u001b[39m\u001b[38;5;241m.\u001b[39mtime, to_end\u001b[38;5;241m=\u001b[39m(\u001b[38;5;28mself\u001b[39m\u001b[38;5;241m.\u001b[39mtime[\u001b[38;5;241m-\u001b[39m\u001b[38;5;241m1\u001b[39m] \u001b[38;5;241m-\u001b[39m \u001b[38;5;28mself\u001b[39m\u001b[38;5;241m.\u001b[39mtime[\u001b[38;5;241m-\u001b[39m\u001b[38;5;241m2\u001b[39m]))\u001b[38;5;241m.\u001b[39mvalue \u001b[38;5;241m*\u001b[39m  \u001b[38;5;66;03m# Time bin scaling\u001b[39;00m\n\u001b[1;32m    315\u001b[0m     \u001b[38;5;241m1\u001b[39m \u001b[38;5;241m/\u001b[39m (\u001b[38;5;241m4\u001b[39m \u001b[38;5;241m*\u001b[39m np\u001b[38;5;241m.\u001b[39mpi \u001b[38;5;241m*\u001b[39m dist \u001b[38;5;241m*\u001b[39m\u001b[38;5;241m*\u001b[39m \u001b[38;5;241m2\u001b[39m)  \u001b[38;5;66;03m# Distance\u001b[39;00m\n\u001b[1;32m    316\u001b[0m )\n",
      "File \u001b[0;32m~/research/ASTERIA/python/asteria/simulation.py:262\u001b[0m, in \u001b[0;36mSimulation.get_combined_spectrum\u001b[0;34m(self, t, E, flavor, mixing)\u001b[0m\n\u001b[1;32m    243\u001b[0m \u001b[38;5;28;01mdef\u001b[39;00m \u001b[38;5;21mget_combined_spectrum\u001b[39m(\u001b[38;5;28mself\u001b[39m, t, E, flavor, mixing):\n\u001b[1;32m    244\u001b[0m     \u001b[38;5;124;03m\"\"\"Returns mixed neutrino spectrum as a function of time and energy arising from flavor oscillations\u001b[39;00m\n\u001b[1;32m    245\u001b[0m \n\u001b[1;32m    246\u001b[0m \u001b[38;5;124;03m    Parameters\u001b[39;00m\n\u001b[0;32m   (...)\u001b[0m\n\u001b[1;32m    260\u001b[0m \u001b[38;5;124;03m        Mixed neutrino spectrum as a 2D array with dim (time, energy)\u001b[39;00m\n\u001b[1;32m    261\u001b[0m \u001b[38;5;124;03m    \"\"\"\u001b[39;00m\n\u001b[0;32m--> 262\u001b[0m     nu_spectrum \u001b[38;5;241m=\u001b[39m \u001b[38;5;28;43mself\u001b[39;49m\u001b[38;5;241;43m.\u001b[39;49m\u001b[43msource\u001b[49m\u001b[38;5;241;43m.\u001b[39;49m\u001b[43mmodel\u001b[49m\u001b[38;5;241;43m.\u001b[39;49m\u001b[43mget_transformed_spectra\u001b[49m\u001b[43m(\u001b[49m\u001b[43mt\u001b[49m\u001b[43m,\u001b[49m\u001b[43m \u001b[49m\u001b[43mE\u001b[49m\u001b[43m,\u001b[49m\u001b[43m \u001b[49m\u001b[43mmixing\u001b[49m\u001b[43m)\u001b[49m[flavor]\u001b[38;5;241m.\u001b[39mreshape(t\u001b[38;5;241m.\u001b[39msize, E\u001b[38;5;241m.\u001b[39msize)\n\u001b[1;32m    263\u001b[0m     cut \u001b[38;5;241m=\u001b[39m (t \u001b[38;5;241m<\u001b[39m \u001b[38;5;28mself\u001b[39m\u001b[38;5;241m.\u001b[39msource\u001b[38;5;241m.\u001b[39mmodel\u001b[38;5;241m.\u001b[39mtime[\u001b[38;5;241m0\u001b[39m]) \u001b[38;5;241m|\u001b[39m (\u001b[38;5;28mself\u001b[39m\u001b[38;5;241m.\u001b[39msource\u001b[38;5;241m.\u001b[39mmodel\u001b[38;5;241m.\u001b[39mtime[\u001b[38;5;241m-\u001b[39m\u001b[38;5;241m1\u001b[39m] \u001b[38;5;241m<\u001b[39m t)\n\u001b[1;32m    264\u001b[0m     \u001b[38;5;66;03m# TODO: Apply a fix for this once a fix has been applied to SNEWPY\u001b[39;00m\n",
      "File \u001b[0;32m~/miniconda3/envs/ic_sn_hnl/lib/python3.10/site-packages/snewpy/models/base.py:147\u001b[0m, in \u001b[0;36mSupernovaModel.get_transformed_spectra\u001b[0;34m(self, t, E, flavor_xform)\u001b[0m\n\u001b[1;32m    130\u001b[0m \u001b[38;5;28;01mdef\u001b[39;00m \u001b[38;5;21mget_transformed_spectra\u001b[39m(\u001b[38;5;28mself\u001b[39m, t, E, flavor_xform):\n\u001b[1;32m    131\u001b[0m     \u001b[38;5;124;03m\"\"\"Get neutrino spectra after applying oscillation.\u001b[39;00m\n\u001b[1;32m    132\u001b[0m \n\u001b[1;32m    133\u001b[0m \u001b[38;5;124;03m    Parameters\u001b[39;00m\n\u001b[0;32m   (...)\u001b[0m\n\u001b[1;32m    145\u001b[0m \u001b[38;5;124;03m        Dictionary of transformed spectra, keyed by neutrino flavor.\u001b[39;00m\n\u001b[1;32m    146\u001b[0m \u001b[38;5;124;03m    \"\"\"\u001b[39;00m\n\u001b[0;32m--> 147\u001b[0m     initialspectra \u001b[38;5;241m=\u001b[39m \u001b[38;5;28;43mself\u001b[39;49m\u001b[38;5;241;43m.\u001b[39;49m\u001b[43mget_initial_spectra\u001b[49m\u001b[43m(\u001b[49m\u001b[43mt\u001b[49m\u001b[43m,\u001b[49m\u001b[43m \u001b[49m\u001b[43mE\u001b[49m\u001b[43m)\u001b[49m\n\u001b[1;32m    148\u001b[0m     transformed_spectra \u001b[38;5;241m=\u001b[39m {}\n\u001b[1;32m    150\u001b[0m     transformed_spectra[Flavor\u001b[38;5;241m.\u001b[39mNU_E] \u001b[38;5;241m=\u001b[39m \\\n\u001b[1;32m    151\u001b[0m         flavor_xform\u001b[38;5;241m.\u001b[39mprob_ee(t, E) \u001b[38;5;241m*\u001b[39m initialspectra[Flavor\u001b[38;5;241m.\u001b[39mNU_E] \u001b[38;5;241m+\u001b[39m \\\n\u001b[1;32m    152\u001b[0m         flavor_xform\u001b[38;5;241m.\u001b[39mprob_ex(t, E) \u001b[38;5;241m*\u001b[39m initialspectra[Flavor\u001b[38;5;241m.\u001b[39mNU_X]\n",
      "File \u001b[0;32m~/miniconda3/envs/ic_sn_hnl/lib/python3.10/site-packages/snewpy/models/base.py:305\u001b[0m, in \u001b[0;36mPinchedModel.get_initial_spectra\u001b[0;34m(self, t, E, flavors)\u001b[0m\n\u001b[1;32m    302\u001b[0m a  \u001b[38;5;241m=\u001b[39m np\u001b[38;5;241m.\u001b[39mexpand_dims(a, axis\u001b[38;5;241m=\u001b[39m\u001b[38;5;241m1\u001b[39m)\n\u001b[1;32m    303\u001b[0m \u001b[38;5;66;03m# For numerical stability, evaluate log PDF and then exponentiate.\u001b[39;00m\n\u001b[1;32m    304\u001b[0m result \u001b[38;5;241m=\u001b[39m \\\n\u001b[0;32m--> 305\u001b[0m   \u001b[43mnp\u001b[49m\u001b[38;5;241;43m.\u001b[39;49m\u001b[43mexp\u001b[49m\u001b[43m(\u001b[49m\u001b[43mnp\u001b[49m\u001b[38;5;241;43m.\u001b[39;49m\u001b[43mlog\u001b[49m\u001b[43m(\u001b[49m\u001b[43mL\u001b[49m\u001b[43m)\u001b[49m\u001b[43m \u001b[49m\u001b[38;5;241;43m-\u001b[39;49m\u001b[43m \u001b[49m\u001b[43m(\u001b[49m\u001b[38;5;241;43m2\u001b[39;49m\u001b[38;5;241;43m+\u001b[39;49m\u001b[43ma\u001b[49m\u001b[43m)\u001b[49m\u001b[38;5;241;43m*\u001b[39;49m\u001b[43mnp\u001b[49m\u001b[38;5;241;43m.\u001b[39;49m\u001b[43mlog\u001b[49m\u001b[43m(\u001b[49m\u001b[43mEa\u001b[49m\u001b[43m)\u001b[49m\u001b[43m \u001b[49m\u001b[38;5;241;43m+\u001b[39;49m\u001b[43m \u001b[49m\u001b[43m(\u001b[49m\u001b[38;5;241;43m1\u001b[39;49m\u001b[38;5;241;43m+\u001b[39;49m\u001b[43ma\u001b[49m\u001b[43m)\u001b[49m\u001b[38;5;241;43m*\u001b[39;49m\u001b[43mnp\u001b[49m\u001b[38;5;241;43m.\u001b[39;49m\u001b[43mlog\u001b[49m\u001b[43m(\u001b[49m\u001b[38;5;241;43m1\u001b[39;49m\u001b[38;5;241;43m+\u001b[39;49m\u001b[43ma\u001b[49m\u001b[43m)\u001b[49m\n\u001b[1;32m    306\u001b[0m \u001b[43m        \u001b[49m\u001b[38;5;241;43m-\u001b[39;49m\u001b[43m \u001b[49m\u001b[43mloggamma\u001b[49m\u001b[43m(\u001b[49m\u001b[38;5;241;43m1\u001b[39;49m\u001b[38;5;241;43m+\u001b[39;49m\u001b[43ma\u001b[49m\u001b[43m)\u001b[49m\u001b[43m \u001b[49m\u001b[38;5;241;43m+\u001b[39;49m\u001b[43m \u001b[49m\u001b[43ma\u001b[49m\u001b[38;5;241;43m*\u001b[39;49m\u001b[43mnp\u001b[49m\u001b[38;5;241;43m.\u001b[39;49m\u001b[43mlog\u001b[49m\u001b[43m(\u001b[49m\u001b[43mE\u001b[49m\u001b[43m)\u001b[49m\u001b[43m \u001b[49m\u001b[38;5;241;43m-\u001b[39;49m\u001b[43m \u001b[49m\u001b[43m(\u001b[49m\u001b[38;5;241;43m1\u001b[39;49m\u001b[38;5;241;43m+\u001b[39;49m\u001b[43ma\u001b[49m\u001b[43m)\u001b[49m\u001b[38;5;241;43m*\u001b[39;49m\u001b[43m(\u001b[49m\u001b[43mE\u001b[49m\u001b[38;5;241;43m/\u001b[39;49m\u001b[43mEa\u001b[49m\u001b[43m)\u001b[49m\u001b[43m)\u001b[49m \u001b[38;5;241m/\u001b[39m (u\u001b[38;5;241m.\u001b[39merg \u001b[38;5;241m*\u001b[39m u\u001b[38;5;241m.\u001b[39ms)\n\u001b[1;32m    307\u001b[0m \u001b[38;5;66;03m#remove bad values\u001b[39;00m\n\u001b[1;32m    308\u001b[0m result[np\u001b[38;5;241m.\u001b[39misnan(result)] \u001b[38;5;241m=\u001b[39m \u001b[38;5;241m0\u001b[39m\n",
      "\u001b[0;31mKeyboardInterrupt\u001b[0m: "
     ]
    }
   ],
   "source": [
    "with h5.File(\"data/serialized_sm_flux.h5\", \"r\") as h5f:\n",
    "    sm_flux = deserialize(h5f[\"sm_flux_0\"])\n",
    "    \n",
    "sm_t, sm_hits = sm_flux.get_hits(\n",
    "    tmax=100 * units[\"second\"],\n",
    "    model_file=\"magnetic_moment.txt\"\n",
    ")\n",
    "\n",
    "out_ = {}\n",
    "\n",
    "with h5.File(SERIALIZED_BSM_FILE, \"r\") as h5f:\n",
    "    for key in tqdm(h5f.keys()):\n",
    "        key_split = key.split(\"_\")[0].split(\"-\")\n",
    "        mass = float(key_split[2].replace(\"MeV\", \"\").replace(\"d\", \".\"))\n",
    "        \n",
    "        # if mass!=100:\n",
    "        #     continue\n",
    "        if mass not in out_:\n",
    "            out_[mass] = []\n",
    "        coupling = float(f\"-{key_split[3][2:].replace('dot', '.')}\".replace(\"d\", \".\"))\n",
    "        flux = deserialize(h5f[key])\n",
    "        \n",
    "        bsm_t, bsm_hits = flux.get_hits(\n",
    "            model_file=\"magnetic_moment.txt\",\n",
    "            tmax=100 * units[\"second\"]\n",
    "        )\n",
    "        \n",
    "        bg_hits = flux.get_background(\n",
    "            shape=bsm_hits.shape,\n",
    "            model_file=\"magnetic_moment.txt\",\n",
    "            tmax=100 * units[\"second\"]\n",
    "        )\n",
    "        \n",
    "        if np.any(sm_t!=bsm_t):\n",
    "            raise ValueError(\"Hit times are different !\")\n",
    "            \n",
    "        significances = []\n",
    "        for scaling in SCALINGS:\n",
    "            significance, _, _ = find_significance_matrix(bsm_hits, sm_hits, scaling * bg_hits, bsm_t)\n",
    "                        \n",
    "            m = ~np.isnan(significance)\n",
    "            significances.append(significance[m].max())\n",
    "            \n",
    "            w = np.where(significance==significance[m].max())\n",
    "            # print(significance[m].max())\n",
    "            # print(w)\n",
    "            # print(TMINS[w[0]] / units.second)\n",
    "            # print(DTS[w[1]] / units.second)\n",
    "            # print()\n",
    "            # print(w)\n",
    "        out_[mass].append((coupling, significances, TMINS[w[0]], DTS[w[1]]))"
   ]
  },
  {
   "cell_type": "code",
   "execution_count": 103,
   "id": "0ebf2eae-b1ab-46a5-aabc-62e6f7b5f6c2",
   "metadata": {},
   "outputs": [],
   "source": [
    "sensitivities = np.full((7, len(out)), np.nan)\n",
    "\n",
    "for idx in range(7):\n",
    "\n",
    "    a = []\n",
    "    \n",
    "    sorter = np.argsort(list(out_.keys()))\n",
    "    \n",
    "    for k, v in out_.items():\n",
    "        v = sorted(v)\n",
    "\n",
    "        couplings = np.power(10, [x[0] for x in v])\n",
    "        significances = [x[1][idx] for x in v]\n",
    "\n",
    "        # print(significances)\n",
    "        \n",
    "        try:\n",
    "            interp = interp1d(np.log(couplings), np.log(significances))\n",
    "            f = lambda lc: np.exp(interp(lc)) - 3.841\n",
    "            res = ridder(f, np.log(couplings[0]), np.log(couplings[-1]))\n",
    "            sens = np.exp(res)\n",
    "            a.append(sens)\n",
    "            \n",
    "            \n",
    "            \n",
    "        except ValueError:\n",
    "            pass\n",
    "    \n",
    "    a = np.array(a)\n",
    "    sensitivities[idx, :] = a[sorter]"
   ]
  },
  {
   "cell_type": "code",
   "execution_count": 115,
   "id": "1fc94ca6-8048-4db6-9af3-cd5ecb03b87e",
   "metadata": {},
   "outputs": [
    {
     "data": {
      "image/png": "[encoded data removed]",
      "text/plain": [
       "<Figure size 432x288 with 1 Axes>"
      ]
     },
     "metadata": {
      "needs_background": "light"
     },
     "output_type": "display_data"
    }
   ],
   "source": [
    "masses = sorted(list(out.keys()))\n",
    "\n",
    "fig, ax = plt.subplots()\n",
    "\n",
    "ax.plot(masses, sensitivities[0, :] / sensitivities[3, :], label=\"0.2\")\n",
    "ax.plot(masses, sensitivities[1, :] / sensitivities[3, :], label=\"0.8\")\n",
    "ax.plot(masses, sensitivities[2, :] / sensitivities[3, :], label=\"0.9\")\n",
    "ax.plot(masses, sensitivities[4, :] / sensitivities[3, :], label=\"1.1\")\n",
    "ax.plot(masses, sensitivities[5, :] / sensitivities[3, :], label=\"1.2\")\n",
    "ax.plot(masses, sensitivities[6, :] / sensitivities[3, :], label=\"5\")\n",
    "\n",
    "ax.legend(fontsize=12, ncol=3, loc=1)\n",
    "\n",
    "ax.set_xlabel(\"Mass\")\n",
    "ax.set_ylabel(\"Sens / nominal sens\")\n",
    "\n",
    "ax.semilogx()\n",
    "\n",
    "plt.show()"
   ]
  },
  {
   "cell_type": "code",
   "execution_count": 117,
   "id": "8b031d9c-2948-4168-898c-9cca404e595c",
   "metadata": {},
   "outputs": [
    {
     "name": "stderr",
     "output_type": "stream",
     "text": [
      "  0%|          | 0/63 [00:00<?, ?it/s]"
     ]
    },
    {
     "name": "stdout",
     "output_type": "stream",
     "text": [
      "[0.01047129 0.01096478]\n",
      "[0.125975 0.125975]\n",
      "\n",
      "[0.01047129 0.01096478]\n",
      "[0.125975 0.125975]\n",
      "\n"
     ]
    },
    {
     "name": "stderr",
     "output_type": "stream",
     "text": [
      "  2%|▏         | 1/63 [01:52<1:55:50, 112.11s/it]"
     ]
    },
    {
     "name": "stdout",
     "output_type": "stream",
     "text": [
      "[0.01047129 0.01096478]\n",
      "[0.125975 0.125975]\n",
      "\n",
      "[0.01]\n",
      "[0.125975]\n",
      "\n",
      "[0.01]\n",
      "[0.125975]\n",
      "\n"
     ]
    },
    {
     "name": "stderr",
     "output_type": "stream",
     "text": [
      "  3%|▎         | 2/63 [03:41<1:52:09, 110.31s/it]"
     ]
    },
    {
     "name": "stdout",
     "output_type": "stream",
     "text": [
      "[0.01]\n",
      "[0.125975]\n",
      "\n",
      "[0.01047129 0.01096478]\n",
      "[0.125975 0.125975]\n",
      "\n",
      "[0.01047129 0.01096478]\n",
      "[0.125975 0.125975]\n",
      "\n"
     ]
    },
    {
     "name": "stderr",
     "output_type": "stream",
     "text": [
      "  5%|▍         | 3/63 [05:27<1:48:43, 108.72s/it]"
     ]
    },
    {
     "name": "stdout",
     "output_type": "stream",
     "text": [
      "[0.01047129 0.01096478]\n",
      "[0.125975 0.125975]\n",
      "\n",
      "[0.01047129 0.01096478]\n",
      "[0.125975 0.125975]\n",
      "\n",
      "[0.01047129 0.01096478]\n",
      "[0.125975 0.125975]\n",
      "\n"
     ]
    },
    {
     "name": "stderr",
     "output_type": "stream",
     "text": [
      "  6%|▋         | 4/63 [07:14<1:46:04, 107.88s/it]"
     ]
    },
    {
     "name": "stdout",
     "output_type": "stream",
     "text": [
      "[0.01047129 0.01096478]\n",
      "[0.125975 0.125975]\n",
      "\n",
      "[0.01]\n",
      "[0.125975]\n",
      "\n",
      "[0.01]\n",
      "[0.125975]\n",
      "\n"
     ]
    },
    {
     "name": "stderr",
     "output_type": "stream",
     "text": [
      "  8%|▊         | 5/63 [09:01<1:43:55, 107.50s/it]"
     ]
    },
    {
     "name": "stdout",
     "output_type": "stream",
     "text": [
      "[0.01]\n",
      "[0.125975]\n",
      "\n",
      "[0.01       0.01047129]\n",
      "[0.1384725 0.1384725]\n",
      "\n",
      "[0.01       0.01047129]\n",
      "[0.1384725 0.1384725]\n",
      "\n"
     ]
    },
    {
     "name": "stderr",
     "output_type": "stream",
     "text": [
      " 10%|▉         | 6/63 [10:48<1:42:00, 107.37s/it]"
     ]
    },
    {
     "name": "stdout",
     "output_type": "stream",
     "text": [
      "[0.01       0.01047129]\n",
      "[0.1384725 0.1384725]\n",
      "\n",
      "[0.01258925]\n",
      "[0.975805]\n",
      "\n",
      "[0.01819701]\n",
      "[0.925815]\n",
      "\n"
     ]
    },
    {
     "name": "stderr",
     "output_type": "stream",
     "text": [
      " 11%|█         | 7/63 [12:40<1:41:43, 108.99s/it]"
     ]
    },
    {
     "name": "stdout",
     "output_type": "stream",
     "text": [
      "[0.02187762]\n",
      "[0.9633075]\n",
      "\n",
      "[0.02754229]\n",
      "[1.9131175]\n",
      "\n",
      "[0.03467369]\n",
      "[1.90062]\n",
      "\n"
     ]
    },
    {
     "name": "stderr",
     "output_type": "stream",
     "text": [
      " 13%|█▎        | 8/63 [14:32<1:40:38, 109.79s/it]"
     ]
    },
    {
     "name": "stdout",
     "output_type": "stream",
     "text": [
      "[0.02884032]\n",
      "[2.0380925]\n",
      "\n",
      "[0.04570882]\n",
      "[5.]\n",
      "\n",
      "[0.01513561 0.01584893]\n",
      "[4.95001 4.95001]\n",
      "\n"
     ]
    },
    {
     "name": "stderr",
     "output_type": "stream",
     "text": [
      " 14%|█▍        | 9/63 [16:23<1:39:16, 110.31s/it]"
     ]
    },
    {
     "name": "stdout",
     "output_type": "stream",
     "text": [
      "[0.05754399]\n",
      "[4.975005]\n",
      "\n",
      "[0.13803843]\n",
      "[4.9875025]\n",
      "\n",
      "[0.12022644]\n",
      "[4.9875025]\n",
      "\n"
     ]
    },
    {
     "name": "stderr",
     "output_type": "stream",
     "text": [
      " 16%|█▌        | 10/63 [18:15<1:37:43, 110.63s/it]"
     ]
    },
    {
     "name": "stdout",
     "output_type": "stream",
     "text": [
      "[0.11481536]\n",
      "[5.]\n",
      "\n",
      "[0.01047129 0.01096478]\n",
      "[0.125975 0.125975]\n",
      "\n",
      "[0.01047129 0.01096478]\n",
      "[0.125975 0.125975]\n",
      "\n"
     ]
    },
    {
     "name": "stderr",
     "output_type": "stream",
     "text": [
      " 17%|█▋        | 11/63 [20:01<1:34:38, 109.20s/it]"
     ]
    },
    {
     "name": "stdout",
     "output_type": "stream",
     "text": [
      "[0.01047129 0.01096478]\n",
      "[0.125975 0.125975]\n",
      "\n",
      "[0.01047129 0.01096478]\n",
      "[0.125975 0.125975]\n",
      "\n",
      "[0.01047129 0.01096478]\n",
      "[0.125975 0.125975]\n",
      "\n"
     ]
    },
    {
     "name": "stderr",
     "output_type": "stream",
     "text": [
      " 19%|█▉        | 12/63 [21:47<1:32:09, 108.41s/it]"
     ]
    },
    {
     "name": "stdout",
     "output_type": "stream",
     "text": [
      "[0.01047129 0.01096478]\n",
      "[0.125975 0.125975]\n",
      "\n",
      "[0.01       0.01047129]\n",
      "[0.8633275 0.8633275]\n",
      "\n",
      "[0.01148154]\n",
      "[0.8383325]\n",
      "\n"
     ]
    },
    {
     "name": "stderr",
     "output_type": "stream",
     "text": [
      " 21%|██        | 13/63 [23:39<1:31:13, 109.47s/it]"
     ]
    },
    {
     "name": "stdout",
     "output_type": "stream",
     "text": [
      "[0.01202264 0.01258925]\n",
      "[0.8383325 0.8383325]\n",
      "\n",
      "[0.02398833]\n",
      "[1.0882825]\n",
      "\n",
      "[0.02398833]\n",
      "[1.05079]\n",
      "\n"
     ]
    },
    {
     "name": "stderr",
     "output_type": "stream",
     "text": [
      " 22%|██▏       | 14/63 [25:32<1:30:17, 110.56s/it]"
     ]
    },
    {
     "name": "stdout",
     "output_type": "stream",
     "text": [
      "[0.02398833]\n",
      "[1.05079]\n",
      "\n",
      "[0.02754229]\n",
      "[1.625675]\n",
      "\n",
      "[0.02884032]\n",
      "[1.60068]\n",
      "\n"
     ]
    },
    {
     "name": "stderr",
     "output_type": "stream",
     "text": [
      " 24%|██▍       | 15/63 [27:24<1:28:44, 110.92s/it]"
     ]
    },
    {
     "name": "stdout",
     "output_type": "stream",
     "text": [
      "[0.02884032]\n",
      "[1.60068]\n",
      "\n",
      "[0.04168694]\n",
      "[3.125375]\n",
      "\n",
      "[0.04168694]\n",
      "[3.125375]\n",
      "\n"
     ]
    },
    {
     "name": "stderr",
     "output_type": "stream",
     "text": [
      " 25%|██▌       | 16/63 [29:16<1:27:04, 111.17s/it]"
     ]
    },
    {
     "name": "stdout",
     "output_type": "stream",
     "text": [
      "[0.04168694]\n",
      "[3.125375]\n",
      "\n",
      "[0.09549926]\n",
      "[5.]\n",
      "\n",
      "[0.08317638]\n",
      "[5.]\n",
      "\n"
     ]
    },
    {
     "name": "stderr",
     "output_type": "stream",
     "text": [
      " 27%|██▋       | 17/63 [31:05<1:24:51, 110.69s/it]"
     ]
    },
    {
     "name": "stdout",
     "output_type": "stream",
     "text": [
      "[0.08317638]\n",
      "[5.]\n",
      "\n",
      "[0.15135612]\n",
      "[5.]\n",
      "\n",
      "[0.15135612]\n",
      "[5.]\n",
      "\n"
     ]
    },
    {
     "name": "stderr",
     "output_type": "stream",
     "text": [
      " 29%|██▊       | 18/63 [32:56<1:23:05, 110.79s/it]"
     ]
    },
    {
     "name": "stdout",
     "output_type": "stream",
     "text": [
      "[0.15135612]\n",
      "[5.]\n",
      "\n",
      "[0.18197009]\n",
      "[5.]\n",
      "\n",
      "[0.18197009]\n",
      "[5.]\n",
      "\n"
     ]
    },
    {
     "name": "stderr",
     "output_type": "stream",
     "text": [
      " 30%|███       | 19/63 [34:48<1:21:23, 110.98s/it]"
     ]
    },
    {
     "name": "stdout",
     "output_type": "stream",
     "text": [
      "[0.18197009]\n",
      "[5.]\n",
      "\n",
      "[0.01       0.01047129]\n",
      "[0.1634675 0.1634675]\n",
      "\n",
      "[0.01047129 0.01096478]\n",
      "[0.15097 0.15097]\n",
      "\n"
     ]
    },
    {
     "name": "stderr",
     "output_type": "stream",
     "text": [
      " 32%|███▏      | 20/63 [36:34<1:18:37, 109.70s/it]"
     ]
    },
    {
     "name": "stdout",
     "output_type": "stream",
     "text": [
      "[0.01047129 0.01096478]\n",
      "[0.15097 0.15097]\n",
      "\n",
      "[0.01       0.01047129]\n",
      "[0.1634675 0.1634675]\n",
      "\n",
      "[0.01       0.01047129]\n",
      "[0.1634675 0.1634675]\n",
      "\n"
     ]
    },
    {
     "name": "stderr",
     "output_type": "stream",
     "text": [
      " 33%|███▎      | 21/63 [38:21<1:16:10, 108.82s/it]"
     ]
    },
    {
     "name": "stdout",
     "output_type": "stream",
     "text": [
      "[0.01       0.01047129]\n",
      "[0.1634675 0.1634675]\n",
      "\n",
      "[0.01       0.01047129]\n",
      "[0.5133975 0.5133975]\n",
      "\n",
      "[0.01       0.01047129]\n",
      "[0.5133975 0.5133975]\n",
      "\n"
     ]
    },
    {
     "name": "stderr",
     "output_type": "stream",
     "text": [
      " 35%|███▍      | 22/63 [40:08<1:14:00, 108.31s/it]"
     ]
    },
    {
     "name": "stdout",
     "output_type": "stream",
     "text": [
      "[0.01       0.01047129]\n",
      "[0.5133975 0.5133975]\n",
      "\n",
      "[0.01096478]\n",
      "[0.7883425]\n",
      "\n",
      "[0.01       0.01047129]\n",
      "[0.7883425 0.7883425]\n",
      "\n"
     ]
    },
    {
     "name": "stderr",
     "output_type": "stream",
     "text": [
      " 37%|███▋      | 23/63 [41:57<1:12:14, 108.37s/it]"
     ]
    },
    {
     "name": "stdout",
     "output_type": "stream",
     "text": [
      "[0.01047129 0.01096478]\n",
      "[0.75085 0.75085]\n",
      "\n",
      "[0.01819701]\n",
      "[1.0132975]\n",
      "\n",
      "[0.02089296]\n",
      "[0.975805]\n",
      "\n"
     ]
    },
    {
     "name": "stderr",
     "output_type": "stream",
     "text": [
      " 38%|███▊      | 24/63 [43:49<1:11:09, 109.48s/it]"
     ]
    },
    {
     "name": "stdout",
     "output_type": "stream",
     "text": [
      "[0.02089296]\n",
      "[0.9633075]\n",
      "\n",
      "[0.03467369]\n",
      "[1.90062]\n",
      "\n",
      "[0.03467369]\n",
      "[1.90062]\n",
      "\n"
     ]
    },
    {
     "name": "stderr",
     "output_type": "stream",
     "text": [
      " 40%|███▉      | 25/63 [45:40<1:09:41, 110.05s/it]"
     ]
    },
    {
     "name": "stdout",
     "output_type": "stream",
     "text": [
      "[0.03467369]\n",
      "[1.90062]\n",
      "\n",
      "[0.05248075]\n",
      "[3.65027]\n",
      "\n",
      "[0.05248075]\n",
      "[3.65027]\n",
      "\n"
     ]
    },
    {
     "name": "stderr",
     "output_type": "stream",
     "text": [
      " 41%|████▏     | 26/63 [47:32<1:08:14, 110.65s/it]"
     ]
    },
    {
     "name": "stdout",
     "output_type": "stream",
     "text": [
      "[0.05248075]\n",
      "[3.65027]\n",
      "\n",
      "[0.01096478]\n",
      "[0.7383525]\n",
      "\n",
      "[0.01096478]\n",
      "[0.7133575]\n",
      "\n"
     ]
    },
    {
     "name": "stderr",
     "output_type": "stream",
     "text": [
      " 43%|████▎     | 27/63 [49:24<1:06:39, 111.09s/it]"
     ]
    },
    {
     "name": "stdout",
     "output_type": "stream",
     "text": [
      "[0.01148154]\n",
      "[0.70086]\n",
      "\n",
      "[0.02630268]\n",
      "[1.35073]\n",
      "\n",
      "[0.02754229]\n",
      "[1.3382325]\n",
      "\n"
     ]
    },
    {
     "name": "stderr",
     "output_type": "stream",
     "text": [
      " 44%|████▍     | 28/63 [51:18<1:05:14, 111.84s/it]"
     ]
    },
    {
     "name": "stdout",
     "output_type": "stream",
     "text": [
      "[0.03019952]\n",
      "[1.3132375]\n",
      "\n",
      "[0.04570882]\n",
      "[2.7879425]\n",
      "\n",
      "[0.04570882]\n",
      "[2.7879425]\n",
      "\n"
     ]
    },
    {
     "name": "stderr",
     "output_type": "stream",
     "text": [
      " 46%|████▌     | 29/63 [53:10<1:03:23, 111.88s/it]"
     ]
    },
    {
     "name": "stdout",
     "output_type": "stream",
     "text": [
      "[0.04365158]\n",
      "[2.775445]\n",
      "\n",
      "[0.07585776]\n",
      "[5.]\n",
      "\n",
      "[0.07585776]\n",
      "[5.]\n",
      "\n"
     ]
    },
    {
     "name": "stderr",
     "output_type": "stream",
     "text": [
      " 48%|████▊     | 30/63 [55:03<1:01:44, 112.25s/it]"
     ]
    },
    {
     "name": "stdout",
     "output_type": "stream",
     "text": [
      "[0.07585776]\n",
      "[5.]\n",
      "\n",
      "[0.16595869]\n",
      "[5.]\n",
      "\n",
      "[0.15848932]\n",
      "[5.]\n",
      "\n"
     ]
    },
    {
     "name": "stderr",
     "output_type": "stream",
     "text": [
      " 49%|████▉     | 31/63 [57:05<1:01:26, 115.21s/it]"
     ]
    },
    {
     "name": "stdout",
     "output_type": "stream",
     "text": [
      "[0.15848932]\n",
      "[5.]\n",
      "\n"
     ]
    },
    {
     "name": "stderr",
     "output_type": "stream",
     "text": [
      " 49%|████▉     | 31/63 [58:20<1:00:12, 112.91s/it]\n"
     ]
    },
    {
     "ename": "KeyboardInterrupt",
     "evalue": "",
     "output_type": "error",
     "traceback": [
      "\u001b[0;31m---------------------------------------------------------------------------\u001b[0m",
      "\u001b[0;31mKeyboardInterrupt\u001b[0m                         Traceback (most recent call last)",
      "Input \u001b[0;32mIn [117]\u001b[0m, in \u001b[0;36m<cell line: 11>\u001b[0;34m()\u001b[0m\n\u001b[1;32m     21\u001b[0m flux \u001b[38;5;241m=\u001b[39m deserialize(h5f[key])\n\u001b[1;32m     23\u001b[0m bsm_t, bsm_hits \u001b[38;5;241m=\u001b[39m flux\u001b[38;5;241m.\u001b[39mget_hits(\n\u001b[1;32m     24\u001b[0m     model_file\u001b[38;5;241m=\u001b[39m\u001b[38;5;124m\"\u001b[39m\u001b[38;5;124mmagnetic_moment.txt\u001b[39m\u001b[38;5;124m\"\u001b[39m,\n\u001b[1;32m     25\u001b[0m     tmax\u001b[38;5;241m=\u001b[39m\u001b[38;5;241m100\u001b[39m \u001b[38;5;241m*\u001b[39m units[\u001b[38;5;124m\"\u001b[39m\u001b[38;5;124msecond\u001b[39m\u001b[38;5;124m\"\u001b[39m]\n\u001b[1;32m     26\u001b[0m )\n\u001b[0;32m---> 28\u001b[0m bg_hits \u001b[38;5;241m=\u001b[39m \u001b[43mflux\u001b[49m\u001b[38;5;241;43m.\u001b[39;49m\u001b[43mget_background\u001b[49m\u001b[43m(\u001b[49m\n\u001b[1;32m     29\u001b[0m \u001b[43m    \u001b[49m\u001b[43mshape\u001b[49m\u001b[38;5;241;43m=\u001b[39;49m\u001b[43mbsm_hits\u001b[49m\u001b[38;5;241;43m.\u001b[39;49m\u001b[43mshape\u001b[49m\u001b[43m,\u001b[49m\n\u001b[1;32m     30\u001b[0m \u001b[43m    \u001b[49m\u001b[43mmodel_file\u001b[49m\u001b[38;5;241;43m=\u001b[39;49m\u001b[38;5;124;43m\"\u001b[39;49m\u001b[38;5;124;43mmagnetic_moment.txt\u001b[39;49m\u001b[38;5;124;43m\"\u001b[39;49m\u001b[43m,\u001b[49m\n\u001b[1;32m     31\u001b[0m \u001b[43m    \u001b[49m\u001b[43mtmax\u001b[49m\u001b[38;5;241;43m=\u001b[39;49m\u001b[38;5;241;43m100\u001b[39;49m\u001b[43m \u001b[49m\u001b[38;5;241;43m*\u001b[39;49m\u001b[43m \u001b[49m\u001b[43munits\u001b[49m\u001b[43m[\u001b[49m\u001b[38;5;124;43m\"\u001b[39;49m\u001b[38;5;124;43msecond\u001b[39;49m\u001b[38;5;124;43m\"\u001b[39;49m\u001b[43m]\u001b[49m\n\u001b[1;32m     32\u001b[0m \u001b[43m\u001b[49m\u001b[43m)\u001b[49m\n\u001b[1;32m     34\u001b[0m \u001b[38;5;28;01mif\u001b[39;00m np\u001b[38;5;241m.\u001b[39many(sm_t\u001b[38;5;241m!=\u001b[39mbsm_t):\n\u001b[1;32m     35\u001b[0m     \u001b[38;5;28;01mraise\u001b[39;00m \u001b[38;5;167;01mValueError\u001b[39;00m(\u001b[38;5;124m\"\u001b[39m\u001b[38;5;124mHit times are different !\u001b[39m\u001b[38;5;124m\"\u001b[39m)\n",
      "File \u001b[0;32m~/research/NuTel_SNe_BSM/examples/../sne_bsm/flux/parametrize_flux.py:153\u001b[0m, in \u001b[0;36mParameterizedFlux.get_background\u001b[0;34m(self, tmin, tmax, dt, emin, emax, de, mixing_scheme, mass_ordering, model_file, force_write, keep_model_file, dist0, shape)\u001b[0m\n\u001b[1;32m    136\u001b[0m \u001b[38;5;28;01mdef\u001b[39;00m \u001b[38;5;21mget_background\u001b[39m(\n\u001b[1;32m    137\u001b[0m     \u001b[38;5;28mself\u001b[39m,\n\u001b[1;32m    138\u001b[0m     tmin\u001b[38;5;241m=\u001b[39m\u001b[38;5;241m-\u001b[39m\u001b[38;5;241m1.0\u001b[39m\u001b[38;5;241m*\u001b[39munits[\u001b[38;5;124m\"\u001b[39m\u001b[38;5;124msecond\u001b[39m\u001b[38;5;124m\"\u001b[39m],\n\u001b[0;32m   (...)\u001b[0m\n\u001b[1;32m    150\u001b[0m     shape\u001b[38;5;241m=\u001b[39m\u001b[38;5;28;01mNone\u001b[39;00m\n\u001b[1;32m    151\u001b[0m ):\n\u001b[1;32m    152\u001b[0m     \u001b[38;5;28;01mfrom\u001b[39;00m \u001b[38;5;21;01mastropy\u001b[39;00m \u001b[38;5;28;01mimport\u001b[39;00m units \u001b[38;5;28;01mas\u001b[39;00m u\n\u001b[0;32m--> 153\u001b[0m     sim \u001b[38;5;241m=\u001b[39m \u001b[38;5;28;43mself\u001b[39;49m\u001b[38;5;241;43m.\u001b[39;49m\u001b[43mget_asteria_sim\u001b[49m\u001b[43m(\u001b[49m\n\u001b[1;32m    154\u001b[0m \u001b[43m        \u001b[49m\u001b[43mtmin\u001b[49m\u001b[38;5;241;43m=\u001b[39;49m\u001b[43mtmin\u001b[49m\u001b[43m,\u001b[49m\n\u001b[1;32m    155\u001b[0m \u001b[43m        \u001b[49m\u001b[43mtmax\u001b[49m\u001b[38;5;241;43m=\u001b[39;49m\u001b[43mtmax\u001b[49m\u001b[43m,\u001b[49m\n\u001b[1;32m    156\u001b[0m \u001b[43m        \u001b[49m\u001b[43mdt\u001b[49m\u001b[38;5;241;43m=\u001b[39;49m\u001b[43mdt\u001b[49m\u001b[43m,\u001b[49m\n\u001b[1;32m    157\u001b[0m \u001b[43m        \u001b[49m\u001b[43memin\u001b[49m\u001b[38;5;241;43m=\u001b[39;49m\u001b[43memin\u001b[49m\u001b[43m,\u001b[49m\n\u001b[1;32m    158\u001b[0m \u001b[43m        \u001b[49m\u001b[43memax\u001b[49m\u001b[38;5;241;43m=\u001b[39;49m\u001b[43memax\u001b[49m\u001b[43m,\u001b[49m\n\u001b[1;32m    159\u001b[0m \u001b[43m        \u001b[49m\u001b[43mde\u001b[49m\u001b[38;5;241;43m=\u001b[39;49m\u001b[43mde\u001b[49m\u001b[43m,\u001b[49m\n\u001b[1;32m    160\u001b[0m \u001b[43m        \u001b[49m\u001b[43mmixing_scheme\u001b[49m\u001b[38;5;241;43m=\u001b[39;49m\u001b[43mmixing_scheme\u001b[49m\u001b[43m,\u001b[49m\n\u001b[1;32m    161\u001b[0m \u001b[43m        \u001b[49m\u001b[43mmass_ordering\u001b[49m\u001b[38;5;241;43m=\u001b[39;49m\u001b[43mmass_ordering\u001b[49m\u001b[43m,\u001b[49m\n\u001b[1;32m    162\u001b[0m \u001b[43m        \u001b[49m\u001b[43mmodel_file\u001b[49m\u001b[38;5;241;43m=\u001b[39;49m\u001b[43mmodel_file\u001b[49m\u001b[43m,\u001b[49m\n\u001b[1;32m    163\u001b[0m \u001b[43m        \u001b[49m\u001b[43mforce_write\u001b[49m\u001b[38;5;241;43m=\u001b[39;49m\u001b[43mforce_write\u001b[49m\u001b[43m,\u001b[49m\n\u001b[1;32m    164\u001b[0m \u001b[43m        \u001b[49m\u001b[43mkeep_model_file\u001b[49m\u001b[38;5;241;43m=\u001b[39;49m\u001b[43mkeep_model_file\u001b[49m\u001b[43m,\u001b[49m\n\u001b[1;32m    165\u001b[0m \u001b[43m        \u001b[49m\u001b[43mdist0\u001b[49m\u001b[38;5;241;43m=\u001b[39;49m\u001b[43mdist0\u001b[49m\n\u001b[1;32m    166\u001b[0m \u001b[43m    \u001b[49m\u001b[43m)\u001b[49m\n\u001b[1;32m    167\u001b[0m     \u001b[38;5;66;03m# TODO this is dangerous. Figure out if this is right\u001b[39;00m\n\u001b[1;32m    168\u001b[0m     \u001b[38;5;28;01mif\u001b[39;00m shape \u001b[38;5;129;01mis\u001b[39;00m \u001b[38;5;28;01mNone\u001b[39;00m:\n",
      "File \u001b[0;32m~/research/NuTel_SNe_BSM/examples/../sne_bsm/flux/parametrize_flux.py:239\u001b[0m, in \u001b[0;36mParameterizedFlux.get_asteria_sim\u001b[0;34m(self, tmin, tmax, dt, emin, emax, de, mixing_scheme, mass_ordering, model_file, force_write, keep_model_file, dist0)\u001b[0m\n\u001b[1;32m    225\u001b[0m sim_kwargs \u001b[38;5;241m=\u001b[39m {\n\u001b[1;32m    226\u001b[0m     \u001b[38;5;124m\"\u001b[39m\u001b[38;5;124mdistance\u001b[39m\u001b[38;5;124m\"\u001b[39m: dist0 \u001b[38;5;241m/\u001b[39m units[\u001b[38;5;124m\"\u001b[39m\u001b[38;5;124mm\u001b[39m\u001b[38;5;124m\"\u001b[39m] \u001b[38;5;241m*\u001b[39m u\u001b[38;5;241m.\u001b[39mm,\n\u001b[1;32m    227\u001b[0m     \u001b[38;5;124m\"\u001b[39m\u001b[38;5;124mmodel\u001b[39m\u001b[38;5;124m\"\u001b[39m: model,\n\u001b[0;32m   (...)\u001b[0m\n\u001b[1;32m    236\u001b[0m     \u001b[38;5;124m\"\u001b[39m\u001b[38;5;124mhierarchy\u001b[39m\u001b[38;5;124m\"\u001b[39m: mass_ordering,\n\u001b[1;32m    237\u001b[0m }\n\u001b[1;32m    238\u001b[0m sim \u001b[38;5;241m=\u001b[39m Simulation(\u001b[38;5;241m*\u001b[39m\u001b[38;5;241m*\u001b[39msim_kwargs)\n\u001b[0;32m--> 239\u001b[0m \u001b[43msim\u001b[49m\u001b[38;5;241;43m.\u001b[39;49m\u001b[43mrun\u001b[49m\u001b[43m(\u001b[49m\u001b[43m)\u001b[49m\n\u001b[1;32m    240\u001b[0m \u001b[38;5;28;01mif\u001b[39;00m \u001b[38;5;129;01mnot\u001b[39;00m keep_model_file:\n\u001b[1;32m    241\u001b[0m     \u001b[38;5;28;01mfrom\u001b[39;00m \u001b[38;5;21;01mos\u001b[39;00m \u001b[38;5;28;01mimport\u001b[39;00m remove\n",
      "File \u001b[0;32m~/research/ASTERIA/python/asteria/simulation.py:223\u001b[0m, in \u001b[0;36mSimulation.run\u001b[0;34m(self, load_simulation)\u001b[0m\n\u001b[1;32m    220\u001b[0m     \u001b[38;5;28;01mraise\u001b[39;00m \u001b[38;5;167;01mNotImplementedError\u001b[39;00m(\u001b[38;5;124m'\u001b[39m\u001b[38;5;124mSimulation loading is not currently implemented\u001b[39m\u001b[38;5;124m'\u001b[39m)\n\u001b[1;32m    222\u001b[0m \u001b[38;5;28mself\u001b[39m\u001b[38;5;241m.\u001b[39mcompute_photon_spectra()\n\u001b[0;32m--> 223\u001b[0m \u001b[38;5;28;43mself\u001b[39;49m\u001b[38;5;241;43m.\u001b[39;49m\u001b[43mcompute_energy_per_vol\u001b[49m\u001b[43m(\u001b[49m\u001b[43m)\u001b[49m\n\u001b[1;32m    224\u001b[0m \u001b[38;5;28;01mreturn\u001b[39;00m\n",
      "File \u001b[0;32m~/research/ASTERIA/python/asteria/simulation.py:308\u001b[0m, in \u001b[0;36mSimulation.compute_energy_per_vol\u001b[0;34m(self, part_size)\u001b[0m\n\u001b[1;32m    306\u001b[0m \u001b[38;5;28;01mif\u001b[39;00m part_size \u001b[38;5;241m<\u001b[39m \u001b[38;5;28mself\u001b[39m\u001b[38;5;241m.\u001b[39mtime\u001b[38;5;241m.\u001b[39msize:\n\u001b[1;32m    307\u001b[0m     \u001b[38;5;28;01mfor\u001b[39;00m idx \u001b[38;5;129;01min\u001b[39;00m np\u001b[38;5;241m.\u001b[39marange(\u001b[38;5;241m0\u001b[39m, \u001b[38;5;28mself\u001b[39m\u001b[38;5;241m.\u001b[39mtime\u001b[38;5;241m.\u001b[39msize, part_size):\n\u001b[0;32m--> 308\u001b[0m         spectrum \u001b[38;5;241m=\u001b[39m \u001b[38;5;28;43mself\u001b[39;49m\u001b[38;5;241;43m.\u001b[39;49m\u001b[43mget_combined_spectrum\u001b[49m\u001b[43m(\u001b[49m\u001b[38;5;28;43mself\u001b[39;49m\u001b[38;5;241;43m.\u001b[39;49m\u001b[43mtime\u001b[49m\u001b[43m[\u001b[49m\u001b[43midx\u001b[49m\u001b[43m:\u001b[49m\u001b[43midx\u001b[49m\u001b[43m \u001b[49m\u001b[38;5;241;43m+\u001b[39;49m\u001b[43m \u001b[49m\u001b[43mpart_size\u001b[49m\u001b[43m]\u001b[49m\u001b[43m,\u001b[49m\u001b[43m \u001b[49m\u001b[38;5;28;43mself\u001b[39;49m\u001b[38;5;241;43m.\u001b[39;49m\u001b[43menergy\u001b[49m\u001b[43m,\u001b[49m\u001b[43m \u001b[49m\u001b[43mflavor\u001b[49m\u001b[43m,\u001b[49m\n\u001b[1;32m    309\u001b[0m \u001b[43m                                              \u001b[49m\u001b[38;5;28;43mself\u001b[39;49m\u001b[38;5;241;43m.\u001b[39;49m\u001b[43m_mixing\u001b[49m\u001b[43m)\u001b[49m\n\u001b[1;32m    310\u001b[0m         result[idx:idx \u001b[38;5;241m+\u001b[39m part_size] \u001b[38;5;241m=\u001b[39m np\u001b[38;5;241m.\u001b[39mtrapz(spectrum, \u001b[38;5;28mself\u001b[39m\u001b[38;5;241m.\u001b[39menergy\u001b[38;5;241m.\u001b[39mvalue, axis\u001b[38;5;241m=\u001b[39m\u001b[38;5;241m1\u001b[39m)\n\u001b[1;32m    312\u001b[0m result \u001b[38;5;241m*\u001b[39m\u001b[38;5;241m=\u001b[39m (\n\u001b[1;32m    313\u001b[0m     H2O_in_ice \u001b[38;5;241m*\u001b[39m  \u001b[38;5;66;03m# Target Molecule (H2O) density\u001b[39;00m\n\u001b[1;32m    314\u001b[0m     np\u001b[38;5;241m.\u001b[39mediff1d(\u001b[38;5;28mself\u001b[39m\u001b[38;5;241m.\u001b[39mtime, to_end\u001b[38;5;241m=\u001b[39m(\u001b[38;5;28mself\u001b[39m\u001b[38;5;241m.\u001b[39mtime[\u001b[38;5;241m-\u001b[39m\u001b[38;5;241m1\u001b[39m] \u001b[38;5;241m-\u001b[39m \u001b[38;5;28mself\u001b[39m\u001b[38;5;241m.\u001b[39mtime[\u001b[38;5;241m-\u001b[39m\u001b[38;5;241m2\u001b[39m]))\u001b[38;5;241m.\u001b[39mvalue \u001b[38;5;241m*\u001b[39m  \u001b[38;5;66;03m# Time bin scaling\u001b[39;00m\n\u001b[1;32m    315\u001b[0m     \u001b[38;5;241m1\u001b[39m \u001b[38;5;241m/\u001b[39m (\u001b[38;5;241m4\u001b[39m \u001b[38;5;241m*\u001b[39m np\u001b[38;5;241m.\u001b[39mpi \u001b[38;5;241m*\u001b[39m dist \u001b[38;5;241m*\u001b[39m\u001b[38;5;241m*\u001b[39m \u001b[38;5;241m2\u001b[39m)  \u001b[38;5;66;03m# Distance\u001b[39;00m\n\u001b[1;32m    316\u001b[0m )\n",
      "File \u001b[0;32m~/research/ASTERIA/python/asteria/simulation.py:262\u001b[0m, in \u001b[0;36mSimulation.get_combined_spectrum\u001b[0;34m(self, t, E, flavor, mixing)\u001b[0m\n\u001b[1;32m    243\u001b[0m \u001b[38;5;28;01mdef\u001b[39;00m \u001b[38;5;21mget_combined_spectrum\u001b[39m(\u001b[38;5;28mself\u001b[39m, t, E, flavor, mixing):\n\u001b[1;32m    244\u001b[0m     \u001b[38;5;124;03m\"\"\"Returns mixed neutrino spectrum as a function of time and energy arising from flavor oscillations\u001b[39;00m\n\u001b[1;32m    245\u001b[0m \n\u001b[1;32m    246\u001b[0m \u001b[38;5;124;03m    Parameters\u001b[39;00m\n\u001b[0;32m   (...)\u001b[0m\n\u001b[1;32m    260\u001b[0m \u001b[38;5;124;03m        Mixed neutrino spectrum as a 2D array with dim (time, energy)\u001b[39;00m\n\u001b[1;32m    261\u001b[0m \u001b[38;5;124;03m    \"\"\"\u001b[39;00m\n\u001b[0;32m--> 262\u001b[0m     nu_spectrum \u001b[38;5;241m=\u001b[39m \u001b[38;5;28;43mself\u001b[39;49m\u001b[38;5;241;43m.\u001b[39;49m\u001b[43msource\u001b[49m\u001b[38;5;241;43m.\u001b[39;49m\u001b[43mmodel\u001b[49m\u001b[38;5;241;43m.\u001b[39;49m\u001b[43mget_transformed_spectra\u001b[49m\u001b[43m(\u001b[49m\u001b[43mt\u001b[49m\u001b[43m,\u001b[49m\u001b[43m \u001b[49m\u001b[43mE\u001b[49m\u001b[43m,\u001b[49m\u001b[43m \u001b[49m\u001b[43mmixing\u001b[49m\u001b[43m)\u001b[49m[flavor]\u001b[38;5;241m.\u001b[39mreshape(t\u001b[38;5;241m.\u001b[39msize, E\u001b[38;5;241m.\u001b[39msize)\n\u001b[1;32m    263\u001b[0m     cut \u001b[38;5;241m=\u001b[39m (t \u001b[38;5;241m<\u001b[39m \u001b[38;5;28mself\u001b[39m\u001b[38;5;241m.\u001b[39msource\u001b[38;5;241m.\u001b[39mmodel\u001b[38;5;241m.\u001b[39mtime[\u001b[38;5;241m0\u001b[39m]) \u001b[38;5;241m|\u001b[39m (\u001b[38;5;28mself\u001b[39m\u001b[38;5;241m.\u001b[39msource\u001b[38;5;241m.\u001b[39mmodel\u001b[38;5;241m.\u001b[39mtime[\u001b[38;5;241m-\u001b[39m\u001b[38;5;241m1\u001b[39m] \u001b[38;5;241m<\u001b[39m t)\n\u001b[1;32m    264\u001b[0m     \u001b[38;5;66;03m# TODO: Apply a fix for this once a fix has been applied to SNEWPY\u001b[39;00m\n",
      "File \u001b[0;32m~/miniconda3/envs/ic_sn_hnl/lib/python3.10/site-packages/snewpy/models/base.py:147\u001b[0m, in \u001b[0;36mSupernovaModel.get_transformed_spectra\u001b[0;34m(self, t, E, flavor_xform)\u001b[0m\n\u001b[1;32m    130\u001b[0m \u001b[38;5;28;01mdef\u001b[39;00m \u001b[38;5;21mget_transformed_spectra\u001b[39m(\u001b[38;5;28mself\u001b[39m, t, E, flavor_xform):\n\u001b[1;32m    131\u001b[0m     \u001b[38;5;124;03m\"\"\"Get neutrino spectra after applying oscillation.\u001b[39;00m\n\u001b[1;32m    132\u001b[0m \n\u001b[1;32m    133\u001b[0m \u001b[38;5;124;03m    Parameters\u001b[39;00m\n\u001b[0;32m   (...)\u001b[0m\n\u001b[1;32m    145\u001b[0m \u001b[38;5;124;03m        Dictionary of transformed spectra, keyed by neutrino flavor.\u001b[39;00m\n\u001b[1;32m    146\u001b[0m \u001b[38;5;124;03m    \"\"\"\u001b[39;00m\n\u001b[0;32m--> 147\u001b[0m     initialspectra \u001b[38;5;241m=\u001b[39m \u001b[38;5;28;43mself\u001b[39;49m\u001b[38;5;241;43m.\u001b[39;49m\u001b[43mget_initial_spectra\u001b[49m\u001b[43m(\u001b[49m\u001b[43mt\u001b[49m\u001b[43m,\u001b[49m\u001b[43m \u001b[49m\u001b[43mE\u001b[49m\u001b[43m)\u001b[49m\n\u001b[1;32m    148\u001b[0m     transformed_spectra \u001b[38;5;241m=\u001b[39m {}\n\u001b[1;32m    150\u001b[0m     transformed_spectra[Flavor\u001b[38;5;241m.\u001b[39mNU_E] \u001b[38;5;241m=\u001b[39m \\\n\u001b[1;32m    151\u001b[0m         flavor_xform\u001b[38;5;241m.\u001b[39mprob_ee(t, E) \u001b[38;5;241m*\u001b[39m initialspectra[Flavor\u001b[38;5;241m.\u001b[39mNU_E] \u001b[38;5;241m+\u001b[39m \\\n\u001b[1;32m    152\u001b[0m         flavor_xform\u001b[38;5;241m.\u001b[39mprob_ex(t, E) \u001b[38;5;241m*\u001b[39m initialspectra[Flavor\u001b[38;5;241m.\u001b[39mNU_X]\n",
      "File \u001b[0;32m~/miniconda3/envs/ic_sn_hnl/lib/python3.10/site-packages/snewpy/models/base.py:305\u001b[0m, in \u001b[0;36mPinchedModel.get_initial_spectra\u001b[0;34m(self, t, E, flavors)\u001b[0m\n\u001b[1;32m    302\u001b[0m a  \u001b[38;5;241m=\u001b[39m np\u001b[38;5;241m.\u001b[39mexpand_dims(a, axis\u001b[38;5;241m=\u001b[39m\u001b[38;5;241m1\u001b[39m)\n\u001b[1;32m    303\u001b[0m \u001b[38;5;66;03m# For numerical stability, evaluate log PDF and then exponentiate.\u001b[39;00m\n\u001b[1;32m    304\u001b[0m result \u001b[38;5;241m=\u001b[39m \\\n\u001b[0;32m--> 305\u001b[0m   \u001b[43mnp\u001b[49m\u001b[38;5;241;43m.\u001b[39;49m\u001b[43mexp\u001b[49m\u001b[43m(\u001b[49m\u001b[43mnp\u001b[49m\u001b[38;5;241;43m.\u001b[39;49m\u001b[43mlog\u001b[49m\u001b[43m(\u001b[49m\u001b[43mL\u001b[49m\u001b[43m)\u001b[49m\u001b[43m \u001b[49m\u001b[38;5;241;43m-\u001b[39;49m\u001b[43m \u001b[49m\u001b[43m(\u001b[49m\u001b[38;5;241;43m2\u001b[39;49m\u001b[38;5;241;43m+\u001b[39;49m\u001b[43ma\u001b[49m\u001b[43m)\u001b[49m\u001b[38;5;241;43m*\u001b[39;49m\u001b[43mnp\u001b[49m\u001b[38;5;241;43m.\u001b[39;49m\u001b[43mlog\u001b[49m\u001b[43m(\u001b[49m\u001b[43mEa\u001b[49m\u001b[43m)\u001b[49m\u001b[43m \u001b[49m\u001b[38;5;241;43m+\u001b[39;49m\u001b[43m \u001b[49m\u001b[43m(\u001b[49m\u001b[38;5;241;43m1\u001b[39;49m\u001b[38;5;241;43m+\u001b[39;49m\u001b[43ma\u001b[49m\u001b[43m)\u001b[49m\u001b[38;5;241;43m*\u001b[39;49m\u001b[43mnp\u001b[49m\u001b[38;5;241;43m.\u001b[39;49m\u001b[43mlog\u001b[49m\u001b[43m(\u001b[49m\u001b[38;5;241;43m1\u001b[39;49m\u001b[38;5;241;43m+\u001b[39;49m\u001b[43ma\u001b[49m\u001b[43m)\u001b[49m\n\u001b[1;32m    306\u001b[0m \u001b[43m        \u001b[49m\u001b[38;5;241;43m-\u001b[39;49m\u001b[43m \u001b[49m\u001b[43mloggamma\u001b[49m\u001b[43m(\u001b[49m\u001b[38;5;241;43m1\u001b[39;49m\u001b[38;5;241;43m+\u001b[39;49m\u001b[43ma\u001b[49m\u001b[43m)\u001b[49m\u001b[43m \u001b[49m\u001b[38;5;241;43m+\u001b[39;49m\u001b[43m \u001b[49m\u001b[43ma\u001b[49m\u001b[38;5;241;43m*\u001b[39;49m\u001b[43mnp\u001b[49m\u001b[38;5;241;43m.\u001b[39;49m\u001b[43mlog\u001b[49m\u001b[43m(\u001b[49m\u001b[43mE\u001b[49m\u001b[43m)\u001b[49m\u001b[43m \u001b[49m\u001b[38;5;241;43m-\u001b[39;49m\u001b[43m \u001b[49m\u001b[43m(\u001b[49m\u001b[38;5;241;43m1\u001b[39;49m\u001b[38;5;241;43m+\u001b[39;49m\u001b[43ma\u001b[49m\u001b[43m)\u001b[49m\u001b[38;5;241;43m*\u001b[39;49m\u001b[43m(\u001b[49m\u001b[43mE\u001b[49m\u001b[38;5;241;43m/\u001b[39;49m\u001b[43mEa\u001b[49m\u001b[43m)\u001b[49m\u001b[43m)\u001b[49m \u001b[38;5;241m/\u001b[39m (u\u001b[38;5;241m.\u001b[39merg \u001b[38;5;241m*\u001b[39m u\u001b[38;5;241m.\u001b[39ms)\n\u001b[1;32m    307\u001b[0m \u001b[38;5;66;03m#remove bad values\u001b[39;00m\n\u001b[1;32m    308\u001b[0m result[np\u001b[38;5;241m.\u001b[39misnan(result)] \u001b[38;5;241m=\u001b[39m \u001b[38;5;241m0\u001b[39m\n",
      "\u001b[0;31mKeyboardInterrupt\u001b[0m: "
     ]
    }
   ],
   "source": [
    "with h5.File(\"data/serialized_sm_flux.h5\", \"r\") as h5f:\n",
    "    sm_flux = deserialize(h5f[\"sm_flux_0\"])\n",
    "    \n",
    "sm_t, sm_hits = sm_flux.get_hits(\n",
    "    tmax=100 * units[\"second\"],\n",
    "    model_file=\"magnetic_moment.txt\"\n",
    ")\n",
    "\n",
    "out_ = {}\n",
    "\n",
    "with h5.File(SERIALIZED_BSM_FILE, \"r\") as h5f:\n",
    "    for key in tqdm(h5f.keys()):\n",
    "        key_split = key.split(\"_\")[0].split(\"-\")\n",
    "        mass = float(key_split[2].replace(\"MeV\", \"\").replace(\"d\", \".\"))\n",
    "        \n",
    "        # if mass!=100:\n",
    "        #     continue\n",
    "        if mass not in out_:\n",
    "            out_[mass] = []\n",
    "        coupling = float(f\"-{key_split[3][2:].replace('dot', '.')}\".replace(\"d\", \".\"))\n",
    "        flux = deserialize(h5f[key])\n",
    "        \n",
    "        bsm_t, bsm_hits = flux.get_hits(\n",
    "            model_file=\"magnetic_moment.txt\",\n",
    "            tmax=100 * units[\"second\"]\n",
    "        )\n",
    "        \n",
    "        bg_hits = flux.get_background(\n",
    "            shape=bsm_hits.shape,\n",
    "            model_file=\"magnetic_moment.txt\",\n",
    "            tmax=100 * units[\"second\"]\n",
    "        )\n",
    "        \n",
    "        if np.any(sm_t!=bsm_t):\n",
    "            raise ValueError(\"Hit times are different !\")\n",
    "            \n",
    "        significances = []\n",
    "        for scaling in [0.8, 1.0, 1.2]:\n",
    "            significance, _, _ = find_significance_matrix(bsm_hits, sm_hits, scaling * bg_hits, bsm_t)\n",
    "                        \n",
    "            m = ~np.isnan(significance)\n",
    "            significances.append(significance[m].max())\n",
    "            \n",
    "            w = np.where(significance==significance[m].max())\n",
    "            # print(significance[m].max())\n",
    "            # print(w)\n",
    "            print(TMINS[w[0]] / units.second)\n",
    "            print(DTS[w[1]] / units.second)\n",
    "            print()\n",
    "            # print(w)\n",
    "        out_[mass].append((coupling, significances, TMINS[w[0]], DTS[w[1]]))"
   ]
  },
  {
   "cell_type": "code",
   "execution_count": null,
   "id": "6e958f36-3a94-4faa-ba3e-fbd0d78a024a",
   "metadata": {},
   "outputs": [],
   "source": [
    "sensitivities = np.full((3, len(out)), np.nan)\n",
    "\n",
    "for idx in range(3):\n",
    "\n",
    "    a = []\n",
    "    \n",
    "    sorter = np.argsort(list(out_.keys()))\n",
    "    \n",
    "    for k, v in out_.items():\n",
    "        v = sorted(v)\n",
    "\n",
    "        couplings = np.power(10, [x[0] for x in v])\n",
    "        significances = [x[1][idx] for x in v]\n",
    "        \n",
    "        try:\n",
    "            interp = interp1d(np.log(couplings), np.log(significances))\n",
    "            f = lambda lc: np.exp(interp(lc)) - 3.841\n",
    "            res = ridder(f, np.log(couplings[0]), np.log(couplings[-1]))\n",
    "            sens = np.exp(res)\n",
    "            a.append(sens)\n",
    "            \n",
    "            \n",
    "            \n",
    "        except ValueError:\n",
    "            pass\n",
    "    \n",
    "    a = np.array(a)\n",
    "    sensitivities[idx, :] = a[sorter]"
   ]
  }
 ],
 "metadata": {
  "kernelspec": {
   "display_name": "ic_sn_hnl",
   "language": "python",
   "name": "ic_sn_hnl"
  },
  "language_info": {
   "codemirror_mode": {
    "name": "ipython",
    "version": 3
   },
   "file_extension": ".py",
   "mimetype": "text/x-python",
   "name": "python",
   "nbconvert_exporter": "python",
   "pygments_lexer": "ipython3",
   "version": "3.10.11"
  }
 },
 "nbformat": 4,
 "nbformat_minor": 5
}
