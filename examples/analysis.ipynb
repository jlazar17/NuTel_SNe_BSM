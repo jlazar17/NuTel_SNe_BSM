{
 "cells": [
  {
   "cell_type": "code",
   "execution_count": 1,
   "id": "f24f2eaf-5414-4cfd-a165-f804b34b0714",
   "metadata": {},
   "outputs": [],
   "source": [
    "%load_ext autoreload\n",
    "%autoreload 2"
   ]
  },
  {
   "cell_type": "code",
   "execution_count": 1,
   "id": "5e0c6388-1bb0-4946-b385-2f3b6f925eb6",
   "metadata": {},
   "outputs": [],
   "source": [
    "import h5py as h5\n",
    "import numpy as np\n",
    "import os\n",
    "\n",
    "from glob import glob\n",
    "from tqdm import tqdm\n",
    "\n",
    "import matplotlib.pyplot as plt\n",
    "plt.style.use(\"./paper.mplstyle\")\n",
    "\n",
    "from scipy.interpolate import interp1d\n",
    "from scipy.optimize import ridder\n",
    "\n",
    "# Set up ASTERIA\n",
    "import sys\n",
    "ASTERIA_PATH = \"/Users/jlazar/research/ASTERIA\"\n",
    "os.environ[\"ASTERIA\"] = \"/Users/jlazar/research/ASTERIA\"\n",
    "sys.path.append(f\"{ASTERIA_PATH}/python/\")\n",
    "\n",
    "sys.path.append(\"../\")\n",
    "\n",
    "from sne_bsm import units, parameterized_flux_from_h5, deserialize"
   ]
  },
  {
   "cell_type": "code",
   "execution_count": 56,
   "id": "8160e3ea-9bdd-4710-80be-7aaa0dc5a84e",
   "metadata": {},
   "outputs": [],
   "source": [
    "# Where tabulated SM fluxes are stored. See `prepare_h5_file.ipynb` for the expected format\n",
    "TABULATED_SM_FILE = \"data/sm_flux.h5\"\n",
    "# Where to store the parameterized SM flux for later use\n",
    "SERIALIZED_SM_FILE = \"./data/serialized_sm_flux.h5\"\n",
    "# Where tabulated BSM fluxes are stored. See `prepare_h5_file.ipynb` for the expected format\n",
    "TABULATED_BSM_FILE = \"data/majoran_fluxes.h5\"\n",
    "# TABULATED_BSM_FILE = \"data/magnetic_moment_fluxes.h5\"\n",
    "# Where to store the parameterized models for later use\n",
    "SERIALIZED_BSM_FILE = \"./data/serialized_majoran_fluxes.h5\"\n",
    "# SERIALIZED_BSM_FILE = \"./data/serialized_magnetic_moment_fluxes.h5\"\n",
    "# Where to save the computed sensitivities\n",
    "RESULTS_FILE = \"./data/new_results.h5\"\n",
    "# What to call the results in the ``RESULTS\n",
    "RESULTS_NAME = \"majoron_sensitivities\""
   ]
  },
  {
   "cell_type": "markdown",
   "id": "9eeb8543-bb95-441b-802e-34bd08e12c37",
   "metadata": {
    "tags": []
   },
   "source": [
    "# First, we will parameterize the SM flux"
   ]
  },
  {
   "cell_type": "code",
   "execution_count": 58,
   "id": "8eeb8080-8669-4c38-9d97-cb5f0326a317",
   "metadata": {},
   "outputs": [
    {
     "name": "stderr",
     "output_type": "stream",
     "text": [
      "100%|██████████| 1/1 [00:00<00:00, 1779.51it/s]\n"
     ]
    }
   ],
   "source": [
    "if os.path.exists(SERIALIZED_SM_FILE):\n",
    "    with h5.File(SERIALIZED_SM_FILE, \"r\") as h5f:\n",
    "        done_keys = list(h5f.keys())\n",
    "\n",
    "with h5.File(TABULATED_SM_FILE, \"r\") as h5f:\n",
    "    for key, group in tqdm(h5f.items()):\n",
    "        if f\"{key}_0\" in done_keys:\n",
    "            continue\n",
    "        pflux = parameterized_flux_from_h5(group, 10*units.kpc, thin=1, track=False)\n",
    "        pflux.serialize(SERIALIZED_SM_FILE, key)"
   ]
  },
  {
   "cell_type": "markdown",
   "id": "265b515b-7f2c-48b2-9674-d6209441ded2",
   "metadata": {},
   "source": [
    "# Next, we will do the same for the BSM fluxes.\n",
    "\n",
    "Depending on how many fluxes you are considering, this could take awhile...\n",
    "The `thin` parameter can be increased to make this go faster, but will only use one out of every `thin` time point."
   ]
  },
  {
   "cell_type": "code",
   "execution_count": 59,
   "id": "27e888a7-e1bf-40df-832b-6d362564aae4",
   "metadata": {},
   "outputs": [
    {
     "name": "stderr",
     "output_type": "stream",
     "text": [
      "100%|██████████| 63/63 [00:00<00:00, 3451.65it/s]\n"
     ]
    }
   ],
   "source": [
    "thin = 10\n",
    "\n",
    "done_keys = []\n",
    "if os.path.exists(SERIALIZED_BSM_FILE):\n",
    "    with h5.File(SERIALIZED_BSM_FILE) as h5f:\n",
    "        done_keys = list(h5f.keys())\n",
    "\n",
    "with h5.File(TABULATED_BSM_FILE, \"r\") as h5f:\n",
    "    for key, group in tqdm(h5f.items()):\n",
    "        if f\"{key}_0\" in done_keys:\n",
    "            continue\n",
    "        pflux = parameterized_flux_from_h5(group, 10*units.kpc, thin=thin, track=False)\n",
    "        pflux.serialize(SERIALIZED_BSM_FILE, key)"
   ]
  },
  {
   "cell_type": "markdown",
   "id": "8b4333cb-2e3c-45c4-8828-6010b358471e",
   "metadata": {},
   "source": [
    "# Define the likelihood and such"
   ]
  },
  {
   "cell_type": "code",
   "execution_count": 60,
   "id": "181ea8b7-91f0-444d-81a5-345319ce51e4",
   "metadata": {},
   "outputs": [],
   "source": [
    "TMAX = 100 * units[\"second\"]\n",
    "TMIN = 1e-2 * units[\"second\"]\n",
    "TMINS = np.logspace(np.log10(TMIN), np.log10(TMAX), 201)\n",
    "DTS = np.linspace(0.001, 5, 401) * units[\"second\"]\n",
    "\n",
    "def find_significance_matrix(sig_hits, sm_hits, bg_hits, times, tmins=TMINS, dts=DTS):\n",
    "    significance = np.full(tmins.shape + dts.shape, np.nan)\n",
    "\n",
    "    for idx, tmin in enumerate(tmins):\n",
    "        for jdx, dt in enumerate(dts):\n",
    "            m = np.logical_and(tmin < times, times < tmin+dt)\n",
    "            if not m.sum():\n",
    "                continue\n",
    "            significance[idx, jdx] = likelihood(sig_hits[m], sm_hits[m], bg_hits[m])\n",
    "    return significance, tmins, dts\n",
    "\n",
    "def likelihood(sig_hits, sm_hits, bg_hits):\n",
    "    n_obs = (bg_hits + sm_hits).sum()\n",
    "    n_exp = (sig_hits + bg_hits + sm_hits).sum()\n",
    "    llh = 2 * (n_exp - n_obs)\n",
    "    if n_obs > 0:\n",
    "        llh += 2 * n_obs * np.log(n_obs / n_exp)\n",
    "    return llh"
   ]
  },
  {
   "cell_type": "markdown",
   "id": "0d497ef9-c8b7-435e-964c-050c8e9480f6",
   "metadata": {},
   "source": [
    "# Now we can compute the significance"
   ]
  },
  {
   "cell_type": "code",
   "execution_count": 75,
   "id": "2476ff06-23bf-403a-b93c-4b98d723b2d5",
   "metadata": {},
   "outputs": [
    {
     "name": "stderr",
     "output_type": "stream",
     "text": [
      "100%|██████████| 63/63 [1:48:59<00:00, 103.80s/it]\n"
     ]
    }
   ],
   "source": [
    "# with h5.File(\"data/serialized_sm_flux.h5\", \"r\") as h5f:\n",
    "#     sm_flux = deserialize(h5f[\"sm_flux_0\"])\n",
    "    \n",
    "# sm_t, sm_hits = sm_flux.get_hits(\n",
    "#     tmax=100 * units[\"second\"],\n",
    "#     model_file=\"magnetic_moment.txt\"\n",
    "# )\n",
    "out = {}\n",
    "\n",
    "with h5.File(SERIALIZED_BSM_FILE, \"r\") as h5f:\n",
    "    for key in tqdm(h5f.keys()):\n",
    "        key_split = key.split(\"_\")[0].split(\"-\")\n",
    "        mass = float(key_split[2].replace(\"MeV\", \"\").replace(\"d\", \".\"))\n",
    "        \n",
    "        # if mass!=100:\n",
    "        #     continue\n",
    "        if mass not in out:\n",
    "            out[mass] = []\n",
    "        coupling = float(f\"-{key_split[3][2:].replace('dot', '.')}\".replace(\"d\", \".\"))\n",
    "        flux = deserialize(h5f[key])\n",
    "        \n",
    "        bsm_t, bsm_hits = flux.get_hits(\n",
    "            model_file=\"magnetic_moment.txt\",\n",
    "            tmax=100 * units[\"second\"]\n",
    "        )\n",
    "        \n",
    "        bg_hits = flux.get_background(\n",
    "            shape=bsm_hits.shape,\n",
    "            model_file=\"magnetic_moment.txt\",\n",
    "            tmax=100 * units[\"second\"]\n",
    "        )\n",
    "        \n",
    "        if np.any(sm_t!=bsm_t):\n",
    "            raise ValueError(\"Hit times are different !\")\n",
    "            \n",
    "        significance, _, _ = find_significance_matrix(bsm_hits, sm_hits, bg_hits, bsm_t)\n",
    "        m = ~np.isnan(significance)\n",
    "        out[mass].append((coupling, significance[m].max()))"
   ]
  },
  {
   "cell_type": "markdown",
   "id": "69a37888-5884-4592-8467-11da02e615ee",
   "metadata": {},
   "source": [
    "# Compute the sensitivity by interpolating in log-space on the points in parameter space from the last step."
   ]
  },
  {
   "cell_type": "code",
   "execution_count": 76,
   "id": "e2217c94-9c6b-4b12-a5fa-af251eb07160",
   "metadata": {},
   "outputs": [],
   "source": [
    "sensitivities = []\n",
    "\n",
    "for k, v in out.items():\n",
    "    v = sorted(v)\n",
    "    \n",
    "    couplings = np.power(10, [x[0] for x in v])\n",
    "    significnces = [x[1] for x in v]\n",
    "    \n",
    "    try:\n",
    "        interp = interp1d(np.log(couplings), np.log(significnces))\n",
    "        f = lambda lc: np.exp(interp(lc)) - 3.841\n",
    "        res = ridder(f, np.log(couplings[0]), np.log(couplings[-1]))\n",
    "        sens = np.exp(res)\n",
    "        sensitivities.append((k, sens))\n",
    "    except ValueError:\n",
    "        pass\n",
    "    \n",
    "sensitivities = sorted(sensitivities)"
   ]
  },
  {
   "cell_type": "code",
   "execution_count": 77,
   "id": "ea11597d-6d7b-4cbc-98c5-ed375352c052",
   "metadata": {},
   "outputs": [],
   "source": [
    "masses = np.array([x[0] for x in sensitivities])\n",
    "couplings = np.array([x[1] for x in sensitivities])\n",
    "\n",
    "if not os.path.exists(RESULTS_FILE):\n",
    "    with h5.File(RESULTS_FILE, \"w\") as _:\n",
    "        pass\n",
    "\n",
    "with h5.File(RESULTS_FILE, \"r+\") as h5f:\n",
    "    if RESULTS_NAME in h5f.keys():\n",
    "        del h5f[RESULTS_NAME]\n",
    "    h5f.create_group(RESULTS_NAME)\n",
    "    h5f[RESULTS_NAME].create_dataset(\"masses\", data=masses)\n",
    "    h5f[RESULTS_NAME].create_dataset(\"couplings\", data=couplings)"
   ]
  },
  {
   "cell_type": "markdown",
   "id": "dec9fccd-160b-43b3-b3dd-b2b2eba1d432",
   "metadata": {},
   "source": [
    "# Now let's do it all again for Gen2\n",
    "\n",
    "We will estimate this by scaling the number of hits seen in the Gen1 case by the \"effective photoncathode area.\"\n",
    "We define this to be:\n",
    "$$\n",
    "\\sum_{i\\in\\mathrm{modules}} \\varepsilon_{i} \\times A_{i},\n",
    "$$\n",
    "where $\\varepsilon_{i}$ and $A_{i}$ are the quantum efficiency (QE) and photocathode area for a given OM.\n",
    "IceCube has 5,160 optical modules.\n",
    "4,680 of these use Hamamatsu R7081-02 with a 10-inch photo cathode diameter and a QE of 0.25, while the remaining 480 of these use Hamamatsu R7081-02MOD with a 10-inch photocathode diameter and a QE of 0.34.\n",
    "See [the IceCube instrumentation on online systems paper](https://arxiv.org/abs/1612.05093) for further details.\n",
    "IceCube Gen2 will contain 9,600 new optical modules, each with 24 3-inch PMTs with quantum efficiency equal to the high-QE Gen1 OMs.\n",
    "See [this paper](https://arxiv.org/abs/2008.04323) for details"
   ]
  },
  {
   "cell_type": "code",
   "execution_count": 79,
   "id": "56b9ab24-589b-4c54-87e8-bf7fcb775c3c",
   "metadata": {},
   "outputs": [],
   "source": [
    "ep1 = 0.25\n",
    "ep2 = 0.34\n",
    "\n",
    "gen1_area = np.pi * (10 / 2)**2\n",
    "gen2_area = 24 * np.pi * (3 / 2)**2\n",
    "\n",
    "gen1_eff_pc_area = 4680 * gen1_area * ep1 + 480 * gen1_area * ep2\n",
    "gen2_eff_pc_area = gen1_eff_pc_area + 9600 * gen2_area * ep2\n",
    "\n",
    "r = gen2_eff_pc_area / gen1_eff_pc_area"
   ]
  },
  {
   "cell_type": "code",
   "execution_count": 83,
   "id": "2b530a30-c2e8-4564-a4eb-3ec730700951",
   "metadata": {},
   "outputs": [
    {
     "name": "stderr",
     "output_type": "stream",
     "text": [
      "100%|██████████| 63/63 [1:48:17<00:00, 103.14s/it]\n"
     ]
    }
   ],
   "source": [
    "with h5.File(SERIALIZED_SM_FILE, \"r\") as h5f:\n",
    "    sm_flux = deserialize(h5f[\"sm_flux_0\"])\n",
    "    \n",
    "sm_t, sm_hits = sm_flux.get_hits(\n",
    "    tmax=100 * units[\"second\"],\n",
    "    model_file=\"magnetic_moment.txt\"\n",
    ")\n",
    "\n",
    "sm_hits *= r\n",
    "\n",
    "out = {}\n",
    "\n",
    "with h5.File(SERIALIZED_BSM_FILE, \"r\") as h5f:\n",
    "    for key in tqdm(h5f.keys()):\n",
    "        key_split = key.split(\"_\")[0].split(\"-\")\n",
    "        mass = float(key_split[2].replace(\"MeV\", \"\").replace(\"d\", \".\"))\n",
    "\n",
    "        if mass not in out:\n",
    "            out[mass] = []\n",
    "        coupling = float(f\"-{key_split[3][2:].replace('dot', '.')}\".replace(\"d\", \".\"))\n",
    "        flux = deserialize(h5f[key])\n",
    "        \n",
    "        bsm_t, bsm_hits = flux.get_hits(\n",
    "            model_file=\"magnetic_moment.txt\",\n",
    "            tmax=100 * units[\"second\"]\n",
    "        )\n",
    "        \n",
    "        bsm_hits *= r\n",
    "        \n",
    "        bg_hits = flux.get_background(\n",
    "            shape=bsm_hits.shape,\n",
    "            model_file=\"magnetic_moment.txt\",\n",
    "            tmax=100 * units[\"second\"]\n",
    "        )\n",
    "        \n",
    "        bg_hits *= r\n",
    "        \n",
    "        if np.any(sm_t!=bsm_t):\n",
    "            raise ValueError(\"Hit times are different !\")\n",
    "            \n",
    "        significance, _, _ = find_significance_matrix(bsm_hits, sm_hits, bg_hits, bsm_t)\n",
    "        m = ~np.isnan(significance)\n",
    "        out[mass].append((coupling, significance[m].max()))"
   ]
  },
  {
   "cell_type": "code",
   "execution_count": 84,
   "id": "900fe525-28b5-4bc2-a4a2-bb1a9d06d058",
   "metadata": {},
   "outputs": [],
   "source": [
    "sensitivities = []\n",
    "\n",
    "for k, v in out.items():\n",
    "    v = sorted(v)\n",
    "    \n",
    "    couplings = np.power(10, [x[0] for x in v])\n",
    "    significnces = [x[1] for x in v]\n",
    "    \n",
    "    try:\n",
    "        interp = interp1d(np.log(couplings), np.log(significnces))\n",
    "        f = lambda lc: np.exp(interp(lc)) - 3.841\n",
    "        res = ridder(f, np.log(couplings[0]), np.log(couplings[-1]))\n",
    "        sens = np.exp(res)\n",
    "        sensitivities.append((k, sens))\n",
    "    except ValueError:\n",
    "        pass"
   ]
  },
  {
   "cell_type": "code",
   "execution_count": 85,
   "id": "10204305-a982-4789-833c-e1cc7464a778",
   "metadata": {},
   "outputs": [],
   "source": [
    "sensitivities  = sorted(sensitivities)\n",
    "masses = np.array([x[0] for x in sensitivities])\n",
    "couplings = np.array([x[1] for x in sensitivities])\n",
    "\n",
    "if not os.path.exists(RESULTS_FILE):\n",
    "    with h5.File(RESULTS_FILE, \"w\") as _:\n",
    "        pass\n",
    "\n",
    "with h5.File(RESULTS_FILE, \"r+\") as h5f:\n",
    "    if f\"{RESULTS_NAME}_gen2\" in h5f.keys():\n",
    "        del h5f[f\"{RESULTS_NAME}_gen2\"]\n",
    "    h5f.create_group(f\"{RESULTS_NAME}_gen2\")\n",
    "    h5f[f\"{RESULTS_NAME}_gen2\"].create_dataset(\"masses\", data=masses)\n",
    "    h5f[f\"{RESULTS_NAME}_gen2\"].create_dataset(\"couplings\", data=couplings)"
   ]
  },
  {
   "cell_type": "code",
   "execution_count": 89,
   "id": "37a65381-4757-452d-b3fa-18c86a751293",
   "metadata": {},
   "outputs": [
    {
     "data": {
      "image/png": "[encoded data removed]",
      "text/plain": [
       "<Figure size 432x288 with 1 Axes>"
      ]
     },
     "metadata": {
      "needs_background": "light"
     },
     "output_type": "display_data"
    }
   ],
   "source": [
    "fig, ax = plt.subplots()\n",
    "\n",
    "for suffix, label in zip([\"\", \"_gen2\"], [\"Gen1\", \"Gen2\"]):\n",
    "    with h5.File(RESULTS_FILE) as h5f:\n",
    "        gp = h5f[f\"{RESULTS_NAME}{suffix}\"]\n",
    "        ax.plot(gp[\"masses\"][:], gp[\"couplings\"][:], label=label)\n",
    "\n",
    "ax.loglog()\n",
    "ax.legend()\n",
    "ax.set_xlabel(r\"$m_{\\chi}~\\left[\\mathrm{MeV}\\right]$\")\n",
    "ax.set_ylabel(r\"$d~\\left[\\mathrm{MeV}^{-1}\\right]$\")\n",
    "# Uncomment if doing majoran case\n",
    "# ax.set_ylabel(r\"$g_{\\phi}$\")\n",
    "plt.show()"
   ]
  }
 ],
 "metadata": {
  "kernelspec": {
   "display_name": "ic_sn_hnl",
   "language": "python",
   "name": "ic_sn_hnl"
  },
  "language_info": {
   "codemirror_mode": {
    "name": "ipython",
    "version": 3
   },
   "file_extension": ".py",
   "mimetype": "text/x-python",
   "name": "python",
   "nbconvert_exporter": "python",
   "pygments_lexer": "ipython3",
   "version": "3.10.11"
  }
 },
 "nbformat": 4,
 "nbformat_minor": 5
}
