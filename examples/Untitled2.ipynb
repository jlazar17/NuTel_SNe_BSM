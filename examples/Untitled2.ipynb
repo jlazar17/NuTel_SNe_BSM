{
 "cells": [
  {
   "cell_type": "code",
   "execution_count": 1,
   "id": "6083f583-0fa2-49a6-8d57-2eb4bb8bbd7f",
   "metadata": {},
   "outputs": [],
   "source": [
    "%load_ext autoreload\n",
    "%autoreload 2"
   ]
  },
  {
   "cell_type": "code",
   "execution_count": 2,
   "id": "3509d51c-624e-480a-8ebf-5b945a39520a",
   "metadata": {},
   "outputs": [],
   "source": [
    "import h5py as h5\n",
    "import numpy as np\n",
    "import os\n",
    "\n",
    "from glob import glob\n",
    "from tqdm import tqdm\n",
    "\n",
    "import matplotlib.pyplot as plt\n",
    "plt.style.use(\"../paper.mplstyle\")\n",
    "\n",
    "from scipy.interpolate import interp1d\n",
    "from scipy.optimize import ridder\n",
    "\n",
    "import sys\n",
    "sys.path.append(\"../\")\n",
    "sys.path.append(\"../../ASTERIA/python/\")\n",
    "from ic_sn_hnl import parameterized_flux_from_files, units\n",
    "from ic_sn_hnl.flux.parametrize_flux import compute_moment, Params, parameterized_flux_from_h5, deserialize\n",
    "from ic_sn_hnl.flux.sanitize_flux import sanitize_flux\n",
    "\n",
    "from tqdm import tqdm\n",
    "\n",
    "import os\n",
    "os.environ[\"ASTERIA\"] = \"/Users/jlazar/research/ASTERIA\""
   ]
  },
  {
   "cell_type": "code",
   "execution_count": 3,
   "id": "f8cc67c9-34c1-4139-a6a1-f89208123b12",
   "metadata": {},
   "outputs": [],
   "source": [
    "# infiles = glob(\"../data/magnetic_moment_100s/from_yingying/*.csv\")\n",
    "# for infile in tqdm(infiles):\n",
    "#     outfile = f\"./data/{infile.split('/')[-1].replace('csv', 'npy')}\"\n",
    "#     a = np.genfromtxt(infile, delimiter=\",\")\n",
    "#     a[:, 2] = a[:, 2] / 6\n",
    "#     np.save(outfile, a)"
   ]
  },
  {
   "cell_type": "code",
   "execution_count": 5,
   "id": "0f7dee1b-2836-47b6-a61c-3645a41c3aa2",
   "metadata": {},
   "outputs": [],
   "source": [
    "# outfile = \"./data/magnetic_moment_100s_fluxes.h5\"\n",
    "\n",
    "# if not os.path.exists(outfile):\n",
    "#     with h5.File(outfile, \"w\") as _:\n",
    "#         pass\n",
    "\n",
    "# for infile in tqdm(infiles):\n",
    "#     key = infile.split(\"/\")[-1].replace(\".csv\", \"\")\n",
    "#     infile = f\"./data/{infile.split('/')[-1].replace('csv', 'npy')}\"\n",
    "#     arr = np.load(infile)\n",
    "#     times = np.sort(np.unique(arr[:, 0])) * units[\"second\"]\n",
    "#     energies = np.sort(np.unique(arr[:, 1])) * units[\"MeV\"]\n",
    "#     fluxes = np.empty(times.shape + energies.shape + (3,),)\n",
    "\n",
    "#     for idx in range(len(times)):\n",
    "#         flux = arr[idx*len(energies):(idx+1)*len(energies), 2] / units[\"MeV\"] / units[\"second\"]\n",
    "#         flux = np.where(flux >= 0, flux, 0) # Sometimes numerical issues can sneak in to give negative fluxes\n",
    "#         fluxes[idx, :, 0] = flux # nue\n",
    "#         fluxes[idx, :, 1] = flux # nuebar\n",
    "#         fluxes[idx, :, 2] = flux # nux per flavor\n",
    "\n",
    "#     with h5.File(outfile, \"r+\") as h5f:\n",
    "\n",
    "#         if key in h5f.keys():\n",
    "#             del h5f[key]\n",
    "\n",
    "#         h5f.create_group(key)\n",
    "#         h5f[key].create_dataset(\"energies\", data=energies)\n",
    "#         h5f[key].create_dataset(\"times\", data=times)\n",
    "#         h5f[key].create_dataset(\"fluxes\", data=fluxes)"
   ]
  },
  {
   "cell_type": "code",
   "execution_count": 6,
   "id": "4c52884b-2217-4cfe-93b0-f18ee094ac8d",
   "metadata": {},
   "outputs": [
    {
     "name": "stderr",
     "output_type": "stream",
     "text": [
      "100%|██████████| 1/1 [00:00<00:00, 1575.03it/s]\n"
     ]
    }
   ],
   "source": [
    "key = \"sm_flux\"\n",
    "infile = \"data/sm_flux.h5\"\n",
    "serialize_file = \"./data/serialized_sm_flux.h5\"\n",
    "\n",
    "with h5.File(serialize_file) as h5f:\n",
    "    done_keys = list(h5f.keys())\n",
    "\n",
    "with h5.File(infile, \"r\") as h5f:\n",
    "    for key, group in tqdm(h5f.items()):\n",
    "        if f\"{key}_0\" in done_keys:\n",
    "            continue\n",
    "        pflux = parameterized_flux_from_h5(group, 10*units.kpc, thin=100)\n",
    "        pflux.serialize(serialize_file, key)"
   ]
  },
  {
   "cell_type": "code",
   "execution_count": 7,
   "id": "eba980eb-a2ac-4437-a60a-15ca415be672",
   "metadata": {},
   "outputs": [
    {
     "name": "stderr",
     "output_type": "stream",
     "text": [
      "100%|██████████| 4/4 [00:00<00:00, 2728.89it/s]\n"
     ]
    }
   ],
   "source": [
    "infile = \"data/magnetic_moment_100s_fluxes.h5\"\n",
    "serialize_file = \"./data/serialized_magnetic_moment_100s_fluxes.h5\"\n",
    "\n",
    "thin = 50\n",
    "\n",
    "done_keys = []\n",
    "if os.path.exists(serialize_file):\n",
    "    with h5.File(serialize_file) as h5f:\n",
    "        done_keys = list(h5f.keys())\n",
    "\n",
    "with h5.File(infile, \"r\") as h5f:\n",
    "    for key, group in tqdm(h5f.items()):\n",
    "        if f\"{key}_0\" in done_keys:\n",
    "            continue\n",
    "        pflux = parameterized_flux_from_h5(group, 10*units.kpc, thin=thin, track=False)\n",
    "        pflux.serialize(serialize_file, key)"
   ]
  },
  {
   "cell_type": "code",
   "execution_count": 8,
   "id": "677effe9-fb3a-46e3-b0c3-aa0852e33af0",
   "metadata": {},
   "outputs": [],
   "source": [
    "TMAX = 100 * units[\"second\"]\n",
    "TMIN = 1e-2 * units[\"second\"]\n",
    "TMINS = np.logspace(np.log10(TMIN), np.log10(TMAX), 201)\n",
    "DTS = np.linspace(0.001, 5, 401) * units[\"second\"]\n",
    "def find_significance_matrix(sig_hits, sm_hits, bg_hits, times, tmins=TMINS, dts=DTS):\n",
    "    significance = np.full(tmins.shape + dts.shape, np.nan)\n",
    "\n",
    "    for idx, tmin in enumerate(tmins):\n",
    "        for jdx, dt in enumerate(dts):\n",
    "            m = np.logical_and(tmin < times, times < tmin+dt)\n",
    "            if not m.sum():\n",
    "                continue\n",
    "            significance[idx, jdx] = likelihood(sig_hits[m], sm_hits[m], bg_hits[m])\n",
    "    return significance, tmins, dts\n",
    "\n",
    "def likelihood(sig_hits, sm_hits, bg_hits):\n",
    "    n_obs = (bg_hits + sm_hits).sum()\n",
    "    n_exp = (sig_hits + bg_hits + sm_hits).sum()\n",
    "    llh = 2 * (n_exp - n_obs)\n",
    "    if n_obs > 0:\n",
    "        llh += 2 * n_obs * np.log(n_obs / n_exp)\n",
    "    return llh"
   ]
  },
  {
   "cell_type": "code",
   "execution_count": 9,
   "id": "fd493940-05bc-4b20-b1ba-6b325feaef8a",
   "metadata": {},
   "outputs": [
    {
     "name": "stderr",
     "output_type": "stream",
     "text": [
      "100%|██████████| 4/4 [03:40<00:00, 55.19s/it]\n"
     ]
    }
   ],
   "source": [
    "with h5.File(\"data/serialized_sm_flux.h5\", \"r\") as h5f:\n",
    "    sm_flux = deserialize(h5f[\"sm_flux_0\"])\n",
    "    \n",
    "sm_t, sm_hits = sm_flux.get_hits(\n",
    "    tmax=100 * units[\"second\"],\n",
    "    model_file=\"magnetic_moment_100s.txt\"\n",
    ")\n",
    "out = {}\n",
    "\n",
    "with h5.File(\"./data/serialized_magnetic_moment_100s_fluxes.h5\", \"r\") as h5f:\n",
    "    for key in tqdm(h5f.keys()):\n",
    "        key_split = key.split(\"_\")[0].split(\"-\")\n",
    "        mass = float(key_split[2].replace(\"MeV\", \"\"))\n",
    "        if mass not in out:\n",
    "            out[mass] = []\n",
    "        coupling = float(f\"-{key_split[3][2:].replace('dot', '.')}\")\n",
    "        flux = deserialize(h5f[key])\n",
    "        \n",
    "        bsm_t, bsm_hits = flux.get_hits(\n",
    "            model_file=\"magnetic_moment_100s.txt\",\n",
    "            tmax=100 * units[\"second\"]\n",
    "        )\n",
    "        \n",
    "        bg_hits = flux.get_background(\n",
    "            shape=bsm_hits.shape,\n",
    "            model_file=\"magnetic_moment_100s.txt\",\n",
    "            tmax=100 * units[\"second\"]\n",
    "        )\n",
    "        \n",
    "        if np.any(sm_t!=bsm_t):\n",
    "            raise ValueError(\"Hit times are different !\")\n",
    "            \n",
    "        significance, _, _ = find_significance_matrix(bsm_hits, sm_hits, bg_hits, bsm_t)\n",
    "        m = ~np.isnan(significance)\n",
    "        out[mass].append((coupling, significance[m].max()))"
   ]
  },
  {
   "cell_type": "code",
   "execution_count": 10,
   "id": "d1e0acdc-b3f9-4e06-ab1d-54e0b9865c45",
   "metadata": {},
   "outputs": [
    {
     "name": "stdout",
     "output_type": "stream",
     "text": [
      "10.0\n"
     ]
    },
    {
     "data": {
      "image/png": "[encoded data removed]",
      "text/plain": [
       "<Figure size 432x288 with 1 Axes>"
      ]
     },
     "metadata": {
      "needs_background": "light"
     },
     "output_type": "display_data"
    },
    {
     "name": "stdout",
     "output_type": "stream",
     "text": [
      "1.0\n"
     ]
    },
    {
     "data": {
      "image/png": "[encoded data removed]",
      "text/plain": [
       "<Figure size 432x288 with 1 Axes>"
      ]
     },
     "metadata": {
      "needs_background": "light"
     },
     "output_type": "display_data"
    }
   ],
   "source": [
    "sensitivities = []\n",
    "\n",
    "for k, v in out.items():\n",
    "    print(k)\n",
    "    v = sorted(v)\n",
    "    _, ax = plt.subplots()\n",
    "    \n",
    "    couplings = np.power(10, [x[0] for x in v])\n",
    "    significnces = [x[1] for x in v]\n",
    "    \n",
    "    plot_sens = True\n",
    "    try:\n",
    "        interp = interp1d(np.log(couplings), np.log(significnces))\n",
    "        f = lambda lc: np.exp(interp(lc)) - 3.841\n",
    "        res = ridder(f, np.log(couplings[0]), np.log(couplings[-1]))\n",
    "        sens = np.exp(res)\n",
    "        sensitivities.append((k, sens))\n",
    "    except ValueError:\n",
    "        plot_sens = False\n",
    "    \n",
    "    # print(res)\n",
    "    \n",
    "    ax.plot(couplings, significnces)\n",
    "    ax.scatter(couplings, significnces)\n",
    "    if plot_sens:\n",
    "        ax.scatter([sens], [np.exp(interp(res))], marker=\"*\", zorder=10, s=200, label=\"Sensitivity\")\n",
    "    ax.loglog()\n",
    "    ax.axhline(3.841)\n",
    "    ax.set_xlim(1e-14, 6e-14)\n",
    "    ax.set_ylim(1e-6, 8)\n",
    "    \n",
    "    ax.set\n",
    "    \n",
    "    plt.show()\n",
    "    \n",
    "    "
   ]
  },
  {
   "cell_type": "code",
   "execution_count": null,
   "id": "d94393c0-882b-431a-a11a-013ffddfba1f",
   "metadata": {},
   "outputs": [],
   "source": []
  }
 ],
 "metadata": {
  "kernelspec": {
   "display_name": "ic_sn_hnl",
   "language": "python",
   "name": "ic_sn_hnl"
  },
  "language_info": {
   "codemirror_mode": {
    "name": "ipython",
    "version": 3
   },
   "file_extension": ".py",
   "mimetype": "text/x-python",
   "name": "python",
   "nbconvert_exporter": "python",
   "pygments_lexer": "ipython3",
   "version": "3.10.11"
  }
 },
 "nbformat": 4,
 "nbformat_minor": 5
}
