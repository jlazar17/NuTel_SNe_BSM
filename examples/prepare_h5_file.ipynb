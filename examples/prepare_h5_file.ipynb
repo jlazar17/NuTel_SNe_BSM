{
 "cells": [
  {
   "cell_type": "code",
   "execution_count": null,
   "id": "04902e94-8bba-47f1-8d4f-0fb3176bf7a2",
   "metadata": {},
   "outputs": [],
   "source": [
    "%load_ext autoreload\n",
    "%autoreload 2"
   ]
  },
  {
   "cell_type": "code",
   "execution_count": null,
   "id": "e2f02b51-fcc7-4e03-acea-9ced09b6c304",
   "metadata": {},
   "outputs": [],
   "source": [
    "import h5py as h5\n",
    "import numpy as np\n",
    "import os\n",
    "\n",
    "import sys\n",
    "sys.path.append(\"../\")\n",
    "sys.path.append(\"../../ASTERIA/python/\")\n",
    "from sne_bsm.units import units"
   ]
  },
  {
   "cell_type": "code",
   "execution_count": null,
   "id": "35d93caa-c565-41cf-85c0-f41acd5b4049",
   "metadata": {},
   "outputs": [],
   "source": [
    "# def find_first_spike(arr: np.ndarray, thresh=1e10):\n",
    "#     for idx, (v1, v2) in zip(arr, arr[1:]):\n",
    "#         if v2 / v1 < thresh:\n",
    "#             continue\n",
    "#         return idx\n",
    "#     return 0"
   ]
  },
  {
   "cell_type": "code",
   "execution_count": null,
   "id": "f512c6e7-3f6a-439f-87a8-c843820812ed",
   "metadata": {},
   "outputs": [],
   "source": [
    "infile = \"./data/dphi-dEdt-100MeV-gn11dot8-100s-nf.csv\"\n",
    "outfile = \"./fluxes.h5\"\n",
    "\n",
    "if not os.path.exists(outfile):\n",
    "    with h5.File(outfile, \"w\") as _:\n",
    "        pass\n",
    "\n",
    "key = infile.split(\"/\")[-1].replace(\".csv\", \"\")\n",
    "\n",
    "arr = np.genfromtxt(infile, delimiter=\",\")\n",
    "times = np.sort(np.unique(arr[:, 0])) * units[\"second\"]\n",
    "energies = np.sort(np.unique(arr[:, 1])) * units[\"MeV\"]\n",
    "fluxes = np.empty(times.shape + energies.shape + (3,),)\n",
    "\n",
    "for idx in range(len(times)):\n",
    "    flux = arr[idx*len(energies):(idx+1)*len(energies), 2] / units[\"MeV\"] / units[\"second\"]\n",
    "    flux = np.where(flux >= 0, flux, 0) # Sometimes numerical issues can sneak in to give negative fluxes\n",
    "    fluxes[idx, :, 0] = flux # nue\n",
    "    fluxes[idx, :, 1] = flux # nuebar\n",
    "    fluxes[idx, :, 2] = flux # nux per flavor\n",
    "\n",
    "with h5.File(outfile, \"r+\") as h5f:\n",
    "    \n",
    "    if key in h5f.keys():\n",
    "        del h5f[key]\n",
    "    \n",
    "    h5f.create_group(key)\n",
    "    h5f[key].create_dataset(\"energies\", data=energies)\n",
    "    h5f[key].create_dataset(\"times\", data=times)\n",
    "    h5f[key].create_dataset(\"fluxes\", data=fluxes)\n",
    "    # add meta data if you want\n",
    "    h5f[key].attrs[\"mass\"] = 150*units[\"MeV\"]\n",
    "    h5f[key].attrs[\"log_coupling\"] = -14"
   ]
  },
  {
   "cell_type": "code",
   "execution_count": null,
   "id": "430143c6-6e90-40d1-ace0-43eb0bf21760",
   "metadata": {},
   "outputs": [],
   "source": [
    "infile = \"./data/dphi-dEdt-100MeV-gn11dot8-100s-nf.csv\"\n",
    "outfile = \"./fluxes.h5\"\n",
    "\n",
    "if not os.path.exists(outfile):\n",
    "    with h5.File(outfile, \"w\") as _:\n",
    "        pass\n",
    "\n",
    "key = infile.split(\"/\")[-1].replace(\".csv\", \"\")\n",
    "\n",
    "arr = np.genfromtxt(infile, delimiter=\",\")\n",
    "times = np.sort(np.unique(arr[:, 0])) * units[\"second\"]\n",
    "energies = np.sort(np.unique(arr[:, 1])) * units[\"MeV\"]\n",
    "fluxes = np.empty(times.shape + energies.shape + (3,),)\n",
    "\n",
    "for idx in range(len(times)):\n",
    "    flux = arr[idx*len(energies):(idx+1)*len(energies), 2] / units[\"MeV\"] / units[\"second\"]\n",
    "    flux = np.where(flux >= 0, flux, 0) # Sometimes numerical issues can sneak in to give negative fluxes\n",
    "    fluxes[idx, :, 0] = flux # nue\n",
    "    fluxes[idx, :, 1] = flux # nuebar\n",
    "    fluxes[idx, :, 2] = flux # nux per flavor\n",
    "\n",
    "with h5.File(outfile, \"r+\") as h5f:\n",
    "    \n",
    "    if key in h5f.keys():\n",
    "        del h5f[key]\n",
    "    \n",
    "    h5f.create_group(key)\n",
    "    h5f[key].create_dataset(\"energies\", data=energies)\n",
    "    h5f[key].create_dataset(\"times\", data=times)\n",
    "    h5f[key].create_dataset(\"fluxes\", data=fluxes)\n",
    "    # add meta data if you want\n",
    "    h5f[key].attrs[\"mass\"] = 150*units[\"MeV\"]\n",
    "    h5f[key].attrs[\"log_coupling\"] = -14"
   ]
  },
  {
   "cell_type": "code",
   "execution_count": null,
   "id": "b12ddf1f-d26a-4d4e-bca0-42d17d69c519",
   "metadata": {},
   "outputs": [],
   "source": [
    "idx = np.argwhere(times==10)[0][0]"
   ]
  },
  {
   "cell_type": "code",
   "execution_count": null,
   "id": "29ff10e5-e086-413a-ba7c-e9ab9d6e79fe",
   "metadata": {},
   "outputs": [],
   "source": [
    "flux = arr[idx*len(energies):(idx+1)*len(energies), 2]"
   ]
  },
  {
   "cell_type": "code",
   "execution_count": null,
   "id": "8a8fd309-ed72-4967-a1ca-f035b847076f",
   "metadata": {},
   "outputs": [],
   "source": [
    "plt.plot(energies, flux)"
   ]
  },
  {
   "cell_type": "code",
   "execution_count": null,
   "id": "10428620-550e-427e-8515-08639556bd50",
   "metadata": {},
   "outputs": [],
   "source": [
    "import matplotlib.pyplot as plt"
   ]
  },
  {
   "cell_type": "code",
   "execution_count": null,
   "id": "b12fa8a0-05bc-4b72-9564-e4c80ccfd27d",
   "metadata": {},
   "outputs": [],
   "source": []
  }
 ],
 "metadata": {
  "kernelspec": {
   "display_name": "Python 3 (ipykernel)",
   "language": "python",
   "name": "python3"
  },
  "language_info": {
   "codemirror_mode": {
    "name": "ipython",
    "version": 3
   },
   "file_extension": ".py",
   "mimetype": "text/x-python",
   "name": "python",
   "nbconvert_exporter": "python",
   "pygments_lexer": "ipython3",
   "version": "3.10.9"
  }
 },
 "nbformat": 4,
 "nbformat_minor": 5
}
